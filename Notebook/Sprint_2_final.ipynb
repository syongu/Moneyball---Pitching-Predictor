{
  "cells": [
    {
      "cell_type": "markdown",
      "id": "b811ed23-dbfd-4ee8-8faf-51e02924cde4",
      "metadata": {
        "id": "b811ed23-dbfd-4ee8-8faf-51e02924cde4"
      },
      "source": [
        "# Sprint 2"
      ]
    },
    {
      "cell_type": "markdown",
      "id": "47f41d40-4621-4c87-987f-2508e867077b",
      "metadata": {
        "id": "47f41d40-4621-4c87-987f-2508e867077b"
      },
      "source": [
        "We will start with the feature engineering opportunities from Sprint 1."
      ]
    },
    {
      "cell_type": "markdown",
      "id": "6946c404-ffdd-4394-b810-3a8d83837971",
      "metadata": {
        "id": "6946c404-ffdd-4394-b810-3a8d83837971"
      },
      "source": [
        "- The pitch count for the pitcher in the game.\n",
        "- Previous at-bat result\n",
        "- Result of the last pitch\n",
        "- How to simulate the on-base situation with on_1b, on_2b and on_3b\n",
        "- Simplify the result and pitch type through data cleaning"
      ]
    },
    {
      "cell_type": "markdown",
      "id": "22882850-51fa-4bbe-95b1-e6b70b6377eb",
      "metadata": {
        "id": "22882850-51fa-4bbe-95b1-e6b70b6377eb"
      },
      "source": [
        "## Loading Dataframe"
      ]
    },
    {
      "cell_type": "code",
      "execution_count": 1,
      "id": "fba5a959-9839-4a74-a44a-e0c2c0ec6022",
      "metadata": {
        "id": "fba5a959-9839-4a74-a44a-e0c2c0ec6022"
      },
      "outputs": [],
      "source": [
        "import numpy as np\n",
        "import pandas as pd\n",
        "import seaborn as sns\n",
        "import matplotlib.pyplot as plt\n",
        "\n",
        "pd.options.display.float_format = '{:.2f}'.format\n",
        "#pd.options.mode.chained_assignment = None  # default='warn'"
      ]
    },
    {
      "cell_type": "markdown",
      "source": [
        "To get more computing power from colab, we will directly access the csv files from google drive"
      ],
      "metadata": {
        "id": "0zhFUgAozmIG"
      },
      "id": "0zhFUgAozmIG"
    },
    {
      "cell_type": "code",
      "execution_count": 2,
      "id": "-g_-FEgRyASZ",
      "metadata": {
        "colab": {
          "base_uri": "https://localhost:8080/"
        },
        "id": "-g_-FEgRyASZ",
        "outputId": "29942e0f-3e3d-4e25-e3d0-953ee45ddd87"
      },
      "outputs": [
        {
          "output_type": "stream",
          "name": "stdout",
          "text": [
            "Mounted at /mnt/drive\n"
          ]
        }
      ],
      "source": [
        "from google.colab import drive\n",
        "drive.mount('/mnt/drive')"
      ]
    },
    {
      "cell_type": "code",
      "execution_count": 3,
      "id": "9572613a-0340-4925-9f81-8dc288aa144c",
      "metadata": {
        "id": "9572613a-0340-4925-9f81-8dc288aa144c"
      },
      "outputs": [],
      "source": [
        "#Data loading scripts from local Juypter lab terminal\n",
        "#data_2018 = pd.read_csv('content/sample_data/pitches.csv')\n",
        "#data_2019 = pd.read_csv('content/sample_data/2019_pitches.csv')\n",
        "#game_2018 = pd.read_csv('content/sample_data/games.csv')\n",
        "#game_2019 = pd.read_csv('content/sample_data/2019_games.csv')\n",
        "#ab_2018 = pd.read_csv('content/sample_data/atbats.csv')\n",
        "#ab_2019 = pd.read_csv('content/sample_data/2019_atbats.csv')\n",
        "#name_df = pd.read_csv('content/sample_data/player_names.csv')"
      ]
    },
    {
      "cell_type": "code",
      "execution_count": 4,
      "id": "tmNKssi_yMfT",
      "metadata": {
        "id": "tmNKssi_yMfT"
      },
      "outputs": [],
      "source": [
        "data_2018 = pd.read_csv('/mnt/drive/MyDrive/capstone_data/pitches.csv')\n",
        "data_2019 = pd.read_csv('/mnt/drive/MyDrive/capstone_data/2019_pitches.csv')\n",
        "game_2018 = pd.read_csv('/mnt/drive/MyDrive/capstone_data/games.csv')\n",
        "game_2019 = pd.read_csv('/mnt/drive/MyDrive/capstone_data/2019_games.csv')\n",
        "ab_2018 = pd.read_csv('/mnt/drive/MyDrive/capstone_data/atbats.csv')\n",
        "ab_2019 = pd.read_csv('/mnt/drive/MyDrive/capstone_data/2019_atbats.csv')\n",
        "name_df = pd.read_csv('/mnt/drive/MyDrive/capstone_data/player_names.csv')"
      ]
    },
    {
      "cell_type": "code",
      "execution_count": 5,
      "id": "39d5e4d8-ccaa-41df-af6a-25609f013982",
      "metadata": {
        "id": "39d5e4d8-ccaa-41df-af6a-25609f013982"
      },
      "outputs": [],
      "source": [
        "pitch_df = pd.concat([data_2018, data_2019])\n",
        "game_df = pd.concat([game_2018, game_2019])\n",
        "ab_df = pd.concat([ab_2018, ab_2019])\n",
        "abdata = pitch_df.merge(ab_df, on = \"ab_id\")\n",
        "gamedata = abdata.merge(game_df, on = 'g_id')\n",
        "gamedata1 =pd.merge(gamedata, name_df, left_on='batter_id', right_on='id', how = 'left')"
      ]
    },
    {
      "cell_type": "code",
      "execution_count": 6,
      "id": "77a08785-726b-4d5f-bbd7-22dde1201c52",
      "metadata": {
        "colab": {
          "base_uri": "https://localhost:8080/"
        },
        "id": "77a08785-726b-4d5f-bbd7-22dde1201c52",
        "outputId": "e004534c-e3d6-4765-abac-c1f6396fe5fb"
      },
      "outputs": [
        {
          "output_type": "execute_result",
          "data": {
            "text/plain": [
              "(3595944, 69)"
            ]
          },
          "metadata": {},
          "execution_count": 6
        }
      ],
      "source": [
        "gamedata1.shape"
      ]
    },
    {
      "cell_type": "markdown",
      "source": [
        "We will remove the columns that will not be used for this project to reduce the memory usage"
      ],
      "metadata": {
        "id": "LDQie9sxz4in"
      },
      "id": "LDQie9sxz4in"
    },
    {
      "cell_type": "code",
      "execution_count": 7,
      "id": "9ae948eb-7aaa-4543-836d-4682932f6dc0",
      "metadata": {
        "id": "9ae948eb-7aaa-4543-836d-4682932f6dc0"
      },
      "outputs": [],
      "source": [
        "gamedata1 = gamedata1.drop(columns=['spin_rate', 'spin_rate','spin_dir','break_angle','break_length','break_y'])\n",
        "gamedata1 = gamedata1.drop(columns=['ax', 'ay','az'])\n",
        "gamedata1 = gamedata1.drop(columns=['type_confidence'])\n",
        "gamedata1 = gamedata1.drop(columns=['vx0', 'vy0','vz0','x','x0','y', 'y0','z0','pfx_x','pfx_z'])\n",
        "gamedata1 = gamedata1.drop(columns=['event_num', 'away_final_score','away_team','date','elapsed_time','home_final_score', 'home_team','start_time'])\n",
        "gamedata1 = gamedata1.drop(columns=['umpire_1B', 'umpire_2B','umpire_3B','umpire_HP','venue_name','delay', 'id','first_name','last_name'])"
      ]
    },
    {
      "cell_type": "code",
      "execution_count": 8,
      "id": "92bc29f1-ce0e-4d4e-9a80-99fec61ccb1b",
      "metadata": {
        "colab": {
          "base_uri": "https://localhost:8080/"
        },
        "id": "92bc29f1-ce0e-4d4e-9a80-99fec61ccb1b",
        "outputId": "623ca3d8-802a-4838-de51-894d7e3ae1da"
      },
      "outputs": [
        {
          "output_type": "stream",
          "name": "stdout",
          "text": [
            "<class 'pandas.core.frame.DataFrame'>\n",
            "RangeIndex: 3595944 entries, 0 to 3595943\n",
            "Data columns (total 33 columns):\n",
            " #   Column       Dtype  \n",
            "---  ------       -----  \n",
            " 0   px           float64\n",
            " 1   pz           float64\n",
            " 2   start_speed  float64\n",
            " 3   end_speed    float64\n",
            " 4   sz_bot       float64\n",
            " 5   sz_top       float64\n",
            " 6   nasty        float64\n",
            " 7   zone         object \n",
            " 8   code         object \n",
            " 9   type         object \n",
            " 10  pitch_type   object \n",
            " 11  b_score      float64\n",
            " 12  ab_id        float64\n",
            " 13  b_count      float64\n",
            " 14  s_count      float64\n",
            " 15  outs         float64\n",
            " 16  pitch_num    float64\n",
            " 17  on_1b        float64\n",
            " 18  on_2b        float64\n",
            " 19  on_3b        float64\n",
            " 20  batter_id    int64  \n",
            " 21  event        object \n",
            " 22  g_id         float64\n",
            " 23  inning       float64\n",
            " 24  o            int64  \n",
            " 25  p_score      float64\n",
            " 26  p_throws     object \n",
            " 27  pitcher_id   int64  \n",
            " 28  stand        object \n",
            " 29  top          object \n",
            " 30  attendance   float64\n",
            " 31  weather      object \n",
            " 32  wind         object \n",
            "dtypes: float64(20), int64(3), object(10)\n",
            "memory usage: 905.4+ MB\n"
          ]
        }
      ],
      "source": [
        "gamedata1.info()"
      ]
    },
    {
      "cell_type": "code",
      "execution_count": 9,
      "id": "7196ad21-07eb-493e-a894-59e9a5d5880f",
      "metadata": {
        "colab": {
          "base_uri": "https://localhost:8080/"
        },
        "id": "7196ad21-07eb-493e-a894-59e9a5d5880f",
        "outputId": "ff824e07-4b49-49c9-e0d1-bdde3940aebb"
      },
      "outputs": [
        {
          "output_type": "execute_result",
          "data": {
            "text/plain": [
              "px              20818\n",
              "pz              20818\n",
              "start_speed     20743\n",
              "end_speed       20743\n",
              "sz_bot           2083\n",
              "sz_top           2083\n",
              "nasty          742979\n",
              "zone            20818\n",
              "code             5719\n",
              "type                0\n",
              "pitch_type      20818\n",
              "b_score             0\n",
              "ab_id               0\n",
              "b_count             0\n",
              "s_count             0\n",
              "outs                0\n",
              "pitch_num           0\n",
              "on_1b               0\n",
              "on_2b               0\n",
              "on_3b               0\n",
              "batter_id           0\n",
              "event               0\n",
              "g_id                0\n",
              "inning              0\n",
              "o                   0\n",
              "p_score             0\n",
              "p_throws            0\n",
              "pitcher_id          0\n",
              "stand               0\n",
              "top                 0\n",
              "attendance     728790\n",
              "weather        728790\n",
              "wind           728790\n",
              "dtype: int64"
            ]
          },
          "metadata": {},
          "execution_count": 9
        }
      ],
      "source": [
        "gamedata1.isna().sum()"
      ]
    },
    {
      "cell_type": "markdown",
      "source": [
        "As we are checking the columns containing N/A values, we have to remove empty rows for column px, pz and pitch_type as these are the target variables after getting the pitch count feature.\n"
      ],
      "metadata": {
        "id": "QEPlRUVs0rIn"
      },
      "id": "QEPlRUVs0rIn"
    },
    {
      "cell_type": "markdown",
      "id": "262574e4-9303-47c3-9e61-c7f08e4c35f0",
      "metadata": {
        "id": "262574e4-9303-47c3-9e61-c7f08e4c35f0"
      },
      "source": [
        "## Feature Engineering on Pitch Count"
      ]
    },
    {
      "cell_type": "markdown",
      "id": "dc1af396-a95d-4ac9-89db-4420b01873ee",
      "metadata": {
        "id": "dc1af396-a95d-4ac9-89db-4420b01873ee"
      },
      "source": [
        "### Spliting dataframe to top and bottom innings"
      ]
    },
    {
      "cell_type": "markdown",
      "id": "91b05892-1dd0-4b56-8e04-97efd1042935",
      "metadata": {
        "id": "91b05892-1dd0-4b56-8e04-97efd1042935"
      },
      "source": [
        "Because teams switch fielding positions by half innings, splitting the dataframe by top and bottom innings makes sure that we can process the pitching of the same team in one cluster later on."
      ]
    },
    {
      "cell_type": "code",
      "execution_count": 10,
      "id": "06eb7cd8-6a23-4fcb-b7be-2471e6783768",
      "metadata": {
        "colab": {
          "base_uri": "https://localhost:8080/"
        },
        "id": "06eb7cd8-6a23-4fcb-b7be-2471e6783768",
        "outputId": "08d94b1f-a10e-4357-8350-be9491007a55"
      },
      "outputs": [
        {
          "output_type": "execute_result",
          "data": {
            "text/plain": [
              "top\n",
              "True     1831115\n",
              "False    1764829\n",
              "Name: count, dtype: int64"
            ]
          },
          "metadata": {},
          "execution_count": 10
        }
      ],
      "source": [
        "gamedata1['top'].value_counts()"
      ]
    },
    {
      "cell_type": "code",
      "execution_count": 11,
      "id": "1fa98196-39d6-415d-8b6f-8fcda061f707",
      "metadata": {
        "id": "1fa98196-39d6-415d-8b6f-8fcda061f707"
      },
      "outputs": [],
      "source": [
        "top_ins = gamedata1[gamedata1['top'] ==True]\n",
        "bot_ins = gamedata1[gamedata1['top'] == False]"
      ]
    },
    {
      "cell_type": "markdown",
      "id": "c030f065-a729-4d9b-b1de-46bdf6033c95",
      "metadata": {
        "id": "c030f065-a729-4d9b-b1de-46bdf6033c95"
      },
      "source": [
        "### Pitch Count"
      ]
    },
    {
      "cell_type": "markdown",
      "id": "8dca4146-ab73-4559-b0a9-a6b534f8033d",
      "metadata": {
        "id": "8dca4146-ab73-4559-b0a9-a6b534f8033d"
      },
      "source": [
        "Pitch count represents the game status of the current pitcher. First, pitchers get tired after repeatingly throwing. The more someone pitches, the more likely he will lose control or speed of his pitch due to fatigue. On the other hand, the hitter will observe the pitches throughout the game. When one pitcher makes adquate number of pitches, the hitter will \"figure out\" the pitcher's strategy as well as pitching mix .These leads to advantage for hitter and helps them to make a good hit."
      ]
    },
    {
      "cell_type": "markdown",
      "id": "cdb63f97-c38c-4901-bbff-1459c1876bef",
      "metadata": {
        "id": "cdb63f97-c38c-4901-bbff-1459c1876bef"
      },
      "source": [
        "Luckily, the dataframe is pitch-by-pitch record, which means games are grouped together with the pitch-by-pitch sequence. We will divide the dataframe to top innings and bottom innings, give pitch count to each row and update the original dataframe.\n"
      ]
    },
    {
      "cell_type": "markdown",
      "id": "4a8b4f64-6710-4b21-b6fb-273fa5c76da6",
      "metadata": {
        "id": "4a8b4f64-6710-4b21-b6fb-273fa5c76da6"
      },
      "source": [
        "### Generating Pitch Count for top innings (away team)"
      ]
    },
    {
      "cell_type": "code",
      "execution_count": 12,
      "id": "2af05c24-bdb3-4edc-b438-e5eec0fae836",
      "metadata": {
        "colab": {
          "base_uri": "https://localhost:8080/"
        },
        "id": "2af05c24-bdb3-4edc-b438-e5eec0fae836",
        "outputId": "b7a1b442-4d2b-43be-d078-3b445ba8902b"
      },
      "outputs": [
        {
          "output_type": "stream",
          "name": "stderr",
          "text": [
            "<ipython-input-12-4ef215ae57e9>:2: SettingWithCopyWarning: \n",
            "A value is trying to be set on a copy of a slice from a DataFrame.\n",
            "Try using .loc[row_indexer,col_indexer] = value instead\n",
            "\n",
            "See the caveats in the documentation: https://pandas.pydata.org/pandas-docs/stable/user_guide/indexing.html#returning-a-view-versus-a-copy\n",
            "  top_ins['pitch_count'] = 1\n"
          ]
        }
      ],
      "source": [
        "#Initiate the pitch_count column\n",
        "top_ins['pitch_count'] = 1"
      ]
    },
    {
      "cell_type": "code",
      "execution_count": 13,
      "id": "2cd8ca66-1cd5-4221-a34d-6f43d62a4981",
      "metadata": {
        "id": "2cd8ca66-1cd5-4221-a34d-6f43d62a4981"
      },
      "outputs": [],
      "source": [
        "count = 1\n",
        "for i in range(len(top_ins)):\n",
        "    if (top_ins['pitcher_id'].iloc[i] == top_ins['pitcher_id'].iloc[i-1]):\n",
        "        count = count + 1 ## if the previous row and the current row is the same pitcher, add count\n",
        "    else:\n",
        "        count = 1\n",
        "    top_ins.loc[top_ins.index[i], 'pitch_count'] = count"
      ]
    },
    {
      "cell_type": "markdown",
      "id": "0f030d52-a0f1-44d1-b941-8bc9c1e24dc5",
      "metadata": {
        "id": "0f030d52-a0f1-44d1-b941-8bc9c1e24dc5"
      },
      "source": [
        "### Generating Pitch Count for bottom innings (home team)"
      ]
    },
    {
      "cell_type": "code",
      "execution_count": 14,
      "id": "e7690026-f5ed-4773-9ebc-4ce9452653f4",
      "metadata": {
        "colab": {
          "base_uri": "https://localhost:8080/"
        },
        "id": "e7690026-f5ed-4773-9ebc-4ce9452653f4",
        "outputId": "3db89d35-185d-4d09-9254-9518724f6988"
      },
      "outputs": [
        {
          "output_type": "stream",
          "name": "stderr",
          "text": [
            "<ipython-input-14-5ced665786c1>:1: SettingWithCopyWarning: \n",
            "A value is trying to be set on a copy of a slice from a DataFrame.\n",
            "Try using .loc[row_indexer,col_indexer] = value instead\n",
            "\n",
            "See the caveats in the documentation: https://pandas.pydata.org/pandas-docs/stable/user_guide/indexing.html#returning-a-view-versus-a-copy\n",
            "  bot_ins['pitch_count'] = 1\n"
          ]
        }
      ],
      "source": [
        "bot_ins['pitch_count'] = 1"
      ]
    },
    {
      "cell_type": "code",
      "execution_count": 15,
      "id": "51ebef2d-a9e9-420a-bb3f-168f68ec5d04",
      "metadata": {
        "id": "51ebef2d-a9e9-420a-bb3f-168f68ec5d04"
      },
      "outputs": [],
      "source": [
        "count = 1\n",
        "for i in range(len(bot_ins)):\n",
        "    if (bot_ins['pitcher_id'].iloc[i] == bot_ins['pitcher_id'].iloc[i-1]):\n",
        "        count = count + 1\n",
        "    else:\n",
        "        count = 1\n",
        "    bot_ins.loc[bot_ins.index[i], 'pitch_count'] = count"
      ]
    },
    {
      "cell_type": "code",
      "execution_count": 16,
      "id": "3e56f3e2-5510-4ced-9c9e-fda7a843c95b",
      "metadata": {
        "colab": {
          "base_uri": "https://localhost:8080/",
          "height": 1000
        },
        "id": "3e56f3e2-5510-4ced-9c9e-fda7a843c95b",
        "outputId": "f8eec951-1c5b-4f0e-ace0-337c4a0fc1b9",
        "scrolled": true
      },
      "outputs": [
        {
          "output_type": "execute_result",
          "data": {
            "text/plain": [
              "     pitch_count  pitcher_id\n",
              "134           61      425794\n",
              "135           62      425794\n",
              "136           63      425794\n",
              "137           64      425794\n",
              "138           65      425794\n",
              "165           66      425794\n",
              "166           67      425794\n",
              "167           68      425794\n",
              "168           69      425794\n",
              "169           70      425794\n",
              "170           71      425794\n",
              "171           72      425794\n",
              "172           73      425794\n",
              "173           74      425794\n",
              "174           75      425794\n",
              "175           76      425794\n",
              "176           77      425794\n",
              "177           78      425794\n",
              "178           79      425794\n",
              "179           80      425794\n",
              "180           81      425794\n",
              "181           82      425794\n",
              "182           83      425794\n",
              "197           84      425794\n",
              "198           85      425794\n",
              "199           86      425794\n",
              "200           87      425794\n",
              "201           88      425794\n",
              "202           89      425794\n",
              "203           90      425794\n",
              "204           91      425794\n",
              "205           92      425794\n",
              "206           93      425794\n",
              "207           94      425794\n",
              "208           95      425794\n",
              "209           96      425794\n",
              "210           97      425794\n",
              "211           98      425794\n",
              "212           99      425794\n",
              "213          100      425794\n",
              "214          101      425794\n",
              "225            1      593372\n",
              "226            2      593372\n",
              "227            3      593372\n",
              "228            4      593372\n",
              "229            5      593372\n",
              "230            6      593372\n",
              "231            7      593372\n",
              "232            8      593372\n",
              "233            9      593372\n",
              "234           10      593372\n",
              "235           11      593372\n",
              "236           12      593372\n",
              "237           13      593372\n",
              "238           14      593372\n",
              "239           15      593372\n",
              "240           16      593372\n",
              "241           17      593372\n",
              "242           18      593372\n",
              "243           19      593372"
            ],
            "text/html": [
              "\n",
              "  <div id=\"df-64daff1e-6742-4c6a-83a3-4450ccc1f242\" class=\"colab-df-container\">\n",
              "    <div>\n",
              "<style scoped>\n",
              "    .dataframe tbody tr th:only-of-type {\n",
              "        vertical-align: middle;\n",
              "    }\n",
              "\n",
              "    .dataframe tbody tr th {\n",
              "        vertical-align: top;\n",
              "    }\n",
              "\n",
              "    .dataframe thead th {\n",
              "        text-align: right;\n",
              "    }\n",
              "</style>\n",
              "<table border=\"1\" class=\"dataframe\">\n",
              "  <thead>\n",
              "    <tr style=\"text-align: right;\">\n",
              "      <th></th>\n",
              "      <th>pitch_count</th>\n",
              "      <th>pitcher_id</th>\n",
              "    </tr>\n",
              "  </thead>\n",
              "  <tbody>\n",
              "    <tr>\n",
              "      <th>134</th>\n",
              "      <td>61</td>\n",
              "      <td>425794</td>\n",
              "    </tr>\n",
              "    <tr>\n",
              "      <th>135</th>\n",
              "      <td>62</td>\n",
              "      <td>425794</td>\n",
              "    </tr>\n",
              "    <tr>\n",
              "      <th>136</th>\n",
              "      <td>63</td>\n",
              "      <td>425794</td>\n",
              "    </tr>\n",
              "    <tr>\n",
              "      <th>137</th>\n",
              "      <td>64</td>\n",
              "      <td>425794</td>\n",
              "    </tr>\n",
              "    <tr>\n",
              "      <th>138</th>\n",
              "      <td>65</td>\n",
              "      <td>425794</td>\n",
              "    </tr>\n",
              "    <tr>\n",
              "      <th>165</th>\n",
              "      <td>66</td>\n",
              "      <td>425794</td>\n",
              "    </tr>\n",
              "    <tr>\n",
              "      <th>166</th>\n",
              "      <td>67</td>\n",
              "      <td>425794</td>\n",
              "    </tr>\n",
              "    <tr>\n",
              "      <th>167</th>\n",
              "      <td>68</td>\n",
              "      <td>425794</td>\n",
              "    </tr>\n",
              "    <tr>\n",
              "      <th>168</th>\n",
              "      <td>69</td>\n",
              "      <td>425794</td>\n",
              "    </tr>\n",
              "    <tr>\n",
              "      <th>169</th>\n",
              "      <td>70</td>\n",
              "      <td>425794</td>\n",
              "    </tr>\n",
              "    <tr>\n",
              "      <th>170</th>\n",
              "      <td>71</td>\n",
              "      <td>425794</td>\n",
              "    </tr>\n",
              "    <tr>\n",
              "      <th>171</th>\n",
              "      <td>72</td>\n",
              "      <td>425794</td>\n",
              "    </tr>\n",
              "    <tr>\n",
              "      <th>172</th>\n",
              "      <td>73</td>\n",
              "      <td>425794</td>\n",
              "    </tr>\n",
              "    <tr>\n",
              "      <th>173</th>\n",
              "      <td>74</td>\n",
              "      <td>425794</td>\n",
              "    </tr>\n",
              "    <tr>\n",
              "      <th>174</th>\n",
              "      <td>75</td>\n",
              "      <td>425794</td>\n",
              "    </tr>\n",
              "    <tr>\n",
              "      <th>175</th>\n",
              "      <td>76</td>\n",
              "      <td>425794</td>\n",
              "    </tr>\n",
              "    <tr>\n",
              "      <th>176</th>\n",
              "      <td>77</td>\n",
              "      <td>425794</td>\n",
              "    </tr>\n",
              "    <tr>\n",
              "      <th>177</th>\n",
              "      <td>78</td>\n",
              "      <td>425794</td>\n",
              "    </tr>\n",
              "    <tr>\n",
              "      <th>178</th>\n",
              "      <td>79</td>\n",
              "      <td>425794</td>\n",
              "    </tr>\n",
              "    <tr>\n",
              "      <th>179</th>\n",
              "      <td>80</td>\n",
              "      <td>425794</td>\n",
              "    </tr>\n",
              "    <tr>\n",
              "      <th>180</th>\n",
              "      <td>81</td>\n",
              "      <td>425794</td>\n",
              "    </tr>\n",
              "    <tr>\n",
              "      <th>181</th>\n",
              "      <td>82</td>\n",
              "      <td>425794</td>\n",
              "    </tr>\n",
              "    <tr>\n",
              "      <th>182</th>\n",
              "      <td>83</td>\n",
              "      <td>425794</td>\n",
              "    </tr>\n",
              "    <tr>\n",
              "      <th>197</th>\n",
              "      <td>84</td>\n",
              "      <td>425794</td>\n",
              "    </tr>\n",
              "    <tr>\n",
              "      <th>198</th>\n",
              "      <td>85</td>\n",
              "      <td>425794</td>\n",
              "    </tr>\n",
              "    <tr>\n",
              "      <th>199</th>\n",
              "      <td>86</td>\n",
              "      <td>425794</td>\n",
              "    </tr>\n",
              "    <tr>\n",
              "      <th>200</th>\n",
              "      <td>87</td>\n",
              "      <td>425794</td>\n",
              "    </tr>\n",
              "    <tr>\n",
              "      <th>201</th>\n",
              "      <td>88</td>\n",
              "      <td>425794</td>\n",
              "    </tr>\n",
              "    <tr>\n",
              "      <th>202</th>\n",
              "      <td>89</td>\n",
              "      <td>425794</td>\n",
              "    </tr>\n",
              "    <tr>\n",
              "      <th>203</th>\n",
              "      <td>90</td>\n",
              "      <td>425794</td>\n",
              "    </tr>\n",
              "    <tr>\n",
              "      <th>204</th>\n",
              "      <td>91</td>\n",
              "      <td>425794</td>\n",
              "    </tr>\n",
              "    <tr>\n",
              "      <th>205</th>\n",
              "      <td>92</td>\n",
              "      <td>425794</td>\n",
              "    </tr>\n",
              "    <tr>\n",
              "      <th>206</th>\n",
              "      <td>93</td>\n",
              "      <td>425794</td>\n",
              "    </tr>\n",
              "    <tr>\n",
              "      <th>207</th>\n",
              "      <td>94</td>\n",
              "      <td>425794</td>\n",
              "    </tr>\n",
              "    <tr>\n",
              "      <th>208</th>\n",
              "      <td>95</td>\n",
              "      <td>425794</td>\n",
              "    </tr>\n",
              "    <tr>\n",
              "      <th>209</th>\n",
              "      <td>96</td>\n",
              "      <td>425794</td>\n",
              "    </tr>\n",
              "    <tr>\n",
              "      <th>210</th>\n",
              "      <td>97</td>\n",
              "      <td>425794</td>\n",
              "    </tr>\n",
              "    <tr>\n",
              "      <th>211</th>\n",
              "      <td>98</td>\n",
              "      <td>425794</td>\n",
              "    </tr>\n",
              "    <tr>\n",
              "      <th>212</th>\n",
              "      <td>99</td>\n",
              "      <td>425794</td>\n",
              "    </tr>\n",
              "    <tr>\n",
              "      <th>213</th>\n",
              "      <td>100</td>\n",
              "      <td>425794</td>\n",
              "    </tr>\n",
              "    <tr>\n",
              "      <th>214</th>\n",
              "      <td>101</td>\n",
              "      <td>425794</td>\n",
              "    </tr>\n",
              "    <tr>\n",
              "      <th>225</th>\n",
              "      <td>1</td>\n",
              "      <td>593372</td>\n",
              "    </tr>\n",
              "    <tr>\n",
              "      <th>226</th>\n",
              "      <td>2</td>\n",
              "      <td>593372</td>\n",
              "    </tr>\n",
              "    <tr>\n",
              "      <th>227</th>\n",
              "      <td>3</td>\n",
              "      <td>593372</td>\n",
              "    </tr>\n",
              "    <tr>\n",
              "      <th>228</th>\n",
              "      <td>4</td>\n",
              "      <td>593372</td>\n",
              "    </tr>\n",
              "    <tr>\n",
              "      <th>229</th>\n",
              "      <td>5</td>\n",
              "      <td>593372</td>\n",
              "    </tr>\n",
              "    <tr>\n",
              "      <th>230</th>\n",
              "      <td>6</td>\n",
              "      <td>593372</td>\n",
              "    </tr>\n",
              "    <tr>\n",
              "      <th>231</th>\n",
              "      <td>7</td>\n",
              "      <td>593372</td>\n",
              "    </tr>\n",
              "    <tr>\n",
              "      <th>232</th>\n",
              "      <td>8</td>\n",
              "      <td>593372</td>\n",
              "    </tr>\n",
              "    <tr>\n",
              "      <th>233</th>\n",
              "      <td>9</td>\n",
              "      <td>593372</td>\n",
              "    </tr>\n",
              "    <tr>\n",
              "      <th>234</th>\n",
              "      <td>10</td>\n",
              "      <td>593372</td>\n",
              "    </tr>\n",
              "    <tr>\n",
              "      <th>235</th>\n",
              "      <td>11</td>\n",
              "      <td>593372</td>\n",
              "    </tr>\n",
              "    <tr>\n",
              "      <th>236</th>\n",
              "      <td>12</td>\n",
              "      <td>593372</td>\n",
              "    </tr>\n",
              "    <tr>\n",
              "      <th>237</th>\n",
              "      <td>13</td>\n",
              "      <td>593372</td>\n",
              "    </tr>\n",
              "    <tr>\n",
              "      <th>238</th>\n",
              "      <td>14</td>\n",
              "      <td>593372</td>\n",
              "    </tr>\n",
              "    <tr>\n",
              "      <th>239</th>\n",
              "      <td>15</td>\n",
              "      <td>593372</td>\n",
              "    </tr>\n",
              "    <tr>\n",
              "      <th>240</th>\n",
              "      <td>16</td>\n",
              "      <td>593372</td>\n",
              "    </tr>\n",
              "    <tr>\n",
              "      <th>241</th>\n",
              "      <td>17</td>\n",
              "      <td>593372</td>\n",
              "    </tr>\n",
              "    <tr>\n",
              "      <th>242</th>\n",
              "      <td>18</td>\n",
              "      <td>593372</td>\n",
              "    </tr>\n",
              "    <tr>\n",
              "      <th>243</th>\n",
              "      <td>19</td>\n",
              "      <td>593372</td>\n",
              "    </tr>\n",
              "  </tbody>\n",
              "</table>\n",
              "</div>\n",
              "    <div class=\"colab-df-buttons\">\n",
              "\n",
              "  <div class=\"colab-df-container\">\n",
              "    <button class=\"colab-df-convert\" onclick=\"convertToInteractive('df-64daff1e-6742-4c6a-83a3-4450ccc1f242')\"\n",
              "            title=\"Convert this dataframe to an interactive table.\"\n",
              "            style=\"display:none;\">\n",
              "\n",
              "  <svg xmlns=\"http://www.w3.org/2000/svg\" height=\"24px\" viewBox=\"0 -960 960 960\">\n",
              "    <path d=\"M120-120v-720h720v720H120Zm60-500h600v-160H180v160Zm220 220h160v-160H400v160Zm0 220h160v-160H400v160ZM180-400h160v-160H180v160Zm440 0h160v-160H620v160ZM180-180h160v-160H180v160Zm440 0h160v-160H620v160Z\"/>\n",
              "  </svg>\n",
              "    </button>\n",
              "\n",
              "  <style>\n",
              "    .colab-df-container {\n",
              "      display:flex;\n",
              "      gap: 12px;\n",
              "    }\n",
              "\n",
              "    .colab-df-convert {\n",
              "      background-color: #E8F0FE;\n",
              "      border: none;\n",
              "      border-radius: 50%;\n",
              "      cursor: pointer;\n",
              "      display: none;\n",
              "      fill: #1967D2;\n",
              "      height: 32px;\n",
              "      padding: 0 0 0 0;\n",
              "      width: 32px;\n",
              "    }\n",
              "\n",
              "    .colab-df-convert:hover {\n",
              "      background-color: #E2EBFA;\n",
              "      box-shadow: 0px 1px 2px rgba(60, 64, 67, 0.3), 0px 1px 3px 1px rgba(60, 64, 67, 0.15);\n",
              "      fill: #174EA6;\n",
              "    }\n",
              "\n",
              "    .colab-df-buttons div {\n",
              "      margin-bottom: 4px;\n",
              "    }\n",
              "\n",
              "    [theme=dark] .colab-df-convert {\n",
              "      background-color: #3B4455;\n",
              "      fill: #D2E3FC;\n",
              "    }\n",
              "\n",
              "    [theme=dark] .colab-df-convert:hover {\n",
              "      background-color: #434B5C;\n",
              "      box-shadow: 0px 1px 3px 1px rgba(0, 0, 0, 0.15);\n",
              "      filter: drop-shadow(0px 1px 2px rgba(0, 0, 0, 0.3));\n",
              "      fill: #FFFFFF;\n",
              "    }\n",
              "  </style>\n",
              "\n",
              "    <script>\n",
              "      const buttonEl =\n",
              "        document.querySelector('#df-64daff1e-6742-4c6a-83a3-4450ccc1f242 button.colab-df-convert');\n",
              "      buttonEl.style.display =\n",
              "        google.colab.kernel.accessAllowed ? 'block' : 'none';\n",
              "\n",
              "      async function convertToInteractive(key) {\n",
              "        const element = document.querySelector('#df-64daff1e-6742-4c6a-83a3-4450ccc1f242');\n",
              "        const dataTable =\n",
              "          await google.colab.kernel.invokeFunction('convertToInteractive',\n",
              "                                                    [key], {});\n",
              "        if (!dataTable) return;\n",
              "\n",
              "        const docLinkHtml = 'Like what you see? Visit the ' +\n",
              "          '<a target=\"_blank\" href=https://colab.research.google.com/notebooks/data_table.ipynb>data table notebook</a>'\n",
              "          + ' to learn more about interactive tables.';\n",
              "        element.innerHTML = '';\n",
              "        dataTable['output_type'] = 'display_data';\n",
              "        await google.colab.output.renderOutput(dataTable, element);\n",
              "        const docLink = document.createElement('div');\n",
              "        docLink.innerHTML = docLinkHtml;\n",
              "        element.appendChild(docLink);\n",
              "      }\n",
              "    </script>\n",
              "  </div>\n",
              "\n",
              "\n",
              "<div id=\"df-2531bb87-703d-4e3b-a80d-0e5a7e029620\">\n",
              "  <button class=\"colab-df-quickchart\" onclick=\"quickchart('df-2531bb87-703d-4e3b-a80d-0e5a7e029620')\"\n",
              "            title=\"Suggest charts\"\n",
              "            style=\"display:none;\">\n",
              "\n",
              "<svg xmlns=\"http://www.w3.org/2000/svg\" height=\"24px\"viewBox=\"0 0 24 24\"\n",
              "     width=\"24px\">\n",
              "    <g>\n",
              "        <path d=\"M19 3H5c-1.1 0-2 .9-2 2v14c0 1.1.9 2 2 2h14c1.1 0 2-.9 2-2V5c0-1.1-.9-2-2-2zM9 17H7v-7h2v7zm4 0h-2V7h2v10zm4 0h-2v-4h2v4z\"/>\n",
              "    </g>\n",
              "</svg>\n",
              "  </button>\n",
              "\n",
              "<style>\n",
              "  .colab-df-quickchart {\n",
              "      --bg-color: #E8F0FE;\n",
              "      --fill-color: #1967D2;\n",
              "      --hover-bg-color: #E2EBFA;\n",
              "      --hover-fill-color: #174EA6;\n",
              "      --disabled-fill-color: #AAA;\n",
              "      --disabled-bg-color: #DDD;\n",
              "  }\n",
              "\n",
              "  [theme=dark] .colab-df-quickchart {\n",
              "      --bg-color: #3B4455;\n",
              "      --fill-color: #D2E3FC;\n",
              "      --hover-bg-color: #434B5C;\n",
              "      --hover-fill-color: #FFFFFF;\n",
              "      --disabled-bg-color: #3B4455;\n",
              "      --disabled-fill-color: #666;\n",
              "  }\n",
              "\n",
              "  .colab-df-quickchart {\n",
              "    background-color: var(--bg-color);\n",
              "    border: none;\n",
              "    border-radius: 50%;\n",
              "    cursor: pointer;\n",
              "    display: none;\n",
              "    fill: var(--fill-color);\n",
              "    height: 32px;\n",
              "    padding: 0;\n",
              "    width: 32px;\n",
              "  }\n",
              "\n",
              "  .colab-df-quickchart:hover {\n",
              "    background-color: var(--hover-bg-color);\n",
              "    box-shadow: 0 1px 2px rgba(60, 64, 67, 0.3), 0 1px 3px 1px rgba(60, 64, 67, 0.15);\n",
              "    fill: var(--button-hover-fill-color);\n",
              "  }\n",
              "\n",
              "  .colab-df-quickchart-complete:disabled,\n",
              "  .colab-df-quickchart-complete:disabled:hover {\n",
              "    background-color: var(--disabled-bg-color);\n",
              "    fill: var(--disabled-fill-color);\n",
              "    box-shadow: none;\n",
              "  }\n",
              "\n",
              "  .colab-df-spinner {\n",
              "    border: 2px solid var(--fill-color);\n",
              "    border-color: transparent;\n",
              "    border-bottom-color: var(--fill-color);\n",
              "    animation:\n",
              "      spin 1s steps(1) infinite;\n",
              "  }\n",
              "\n",
              "  @keyframes spin {\n",
              "    0% {\n",
              "      border-color: transparent;\n",
              "      border-bottom-color: var(--fill-color);\n",
              "      border-left-color: var(--fill-color);\n",
              "    }\n",
              "    20% {\n",
              "      border-color: transparent;\n",
              "      border-left-color: var(--fill-color);\n",
              "      border-top-color: var(--fill-color);\n",
              "    }\n",
              "    30% {\n",
              "      border-color: transparent;\n",
              "      border-left-color: var(--fill-color);\n",
              "      border-top-color: var(--fill-color);\n",
              "      border-right-color: var(--fill-color);\n",
              "    }\n",
              "    40% {\n",
              "      border-color: transparent;\n",
              "      border-right-color: var(--fill-color);\n",
              "      border-top-color: var(--fill-color);\n",
              "    }\n",
              "    60% {\n",
              "      border-color: transparent;\n",
              "      border-right-color: var(--fill-color);\n",
              "    }\n",
              "    80% {\n",
              "      border-color: transparent;\n",
              "      border-right-color: var(--fill-color);\n",
              "      border-bottom-color: var(--fill-color);\n",
              "    }\n",
              "    90% {\n",
              "      border-color: transparent;\n",
              "      border-bottom-color: var(--fill-color);\n",
              "    }\n",
              "  }\n",
              "</style>\n",
              "\n",
              "  <script>\n",
              "    async function quickchart(key) {\n",
              "      const quickchartButtonEl =\n",
              "        document.querySelector('#' + key + ' button');\n",
              "      quickchartButtonEl.disabled = true;  // To prevent multiple clicks.\n",
              "      quickchartButtonEl.classList.add('colab-df-spinner');\n",
              "      try {\n",
              "        const charts = await google.colab.kernel.invokeFunction(\n",
              "            'suggestCharts', [key], {});\n",
              "      } catch (error) {\n",
              "        console.error('Error during call to suggestCharts:', error);\n",
              "      }\n",
              "      quickchartButtonEl.classList.remove('colab-df-spinner');\n",
              "      quickchartButtonEl.classList.add('colab-df-quickchart-complete');\n",
              "    }\n",
              "    (() => {\n",
              "      let quickchartButtonEl =\n",
              "        document.querySelector('#df-2531bb87-703d-4e3b-a80d-0e5a7e029620 button');\n",
              "      quickchartButtonEl.style.display =\n",
              "        google.colab.kernel.accessAllowed ? 'block' : 'none';\n",
              "    })();\n",
              "  </script>\n",
              "</div>\n",
              "\n",
              "    </div>\n",
              "  </div>\n"
            ],
            "application/vnd.google.colaboratory.intrinsic+json": {
              "type": "dataframe",
              "summary": "{\n  \"name\": \"bot_ins[['pitch_count','pitcher_id']][60:120]\",\n  \"rows\": 60,\n  \"fields\": [\n    {\n      \"column\": \"pitch_count\",\n      \"properties\": {\n        \"dtype\": \"number\",\n        \"std\": 34,\n        \"min\": 1,\n        \"max\": 101,\n        \"num_unique_values\": 60,\n        \"samples\": [\n          61,\n          66,\n          97\n        ],\n        \"semantic_type\": \"\",\n        \"description\": \"\"\n      }\n    },\n    {\n      \"column\": \"pitcher_id\",\n      \"properties\": {\n        \"dtype\": \"number\",\n        \"std\": 78611,\n        \"min\": 425794,\n        \"max\": 593372,\n        \"num_unique_values\": 2,\n        \"samples\": [\n          593372,\n          425794\n        ],\n        \"semantic_type\": \"\",\n        \"description\": \"\"\n      }\n    }\n  ]\n}"
            }
          },
          "metadata": {},
          "execution_count": 16
        }
      ],
      "source": [
        "bot_ins[['pitch_count','pitcher_id']][60:120]"
      ]
    },
    {
      "cell_type": "markdown",
      "id": "0ca64edf-d36a-4874-8e23-7fb617df9abe",
      "metadata": {
        "id": "0ca64edf-d36a-4874-8e23-7fb617df9abe"
      },
      "source": [
        "### Updating Pitch count to original dataframe"
      ]
    },
    {
      "cell_type": "code",
      "execution_count": 17,
      "id": "cba0fdba-8b40-4042-81d2-9fb48a2c8b86",
      "metadata": {
        "id": "cba0fdba-8b40-4042-81d2-9fb48a2c8b86"
      },
      "outputs": [],
      "source": [
        "gamedata1['pitch_count'] = 0\n",
        "gamedata1.update(top_ins)\n",
        "gamedata1.update(bot_ins)"
      ]
    },
    {
      "cell_type": "markdown",
      "id": "138a9c2a-b9c8-42cd-a127-ffcd1555ba85",
      "metadata": {
        "id": "138a9c2a-b9c8-42cd-a127-ffcd1555ba85"
      },
      "source": [
        "## Removing Rows #1"
      ]
    },
    {
      "cell_type": "markdown",
      "source": [
        "After generating the pitch count, we can safely remove the rows containing N/A values so that the sequence of the pitches will not be disrupted."
      ],
      "metadata": {
        "id": "3WtGNLb43JLA"
      },
      "id": "3WtGNLb43JLA"
    },
    {
      "cell_type": "markdown",
      "source": [
        "However, because we intend to use Recurrent neural network to train the model, it won't be able to handle data when there's a missing data in the sequence.\n",
        "\n",
        "For example, the RNN model will happily look at the data pitch 1 to pitch 5. But if the data of pitch 3 is missing and we removed this row, RNN model won't effectively analysis the sequence.\n",
        "\n",
        "To avoid that, we will remove the pitching data of a pitcher in the whole game whose pitching data is missing even 1 pitch. We will not remove the data for the whole game as pitcher will rotate."
      ],
      "metadata": {
        "id": "IZHvBrfv3hcn"
      },
      "id": "IZHvBrfv3hcn"
    },
    {
      "cell_type": "code",
      "execution_count": 18,
      "id": "d7a05a62-6ad0-4e0d-8c0b-09f025ce740e",
      "metadata": {
        "id": "d7a05a62-6ad0-4e0d-8c0b-09f025ce740e"
      },
      "outputs": [],
      "source": [
        "na_pitch_data = gamedata1[gamedata1['pitch_type'].isna()]\n",
        "\n",
        "na_pitch_list = na_pitch_data[['g_id','pitcher_id']].drop_duplicates()"
      ]
    },
    {
      "cell_type": "markdown",
      "source": [
        "The N/A cell number for px & pz is the same as pitch type, which hints the possibility that these are the same rows. We will drop N/A cells in column 'pitch_type' and remove more rows if necessary."
      ],
      "metadata": {
        "id": "jfz9zcFR4iEF"
      },
      "id": "jfz9zcFR4iEF"
    },
    {
      "cell_type": "markdown",
      "source": [
        "After that, we will list the game_id and pitcher_id that are missing pitch type data."
      ],
      "metadata": {
        "id": "fAcAyDtS41BA"
      },
      "id": "fAcAyDtS41BA"
    },
    {
      "cell_type": "code",
      "execution_count": 19,
      "id": "b2c2c1ff-da90-4f70-9a4a-f1ae83c4a167",
      "metadata": {
        "colab": {
          "base_uri": "https://localhost:8080/",
          "height": 423
        },
        "id": "b2c2c1ff-da90-4f70-9a4a-f1ae83c4a167",
        "outputId": "c2713241-6373-46d5-9cfa-cc2491b2eeb5"
      },
      "outputs": [
        {
          "output_type": "execute_result",
          "data": {
            "text/plain": [
              "                g_id  pitcher_id\n",
              "344     201500002.00      450308\n",
              "684     201500003.00      506693\n",
              "1597    201500006.00      543359\n",
              "2791    201500011.00      456501\n",
              "4282    201500017.00      502009\n",
              "...              ...         ...\n",
              "3594502 201902404.00      642098\n",
              "3594576 201902404.00      641793\n",
              "3594897 201902405.00      544928\n",
              "3595367 201902407.00      592662\n",
              "3595781 201902408.00      642232\n",
              "\n",
              "[5162 rows x 2 columns]"
            ],
            "text/html": [
              "\n",
              "  <div id=\"df-49273b17-86be-48b4-b009-f3a35461ef02\" class=\"colab-df-container\">\n",
              "    <div>\n",
              "<style scoped>\n",
              "    .dataframe tbody tr th:only-of-type {\n",
              "        vertical-align: middle;\n",
              "    }\n",
              "\n",
              "    .dataframe tbody tr th {\n",
              "        vertical-align: top;\n",
              "    }\n",
              "\n",
              "    .dataframe thead th {\n",
              "        text-align: right;\n",
              "    }\n",
              "</style>\n",
              "<table border=\"1\" class=\"dataframe\">\n",
              "  <thead>\n",
              "    <tr style=\"text-align: right;\">\n",
              "      <th></th>\n",
              "      <th>g_id</th>\n",
              "      <th>pitcher_id</th>\n",
              "    </tr>\n",
              "  </thead>\n",
              "  <tbody>\n",
              "    <tr>\n",
              "      <th>344</th>\n",
              "      <td>201500002.00</td>\n",
              "      <td>450308</td>\n",
              "    </tr>\n",
              "    <tr>\n",
              "      <th>684</th>\n",
              "      <td>201500003.00</td>\n",
              "      <td>506693</td>\n",
              "    </tr>\n",
              "    <tr>\n",
              "      <th>1597</th>\n",
              "      <td>201500006.00</td>\n",
              "      <td>543359</td>\n",
              "    </tr>\n",
              "    <tr>\n",
              "      <th>2791</th>\n",
              "      <td>201500011.00</td>\n",
              "      <td>456501</td>\n",
              "    </tr>\n",
              "    <tr>\n",
              "      <th>4282</th>\n",
              "      <td>201500017.00</td>\n",
              "      <td>502009</td>\n",
              "    </tr>\n",
              "    <tr>\n",
              "      <th>...</th>\n",
              "      <td>...</td>\n",
              "      <td>...</td>\n",
              "    </tr>\n",
              "    <tr>\n",
              "      <th>3594502</th>\n",
              "      <td>201902404.00</td>\n",
              "      <td>642098</td>\n",
              "    </tr>\n",
              "    <tr>\n",
              "      <th>3594576</th>\n",
              "      <td>201902404.00</td>\n",
              "      <td>641793</td>\n",
              "    </tr>\n",
              "    <tr>\n",
              "      <th>3594897</th>\n",
              "      <td>201902405.00</td>\n",
              "      <td>544928</td>\n",
              "    </tr>\n",
              "    <tr>\n",
              "      <th>3595367</th>\n",
              "      <td>201902407.00</td>\n",
              "      <td>592662</td>\n",
              "    </tr>\n",
              "    <tr>\n",
              "      <th>3595781</th>\n",
              "      <td>201902408.00</td>\n",
              "      <td>642232</td>\n",
              "    </tr>\n",
              "  </tbody>\n",
              "</table>\n",
              "<p>5162 rows × 2 columns</p>\n",
              "</div>\n",
              "    <div class=\"colab-df-buttons\">\n",
              "\n",
              "  <div class=\"colab-df-container\">\n",
              "    <button class=\"colab-df-convert\" onclick=\"convertToInteractive('df-49273b17-86be-48b4-b009-f3a35461ef02')\"\n",
              "            title=\"Convert this dataframe to an interactive table.\"\n",
              "            style=\"display:none;\">\n",
              "\n",
              "  <svg xmlns=\"http://www.w3.org/2000/svg\" height=\"24px\" viewBox=\"0 -960 960 960\">\n",
              "    <path d=\"M120-120v-720h720v720H120Zm60-500h600v-160H180v160Zm220 220h160v-160H400v160Zm0 220h160v-160H400v160ZM180-400h160v-160H180v160Zm440 0h160v-160H620v160ZM180-180h160v-160H180v160Zm440 0h160v-160H620v160Z\"/>\n",
              "  </svg>\n",
              "    </button>\n",
              "\n",
              "  <style>\n",
              "    .colab-df-container {\n",
              "      display:flex;\n",
              "      gap: 12px;\n",
              "    }\n",
              "\n",
              "    .colab-df-convert {\n",
              "      background-color: #E8F0FE;\n",
              "      border: none;\n",
              "      border-radius: 50%;\n",
              "      cursor: pointer;\n",
              "      display: none;\n",
              "      fill: #1967D2;\n",
              "      height: 32px;\n",
              "      padding: 0 0 0 0;\n",
              "      width: 32px;\n",
              "    }\n",
              "\n",
              "    .colab-df-convert:hover {\n",
              "      background-color: #E2EBFA;\n",
              "      box-shadow: 0px 1px 2px rgba(60, 64, 67, 0.3), 0px 1px 3px 1px rgba(60, 64, 67, 0.15);\n",
              "      fill: #174EA6;\n",
              "    }\n",
              "\n",
              "    .colab-df-buttons div {\n",
              "      margin-bottom: 4px;\n",
              "    }\n",
              "\n",
              "    [theme=dark] .colab-df-convert {\n",
              "      background-color: #3B4455;\n",
              "      fill: #D2E3FC;\n",
              "    }\n",
              "\n",
              "    [theme=dark] .colab-df-convert:hover {\n",
              "      background-color: #434B5C;\n",
              "      box-shadow: 0px 1px 3px 1px rgba(0, 0, 0, 0.15);\n",
              "      filter: drop-shadow(0px 1px 2px rgba(0, 0, 0, 0.3));\n",
              "      fill: #FFFFFF;\n",
              "    }\n",
              "  </style>\n",
              "\n",
              "    <script>\n",
              "      const buttonEl =\n",
              "        document.querySelector('#df-49273b17-86be-48b4-b009-f3a35461ef02 button.colab-df-convert');\n",
              "      buttonEl.style.display =\n",
              "        google.colab.kernel.accessAllowed ? 'block' : 'none';\n",
              "\n",
              "      async function convertToInteractive(key) {\n",
              "        const element = document.querySelector('#df-49273b17-86be-48b4-b009-f3a35461ef02');\n",
              "        const dataTable =\n",
              "          await google.colab.kernel.invokeFunction('convertToInteractive',\n",
              "                                                    [key], {});\n",
              "        if (!dataTable) return;\n",
              "\n",
              "        const docLinkHtml = 'Like what you see? Visit the ' +\n",
              "          '<a target=\"_blank\" href=https://colab.research.google.com/notebooks/data_table.ipynb>data table notebook</a>'\n",
              "          + ' to learn more about interactive tables.';\n",
              "        element.innerHTML = '';\n",
              "        dataTable['output_type'] = 'display_data';\n",
              "        await google.colab.output.renderOutput(dataTable, element);\n",
              "        const docLink = document.createElement('div');\n",
              "        docLink.innerHTML = docLinkHtml;\n",
              "        element.appendChild(docLink);\n",
              "      }\n",
              "    </script>\n",
              "  </div>\n",
              "\n",
              "\n",
              "<div id=\"df-b4abe622-150f-42db-ab92-ede698e288b5\">\n",
              "  <button class=\"colab-df-quickchart\" onclick=\"quickchart('df-b4abe622-150f-42db-ab92-ede698e288b5')\"\n",
              "            title=\"Suggest charts\"\n",
              "            style=\"display:none;\">\n",
              "\n",
              "<svg xmlns=\"http://www.w3.org/2000/svg\" height=\"24px\"viewBox=\"0 0 24 24\"\n",
              "     width=\"24px\">\n",
              "    <g>\n",
              "        <path d=\"M19 3H5c-1.1 0-2 .9-2 2v14c0 1.1.9 2 2 2h14c1.1 0 2-.9 2-2V5c0-1.1-.9-2-2-2zM9 17H7v-7h2v7zm4 0h-2V7h2v10zm4 0h-2v-4h2v4z\"/>\n",
              "    </g>\n",
              "</svg>\n",
              "  </button>\n",
              "\n",
              "<style>\n",
              "  .colab-df-quickchart {\n",
              "      --bg-color: #E8F0FE;\n",
              "      --fill-color: #1967D2;\n",
              "      --hover-bg-color: #E2EBFA;\n",
              "      --hover-fill-color: #174EA6;\n",
              "      --disabled-fill-color: #AAA;\n",
              "      --disabled-bg-color: #DDD;\n",
              "  }\n",
              "\n",
              "  [theme=dark] .colab-df-quickchart {\n",
              "      --bg-color: #3B4455;\n",
              "      --fill-color: #D2E3FC;\n",
              "      --hover-bg-color: #434B5C;\n",
              "      --hover-fill-color: #FFFFFF;\n",
              "      --disabled-bg-color: #3B4455;\n",
              "      --disabled-fill-color: #666;\n",
              "  }\n",
              "\n",
              "  .colab-df-quickchart {\n",
              "    background-color: var(--bg-color);\n",
              "    border: none;\n",
              "    border-radius: 50%;\n",
              "    cursor: pointer;\n",
              "    display: none;\n",
              "    fill: var(--fill-color);\n",
              "    height: 32px;\n",
              "    padding: 0;\n",
              "    width: 32px;\n",
              "  }\n",
              "\n",
              "  .colab-df-quickchart:hover {\n",
              "    background-color: var(--hover-bg-color);\n",
              "    box-shadow: 0 1px 2px rgba(60, 64, 67, 0.3), 0 1px 3px 1px rgba(60, 64, 67, 0.15);\n",
              "    fill: var(--button-hover-fill-color);\n",
              "  }\n",
              "\n",
              "  .colab-df-quickchart-complete:disabled,\n",
              "  .colab-df-quickchart-complete:disabled:hover {\n",
              "    background-color: var(--disabled-bg-color);\n",
              "    fill: var(--disabled-fill-color);\n",
              "    box-shadow: none;\n",
              "  }\n",
              "\n",
              "  .colab-df-spinner {\n",
              "    border: 2px solid var(--fill-color);\n",
              "    border-color: transparent;\n",
              "    border-bottom-color: var(--fill-color);\n",
              "    animation:\n",
              "      spin 1s steps(1) infinite;\n",
              "  }\n",
              "\n",
              "  @keyframes spin {\n",
              "    0% {\n",
              "      border-color: transparent;\n",
              "      border-bottom-color: var(--fill-color);\n",
              "      border-left-color: var(--fill-color);\n",
              "    }\n",
              "    20% {\n",
              "      border-color: transparent;\n",
              "      border-left-color: var(--fill-color);\n",
              "      border-top-color: var(--fill-color);\n",
              "    }\n",
              "    30% {\n",
              "      border-color: transparent;\n",
              "      border-left-color: var(--fill-color);\n",
              "      border-top-color: var(--fill-color);\n",
              "      border-right-color: var(--fill-color);\n",
              "    }\n",
              "    40% {\n",
              "      border-color: transparent;\n",
              "      border-right-color: var(--fill-color);\n",
              "      border-top-color: var(--fill-color);\n",
              "    }\n",
              "    60% {\n",
              "      border-color: transparent;\n",
              "      border-right-color: var(--fill-color);\n",
              "    }\n",
              "    80% {\n",
              "      border-color: transparent;\n",
              "      border-right-color: var(--fill-color);\n",
              "      border-bottom-color: var(--fill-color);\n",
              "    }\n",
              "    90% {\n",
              "      border-color: transparent;\n",
              "      border-bottom-color: var(--fill-color);\n",
              "    }\n",
              "  }\n",
              "</style>\n",
              "\n",
              "  <script>\n",
              "    async function quickchart(key) {\n",
              "      const quickchartButtonEl =\n",
              "        document.querySelector('#' + key + ' button');\n",
              "      quickchartButtonEl.disabled = true;  // To prevent multiple clicks.\n",
              "      quickchartButtonEl.classList.add('colab-df-spinner');\n",
              "      try {\n",
              "        const charts = await google.colab.kernel.invokeFunction(\n",
              "            'suggestCharts', [key], {});\n",
              "      } catch (error) {\n",
              "        console.error('Error during call to suggestCharts:', error);\n",
              "      }\n",
              "      quickchartButtonEl.classList.remove('colab-df-spinner');\n",
              "      quickchartButtonEl.classList.add('colab-df-quickchart-complete');\n",
              "    }\n",
              "    (() => {\n",
              "      let quickchartButtonEl =\n",
              "        document.querySelector('#df-b4abe622-150f-42db-ab92-ede698e288b5 button');\n",
              "      quickchartButtonEl.style.display =\n",
              "        google.colab.kernel.accessAllowed ? 'block' : 'none';\n",
              "    })();\n",
              "  </script>\n",
              "</div>\n",
              "\n",
              "  <div id=\"id_2021b7c3-6141-4be3-afb1-479430da2967\">\n",
              "    <style>\n",
              "      .colab-df-generate {\n",
              "        background-color: #E8F0FE;\n",
              "        border: none;\n",
              "        border-radius: 50%;\n",
              "        cursor: pointer;\n",
              "        display: none;\n",
              "        fill: #1967D2;\n",
              "        height: 32px;\n",
              "        padding: 0 0 0 0;\n",
              "        width: 32px;\n",
              "      }\n",
              "\n",
              "      .colab-df-generate:hover {\n",
              "        background-color: #E2EBFA;\n",
              "        box-shadow: 0px 1px 2px rgba(60, 64, 67, 0.3), 0px 1px 3px 1px rgba(60, 64, 67, 0.15);\n",
              "        fill: #174EA6;\n",
              "      }\n",
              "\n",
              "      [theme=dark] .colab-df-generate {\n",
              "        background-color: #3B4455;\n",
              "        fill: #D2E3FC;\n",
              "      }\n",
              "\n",
              "      [theme=dark] .colab-df-generate:hover {\n",
              "        background-color: #434B5C;\n",
              "        box-shadow: 0px 1px 3px 1px rgba(0, 0, 0, 0.15);\n",
              "        filter: drop-shadow(0px 1px 2px rgba(0, 0, 0, 0.3));\n",
              "        fill: #FFFFFF;\n",
              "      }\n",
              "    </style>\n",
              "    <button class=\"colab-df-generate\" onclick=\"generateWithVariable('na_pitch_list')\"\n",
              "            title=\"Generate code using this dataframe.\"\n",
              "            style=\"display:none;\">\n",
              "\n",
              "  <svg xmlns=\"http://www.w3.org/2000/svg\" height=\"24px\"viewBox=\"0 0 24 24\"\n",
              "       width=\"24px\">\n",
              "    <path d=\"M7,19H8.4L18.45,9,17,7.55,7,17.6ZM5,21V16.75L18.45,3.32a2,2,0,0,1,2.83,0l1.4,1.43a1.91,1.91,0,0,1,.58,1.4,1.91,1.91,0,0,1-.58,1.4L9.25,21ZM18.45,9,17,7.55Zm-12,3A5.31,5.31,0,0,0,4.9,8.1,5.31,5.31,0,0,0,1,6.5,5.31,5.31,0,0,0,4.9,4.9,5.31,5.31,0,0,0,6.5,1,5.31,5.31,0,0,0,8.1,4.9,5.31,5.31,0,0,0,12,6.5,5.46,5.46,0,0,0,6.5,12Z\"/>\n",
              "  </svg>\n",
              "    </button>\n",
              "    <script>\n",
              "      (() => {\n",
              "      const buttonEl =\n",
              "        document.querySelector('#id_2021b7c3-6141-4be3-afb1-479430da2967 button.colab-df-generate');\n",
              "      buttonEl.style.display =\n",
              "        google.colab.kernel.accessAllowed ? 'block' : 'none';\n",
              "\n",
              "      buttonEl.onclick = () => {\n",
              "        google.colab.notebook.generateWithVariable('na_pitch_list');\n",
              "      }\n",
              "      })();\n",
              "    </script>\n",
              "  </div>\n",
              "\n",
              "    </div>\n",
              "  </div>\n"
            ],
            "application/vnd.google.colaboratory.intrinsic+json": {
              "type": "dataframe",
              "variable_name": "na_pitch_list",
              "summary": "{\n  \"name\": \"na_pitch_list\",\n  \"rows\": 5162,\n  \"fields\": [\n    {\n      \"column\": \"g_id\",\n      \"properties\": {\n        \"dtype\": \"number\",\n        \"std\": 114973.88354464612,\n        \"min\": 201500002.0,\n        \"max\": 201902408.0,\n        \"num_unique_values\": 3626,\n        \"samples\": [\n          201601801.0,\n          201800028.0,\n          201801277.0\n        ],\n        \"semantic_type\": \"\",\n        \"description\": \"\"\n      }\n    },\n    {\n      \"column\": \"pitcher_id\",\n      \"properties\": {\n        \"dtype\": \"number\",\n        \"std\": 74050,\n        \"min\": 112526,\n        \"max\": 676606,\n        \"num_unique_values\": 976,\n        \"samples\": [\n          543219,\n          542947,\n          453311\n        ],\n        \"semantic_type\": \"\",\n        \"description\": \"\"\n      }\n    }\n  ]\n}"
            }
          },
          "metadata": {},
          "execution_count": 19
        }
      ],
      "source": [
        "na_pitch_list"
      ]
    },
    {
      "cell_type": "code",
      "execution_count": 20,
      "id": "878a0d1f-4a42-4daa-8b9b-466804aff37d",
      "metadata": {
        "id": "878a0d1f-4a42-4daa-8b9b-466804aff37d"
      },
      "outputs": [],
      "source": [
        "to_remove = gamedata1.merge(na_pitch_list, on=['g_id', 'pitcher_id'], how='inner')\n",
        "\n",
        "# Remove these rows from the original DataFrame\n",
        "gamedata_clean = gamedata1[~gamedata1.set_index(['g_id', 'pitcher_id']).index.isin(na_pitch_list.set_index(['g_id', 'pitcher_id']).index)]\n"
      ]
    },
    {
      "cell_type": "code",
      "execution_count": 21,
      "id": "00343010-ed6f-46a4-a0cb-d5879198f816",
      "metadata": {
        "colab": {
          "base_uri": "https://localhost:8080/"
        },
        "id": "00343010-ed6f-46a4-a0cb-d5879198f816",
        "outputId": "38cf14ff-1f32-4af0-a30d-dfc14a863705"
      },
      "outputs": [
        {
          "output_type": "execute_result",
          "data": {
            "text/plain": [
              "px                  0\n",
              "pz                  0\n",
              "start_speed         0\n",
              "end_speed           0\n",
              "sz_bot              0\n",
              "sz_top              0\n",
              "nasty          675488\n",
              "zone                0\n",
              "code             5616\n",
              "type                0\n",
              "pitch_type          0\n",
              "b_score             0\n",
              "ab_id               0\n",
              "b_count             0\n",
              "s_count             0\n",
              "outs                0\n",
              "pitch_num           0\n",
              "on_1b               0\n",
              "on_2b               0\n",
              "on_3b               0\n",
              "batter_id           0\n",
              "event               0\n",
              "g_id                0\n",
              "inning              0\n",
              "o                   0\n",
              "p_score             0\n",
              "p_throws            0\n",
              "pitcher_id          0\n",
              "stand               0\n",
              "top                 0\n",
              "attendance     675488\n",
              "weather        675488\n",
              "wind           675488\n",
              "pitch_count         0\n",
              "dtype: int64"
            ]
          },
          "metadata": {},
          "execution_count": 21
        }
      ],
      "source": [
        "gamedata_clean.isna().sum()"
      ]
    },
    {
      "cell_type": "markdown",
      "source": [
        "After removing these data, px, pz and pitch type don't have N/A value anymore."
      ],
      "metadata": {
        "id": "EkzwZ-Xw48Dc"
      },
      "id": "EkzwZ-Xw48Dc"
    },
    {
      "cell_type": "code",
      "execution_count": 22,
      "id": "d408dc56-4797-45f7-95ab-083b24766187",
      "metadata": {
        "colab": {
          "base_uri": "https://localhost:8080/"
        },
        "id": "d408dc56-4797-45f7-95ab-083b24766187",
        "outputId": "5588466f-245d-498e-b41d-8bdcdc807a1c"
      },
      "outputs": [
        {
          "output_type": "execute_result",
          "data": {
            "text/plain": [
              "(3311559, 34)"
            ]
          },
          "metadata": {},
          "execution_count": 22
        }
      ],
      "source": [
        "gamedata_clean.shape"
      ]
    },
    {
      "cell_type": "markdown",
      "id": "2a1748a3-e9a6-46b9-b016-8cd067027732",
      "metadata": {
        "id": "2a1748a3-e9a6-46b9-b016-8cd067027732"
      },
      "source": [
        "#### Check placeholder"
      ]
    },
    {
      "cell_type": "markdown",
      "source": [
        "In Sprint1, we notice zone column has a value called 'placeholder'. Zone column are determined by px and pz. Both will serve as coordinates, and zone reprents the area on the strike zone map.\n",
        "\n",
        "We will check if any other colomns contains this value. This will be dealt with later on."
      ],
      "metadata": {
        "id": "OdeNQKIW5DHf"
      },
      "id": "OdeNQKIW5DHf"
    },
    {
      "cell_type": "code",
      "execution_count": 23,
      "id": "01427f42-0e4e-4f0a-a15b-8f19b5dfceb3",
      "metadata": {
        "colab": {
          "base_uri": "https://localhost:8080/"
        },
        "id": "01427f42-0e4e-4f0a-a15b-8f19b5dfceb3",
        "outputId": "f0442238-f1d4-43b4-c211-79c18ef1a095"
      },
      "outputs": [
        {
          "output_type": "stream",
          "name": "stdout",
          "text": [
            "px             False\n",
            "pz             False\n",
            "start_speed    False\n",
            "end_speed      False\n",
            "sz_bot         False\n",
            "sz_top         False\n",
            "nasty          False\n",
            "zone            True\n",
            "code           False\n",
            "type           False\n",
            "pitch_type     False\n",
            "b_score        False\n",
            "ab_id          False\n",
            "b_count        False\n",
            "s_count        False\n",
            "outs           False\n",
            "pitch_num      False\n",
            "on_1b          False\n",
            "on_2b          False\n",
            "on_3b          False\n",
            "batter_id      False\n",
            "event          False\n",
            "g_id           False\n",
            "inning         False\n",
            "o              False\n",
            "p_score        False\n",
            "p_throws       False\n",
            "pitcher_id     False\n",
            "stand          False\n",
            "top            False\n",
            "attendance     False\n",
            "weather        False\n",
            "wind           False\n",
            "pitch_count    False\n",
            "dtype: bool\n"
          ]
        }
      ],
      "source": [
        "mask_placeholder = gamedata_clean.applymap(lambda x: 'placeholder' in str(x))\n",
        "\n",
        "# Check which columns contain 'placeholder'\n",
        "columns_with_placeholder = mask_placeholder.any()\n",
        "\n",
        "print(columns_with_placeholder)"
      ]
    },
    {
      "cell_type": "markdown",
      "id": "ffbdf657-bb92-4df2-9a1b-9a4b03fbee1f",
      "metadata": {
        "id": "ffbdf657-bb92-4df2-9a1b-9a4b03fbee1f"
      },
      "source": [
        "## Simplified pitch type"
      ]
    },
    {
      "cell_type": "markdown",
      "source": [
        "As done in Sprint 1, we will simply the pitch type to 4 classes to reduce the complexity of classification.\n",
        "- Fastball\n",
        "- Breaking ball\n",
        "- Off-speed\n",
        "- Other"
      ],
      "metadata": {
        "id": "Mj_uGOI95skd"
      },
      "id": "Mj_uGOI95skd"
    },
    {
      "cell_type": "code",
      "execution_count": 24,
      "id": "f7d0c736-aca1-42f3-90cc-21b8d1d1d171",
      "metadata": {
        "id": "f7d0c736-aca1-42f3-90cc-21b8d1d1d171"
      },
      "outputs": [],
      "source": [
        "dictionary_pitch = {'CH':'Off-speed',\n",
        "                'CU':'Breaking',\n",
        "                'EP':'Other',\n",
        "                'FC':'Fastball',\n",
        "                'FF':'Fastball',\n",
        "                'FO':'Other',\n",
        "                'FS':'Off-speed',\n",
        "                'FT':'Fastball',\n",
        "                'IN':'Other',\n",
        "                'KC':'Breaking',\n",
        "                'KN':'Breaking',\n",
        "                'PO':'Other',\n",
        "                'SC':'Off-speed',\n",
        "                'SI':'Fastball',\n",
        "                'SL':'Breaking',\n",
        "                'UN':'Other',\n",
        "                'FA':'Fastball',\n",
        "                'AB':'Other'\n",
        "                }"
      ]
    },
    {
      "cell_type": "code",
      "execution_count": 25,
      "id": "81f0be1c-86a2-4daf-8e85-3b07ec28ed8f",
      "metadata": {
        "colab": {
          "base_uri": "https://localhost:8080/"
        },
        "id": "81f0be1c-86a2-4daf-8e85-3b07ec28ed8f",
        "outputId": "903402e6-f8b5-4ee0-d1a3-fc7d1e9cbb72"
      },
      "outputs": [
        {
          "output_type": "stream",
          "name": "stderr",
          "text": [
            "<ipython-input-25-799c29b74e11>:2: SettingWithCopyWarning: \n",
            "A value is trying to be set on a copy of a slice from a DataFrame.\n",
            "Try using .loc[row_indexer,col_indexer] = value instead\n",
            "\n",
            "See the caveats in the documentation: https://pandas.pydata.org/pandas-docs/stable/user_guide/indexing.html#returning-a-view-versus-a-copy\n",
            "  gamedata_clean['simple_pitch_type'] = simple_pitch_types\n"
          ]
        }
      ],
      "source": [
        "simple_pitch_types = [dictionary_pitch[pitch_type] for pitch_type in gamedata_clean['pitch_type']]\n",
        "gamedata_clean['simple_pitch_type'] = simple_pitch_types"
      ]
    },
    {
      "cell_type": "markdown",
      "id": "1be676af-2a05-428d-aaae-d7afc06f2942",
      "metadata": {
        "id": "1be676af-2a05-428d-aaae-d7afc06f2942"
      },
      "source": [
        "## Simplified At-Bat Result"
      ]
    },
    {
      "cell_type": "markdown",
      "source": [
        "We will use the previous at-bat result as a feature later on. Let's take a look at the unique kinds of events. Note that this is the result of the at-bat, pitcher usually pitch 5+ balls and at-bat is considered over with one of these results."
      ],
      "metadata": {
        "id": "st771FV_6VQH"
      },
      "id": "st771FV_6VQH"
    },
    {
      "cell_type": "code",
      "execution_count": 26,
      "id": "94e7003b-6d48-4fc2-bb15-339c11b4bd71",
      "metadata": {
        "colab": {
          "base_uri": "https://localhost:8080/"
        },
        "id": "94e7003b-6d48-4fc2-bb15-339c11b4bd71",
        "outputId": "277f9c5e-db57-41b0-9e23-b14078d6ed78"
      },
      "outputs": [
        {
          "output_type": "execute_result",
          "data": {
            "text/plain": [
              "event\n",
              "Strikeout                       893179\n",
              "Groundout                       536893\n",
              "Single                          419722\n",
              "Walk                            382295\n",
              "Flyout                          316937\n",
              "Lineout                         177740\n",
              "Pop Out                         137777\n",
              "Double                          126393\n",
              "Home Run                         90366\n",
              "Forceout                         54178\n",
              "Grounded Into DP                 52649\n",
              "Hit By Pitch                     25703\n",
              "Field Error                      24697\n",
              "Sac Fly                          17380\n",
              "Triple                           13263\n",
              "Sac Bunt                          7891\n",
              "Double Play                       6819\n",
              "Intent Walk                       6634\n",
              "Fielders Choice Out               4473\n",
              "Runner Out                        3975\n",
              "Strikeout - DP                    3334\n",
              "Bunt Groundout                    2361\n",
              "Fielders Choice                   2352\n",
              "Bunt Pop Out                      1067\n",
              "Strikeout Double Play              872\n",
              "Catcher Interference               677\n",
              "Batter Interference                646\n",
              "Caught Stealing 2B                 471\n",
              "Sac Fly DP                         208\n",
              "Fan Interference                   109\n",
              "Bunt Lineout                        96\n",
              "Pickoff Caught Stealing 2B          74\n",
              "Pickoff 1B                          74\n",
              "Triple Play                         65\n",
              "Caught Stealing Home                49\n",
              "Sac Fly Double Play                 33\n",
              "Caught Stealing 3B                  26\n",
              "Pickoff 2B                          18\n",
              "Pickoff Caught Stealing Home        11\n",
              "Pickoff 3B                          10\n",
              "Sacrifice Bunt DP                    9\n",
              "Wild Pitch                           9\n",
              "Pickoff Caught Stealing 3B           6\n",
              "Runner Double Play                   5\n",
              "Game Advisory                        5\n",
              "Passed Ball                          3\n",
              "Sac Bunt Double Play                 3\n",
              "Pickoff Error 1B                     2\n",
              "Name: count, dtype: int64"
            ]
          },
          "metadata": {},
          "execution_count": 26
        }
      ],
      "source": [
        "gamedata_clean['event'].value_counts()"
      ]
    },
    {
      "cell_type": "markdown",
      "source": [
        "49 types of outcome. This will absolutely create issues when we feature engineer the \"previous at-bat result\" and put it to dummy variables. We will set the following rules:\n",
        "- If the batter advances one base, it's a hit. Walk, HBP will be considered as a hit as well.\n",
        "- If the batter advances more than one base, it's a slug. We distingtish this from a hit to show the extra damage the batter has created.\n",
        "- If the batter is out, it's an out.\n",
        "- If there's more than 1 out, it's a double play. We distingtish this from an out to show the extra advantage the pitcher and defense has gained.\n",
        "- The rest of the event is called 'Other'."
      ],
      "metadata": {
        "id": "LhDvlrIK7Hs0"
      },
      "id": "LhDvlrIK7Hs0"
    },
    {
      "cell_type": "code",
      "execution_count": 27,
      "id": "7d38b372-56da-4fe5-868e-c016a4ade878",
      "metadata": {
        "id": "7d38b372-56da-4fe5-868e-c016a4ade878"
      },
      "outputs": [],
      "source": [
        "dictionary_event = {'Strikeout':'Out',\n",
        "                'Groundout':'Out',\n",
        "                'Single':'Hit',\n",
        "                'Walk':'Hit',\n",
        "                'Flyout':'Out',\n",
        "                'Lineout':'Out',\n",
        "                'Pop Out':'Out',\n",
        "                'Double':'Slug',\n",
        "                'Home Run':'Slug',\n",
        "                'Forceout':'Out',\n",
        "                'Grounded Into DP':'DP',\n",
        "                'Hit By Pitch':'Hit',\n",
        "                'Field Error':'Other',\n",
        "                'Sac Fly':'Other',\n",
        "                'Intent Walk':'Hit',\n",
        "                'Triple':'Slug',\n",
        "                'Sac Bunt':'Other',\n",
        "                'Double Play':'DP',\n",
        "                'Fielders Choice Out':'Out',\n",
        "                'Runner Out':'Out',\n",
        "                'Strikeout - DP':'DP',\n",
        "                'Fielders Choice':'Out',\n",
        "                'Bunt Groundout':'Out',\n",
        "                'Bunt Pop Out':'Out',\n",
        "                'Strikeout Double Play':'DP',\n",
        "                'Catcher Interference':'Other',\n",
        "                'Batter Interference':'Other',\n",
        "                'Caught Stealing 2B':'Out',\n",
        "                'Sac Fly DP':'DP',\n",
        "                'Fan Interference':'Other',\n",
        "                'Bunt Lineout':'Out',\n",
        "                'Pickoff Caught Stealing 2B':'Other',\n",
        "                'Triple Play':'DP',\n",
        "                'Pickoff 1B':'Other',\n",
        "                'Caught Stealing Home':'Out',\n",
        "                'Sac Fly Double Play':'DP',\n",
        "                'Caught Stealing 3B':'Out',\n",
        "                'Pickoff 2B':'Other',\n",
        "                'Pickoff Caught Stealing Home':'Out',\n",
        "                'Wild Pitch':'Other',\n",
        "                'Pickoff 3B':'Other',\n",
        "                'Sacrifice Bunt DP':'DP',\n",
        "                'Sac Bunt Double Play':'DP',\n",
        "                'Runner Double Play':'DP',\n",
        "                'Pickoff Caught Stealing 3B':'Out',\n",
        "                'Game Advisory':'Other',\n",
        "                'Pickoff Caught Stealing Home':'Out',\n",
        "                'Passed Ball':'Other',\n",
        "                'Pickoff Error 1B':'Other',\n",
        "                'Stolen Base 2B':'Other'\n",
        "                }\n"
      ]
    },
    {
      "cell_type": "code",
      "execution_count": 28,
      "id": "bf469093-67a8-49cf-9e6a-b7a9949bea62",
      "metadata": {
        "colab": {
          "base_uri": "https://localhost:8080/"
        },
        "id": "bf469093-67a8-49cf-9e6a-b7a9949bea62",
        "outputId": "b5ab714b-20e1-473c-d264-f0a1edfbe6b8"
      },
      "outputs": [
        {
          "output_type": "stream",
          "name": "stderr",
          "text": [
            "<ipython-input-28-3d0a61c0a531>:3: SettingWithCopyWarning: \n",
            "A value is trying to be set on a copy of a slice from a DataFrame.\n",
            "Try using .loc[row_indexer,col_indexer] = value instead\n",
            "\n",
            "See the caveats in the documentation: https://pandas.pydata.org/pandas-docs/stable/user_guide/indexing.html#returning-a-view-versus-a-copy\n",
            "  gamedata_clean['simple_ab_event'] = simple_ab_event\n"
          ]
        }
      ],
      "source": [
        "# Update to a new column\n",
        "simple_ab_event = [dictionary_event[event_type] for event_type in gamedata_clean['event']]\n",
        "gamedata_clean['simple_ab_event'] = simple_ab_event"
      ]
    },
    {
      "cell_type": "code",
      "execution_count": 28,
      "id": "6adde1e1-4f30-4a08-a23b-85ca4ad36fbf",
      "metadata": {
        "id": "6adde1e1-4f30-4a08-a23b-85ca4ad36fbf"
      },
      "outputs": [],
      "source": []
    },
    {
      "cell_type": "markdown",
      "id": "49fc9af6-3f77-45b5-b898-5dd8e66b053f",
      "metadata": {
        "id": "49fc9af6-3f77-45b5-b898-5dd8e66b053f"
      },
      "source": [
        "## Count Difference"
      ]
    },
    {
      "cell_type": "markdown",
      "source": [
        "The rule of baseball pitching is that if 4 bad pitches (ball) are made, batter can walk to the first base. If 3 good pitchers (strike) are made, batter is out. Ball count serves as a tool to show who's at advantage.\n",
        "\n",
        "Suppose the current count is 3 ball and no strike, then the pitcher has the pressure to throw strikes, otherwise the batter will get free base. On the other hand, if the count is 1 ball 2 strikes, then the batter has two more chances to throw ball. They might intentionally throw breaking balls that induce batters to swing and miss, thus strikeing them out.\n",
        "\n",
        "We will simply use ball count - strike count to show the difference."
      ],
      "metadata": {
        "id": "lJTfDcGr881I"
      },
      "id": "lJTfDcGr881I"
    },
    {
      "cell_type": "code",
      "execution_count": 29,
      "id": "0364b321-a9b4-4fd6-9206-845d4e1ec99f",
      "metadata": {
        "colab": {
          "base_uri": "https://localhost:8080/"
        },
        "id": "0364b321-a9b4-4fd6-9206-845d4e1ec99f",
        "outputId": "e6748529-4766-4641-948e-154cae7332de"
      },
      "outputs": [
        {
          "output_type": "stream",
          "name": "stderr",
          "text": [
            "<ipython-input-29-41f1632e72f6>:1: SettingWithCopyWarning: \n",
            "A value is trying to be set on a copy of a slice from a DataFrame.\n",
            "Try using .loc[row_indexer,col_indexer] = value instead\n",
            "\n",
            "See the caveats in the documentation: https://pandas.pydata.org/pandas-docs/stable/user_guide/indexing.html#returning-a-view-versus-a-copy\n",
            "  gamedata_clean['b_count_diff'] = gamedata_clean['b_count'] - gamedata_clean['s_count']\n"
          ]
        }
      ],
      "source": [
        "gamedata_clean['b_count_diff'] = gamedata_clean['b_count'] - gamedata_clean['s_count']"
      ]
    },
    {
      "cell_type": "markdown",
      "id": "389bb95e-43a2-463c-8555-6e2de8b4e927",
      "metadata": {
        "id": "389bb95e-43a2-463c-8555-6e2de8b4e927"
      },
      "source": [
        "## Run Difference"
      ]
    },
    {
      "cell_type": "markdown",
      "source": [
        "For some reason, baseball calls score as run. So this is simply showing the score difference. Note that the difference is calculated using the pitcher's team's score minus the opposite side's score. The sign of this run difference will change when changing between top and bottom innings."
      ],
      "metadata": {
        "id": "unAvVQMA-2YS"
      },
      "id": "unAvVQMA-2YS"
    },
    {
      "cell_type": "code",
      "execution_count": 30,
      "id": "2240e8cd-6d68-46c6-aee2-69d8375f9b9f",
      "metadata": {
        "colab": {
          "base_uri": "https://localhost:8080/"
        },
        "id": "2240e8cd-6d68-46c6-aee2-69d8375f9b9f",
        "outputId": "4106cdc6-27a6-4b8c-a580-f77f1bac4ba8"
      },
      "outputs": [
        {
          "output_type": "stream",
          "name": "stderr",
          "text": [
            "<ipython-input-30-2d5576de9293>:1: SettingWithCopyWarning: \n",
            "A value is trying to be set on a copy of a slice from a DataFrame.\n",
            "Try using .loc[row_indexer,col_indexer] = value instead\n",
            "\n",
            "See the caveats in the documentation: https://pandas.pydata.org/pandas-docs/stable/user_guide/indexing.html#returning-a-view-versus-a-copy\n",
            "  gamedata_clean['run_diff'] = gamedata_clean['p_score'] - gamedata_clean['b_score']\n"
          ]
        }
      ],
      "source": [
        "gamedata_clean['run_diff'] = gamedata_clean['p_score'] - gamedata_clean['b_score']"
      ]
    },
    {
      "cell_type": "code",
      "execution_count": 31,
      "id": "1ad90dc0-6301-4012-af2b-81ae4afbd40e",
      "metadata": {
        "colab": {
          "base_uri": "https://localhost:8080/"
        },
        "id": "1ad90dc0-6301-4012-af2b-81ae4afbd40e",
        "outputId": "5688be47-475f-476a-fb33-dec8829d097a"
      },
      "outputs": [
        {
          "output_type": "stream",
          "name": "stdout",
          "text": [
            "<class 'pandas.core.frame.DataFrame'>\n",
            "Index: 3311559 entries, 0 to 3595943\n",
            "Data columns (total 38 columns):\n",
            " #   Column             Dtype  \n",
            "---  ------             -----  \n",
            " 0   px                 float64\n",
            " 1   pz                 float64\n",
            " 2   start_speed        float64\n",
            " 3   end_speed          float64\n",
            " 4   sz_bot             float64\n",
            " 5   sz_top             float64\n",
            " 6   nasty              float64\n",
            " 7   zone               object \n",
            " 8   code               object \n",
            " 9   type               object \n",
            " 10  pitch_type         object \n",
            " 11  b_score            float64\n",
            " 12  ab_id              float64\n",
            " 13  b_count            float64\n",
            " 14  s_count            float64\n",
            " 15  outs               float64\n",
            " 16  pitch_num          float64\n",
            " 17  on_1b              float64\n",
            " 18  on_2b              float64\n",
            " 19  on_3b              float64\n",
            " 20  batter_id          int64  \n",
            " 21  event              object \n",
            " 22  g_id               float64\n",
            " 23  inning             float64\n",
            " 24  o                  int64  \n",
            " 25  p_score            float64\n",
            " 26  p_throws           object \n",
            " 27  pitcher_id         int64  \n",
            " 28  stand              object \n",
            " 29  top                object \n",
            " 30  attendance         float64\n",
            " 31  weather            object \n",
            " 32  wind               object \n",
            " 33  pitch_count        int64  \n",
            " 34  simple_pitch_type  object \n",
            " 35  simple_ab_event    object \n",
            " 36  b_count_diff       float64\n",
            " 37  run_diff           float64\n",
            "dtypes: float64(22), int64(4), object(12)\n",
            "memory usage: 985.3+ MB\n"
          ]
        }
      ],
      "source": [
        "gamedata_clean.info()"
      ]
    },
    {
      "cell_type": "markdown",
      "id": "646a104f-c343-4d6d-b791-55a2dbf44d4b",
      "metadata": {
        "id": "646a104f-c343-4d6d-b791-55a2dbf44d4b"
      },
      "source": [
        "## Split to top and bottom again"
      ]
    },
    {
      "cell_type": "markdown",
      "source": [
        "We will move on to the feature engineering for previous result that shows some idea of recurrent. It's important to split the dataframe to top and bottom innings again."
      ],
      "metadata": {
        "id": "qOfJ-3gn_ozo"
      },
      "id": "qOfJ-3gn_ozo"
    },
    {
      "cell_type": "code",
      "execution_count": 32,
      "id": "8baac863-638e-4499-8fba-1f8120062b17",
      "metadata": {
        "id": "8baac863-638e-4499-8fba-1f8120062b17"
      },
      "outputs": [],
      "source": [
        "top_ins = gamedata_clean[gamedata_clean['top'] ==True]\n",
        "bot_ins = gamedata_clean[gamedata_clean['top'] == False]"
      ]
    },
    {
      "cell_type": "code",
      "execution_count": 32,
      "id": "9234b86b-e1c0-4aed-8151-55c77b5f1eff",
      "metadata": {
        "id": "9234b86b-e1c0-4aed-8151-55c77b5f1eff"
      },
      "outputs": [],
      "source": []
    },
    {
      "cell_type": "markdown",
      "id": "c9c2f64e-8e94-4f87-b717-b0d84fa7f24a",
      "metadata": {
        "id": "c9c2f64e-8e94-4f87-b717-b0d84fa7f24a"
      },
      "source": [
        "## Previous at-bat result"
      ]
    },
    {
      "cell_type": "markdown",
      "id": "5fc006ae-c7ca-426c-ae3c-e85040ff64a5",
      "metadata": {
        "id": "5fc006ae-c7ca-426c-ae3c-e85040ff64a5"
      },
      "source": [
        "Previous at-bat result generally serves as an indicator of \"Advantage\". Consecutive hits probably shows the last pitch is not good enough or has been anticpated. In other words, it's a signal for pitcher to keep or adjust their pitching strategy.\n",
        "\n",
        "It's important to note that there's an underlying assumption. Are each at-bats related to each other? Are each innings connected to each other?"
      ]
    },
    {
      "cell_type": "code",
      "execution_count": 33,
      "id": "598a6073-c72e-4298-ac63-1c54b88bd292",
      "metadata": {
        "colab": {
          "base_uri": "https://localhost:8080/"
        },
        "id": "598a6073-c72e-4298-ac63-1c54b88bd292",
        "outputId": "11e7f9f3-9e3e-48e2-bf7c-193dc13d24d4"
      },
      "outputs": [
        {
          "output_type": "execute_result",
          "data": {
            "text/plain": [
              "event\n",
              "Strikeout                       199405\n",
              "Groundout                       166734\n",
              "Single                          134520\n",
              "Flyout                          100488\n",
              "Walk                             71903\n",
              "Lineout                          55960\n",
              "Pop Out                          43115\n",
              "Double                           41582\n",
              "Home Run                         28927\n",
              "Forceout                         18653\n",
              "Grounded Into DP                 18141\n",
              "Hit By Pitch                      8901\n",
              "Field Error                       7728\n",
              "Sac Fly                           5901\n",
              "Sac Bunt                          4738\n",
              "Intent Walk                       4531\n",
              "Triple                            4236\n",
              "Double Play                       2208\n",
              "Runner Out                        1778\n",
              "Fielders Choice Out               1535\n",
              "Bunt Groundout                    1479\n",
              "Fielders Choice                    801\n",
              "Bunt Pop Out                       681\n",
              "Strikeout - DP                     580\n",
              "Catcher Interference               213\n",
              "Batter Interference                211\n",
              "Caught Stealing 2B                 179\n",
              "Strikeout Double Play              146\n",
              "Sac Fly DP                          76\n",
              "Bunt Lineout                        61\n",
              "Pickoff Caught Stealing 2B          50\n",
              "Pickoff 1B                          39\n",
              "Fan Interference                    36\n",
              "Triple Play                         23\n",
              "Caught Stealing Home                15\n",
              "Sac Fly Double Play                 11\n",
              "Caught Stealing 3B                  11\n",
              "Pickoff 2B                          10\n",
              "Sacrifice Bunt DP                    4\n",
              "Wild Pitch                           4\n",
              "Pickoff Caught Stealing Home         4\n",
              "Sac Bunt Double Play                 3\n",
              "Runner Double Play                   3\n",
              "Game Advisory                        3\n",
              "Pickoff 3B                           3\n",
              "Pickoff Error 1B                     1\n",
              "Passed Ball                          1\n",
              "Pickoff Caught Stealing 3B           1\n",
              "Stolen Base 2B                       1\n",
              "Name: count, dtype: int64"
            ]
          },
          "metadata": {},
          "execution_count": 33
        }
      ],
      "source": [
        "ab_df['event'].value_counts()"
      ]
    },
    {
      "cell_type": "markdown",
      "source": [
        "It will be tough to locate last pitch from the pitch-by-pitch script. Luckily, the ab_df dataframe contains the at-bat result, same as the 'event' column from our main dataframe. We will encode the event column in ab_df, look up the previous at-bat id and bring the simplied event to a new column."
      ],
      "metadata": {
        "id": "AdJSrAWPA_Ux"
      },
      "id": "AdJSrAWPA_Ux"
    },
    {
      "cell_type": "code",
      "execution_count": 34,
      "id": "37d27187-6b49-44a2-8ed0-62440e815405",
      "metadata": {
        "id": "37d27187-6b49-44a2-8ed0-62440e815405"
      },
      "outputs": [],
      "source": [
        "simple_ab_event = [dictionary_event[event_type] for event_type in ab_df['event']]\n",
        "ab_df['simple_ab_event'] = simple_ab_event"
      ]
    },
    {
      "cell_type": "code",
      "execution_count": 35,
      "id": "f06953cb-1105-46a0-92b4-3032c4c7eacd",
      "metadata": {
        "colab": {
          "base_uri": "https://localhost:8080/"
        },
        "id": "f06953cb-1105-46a0-92b4-3032c4c7eacd",
        "outputId": "f21ccaac-d143-4ed7-ed4b-ba8f130c3ccd"
      },
      "outputs": [
        {
          "output_type": "stream",
          "name": "stderr",
          "text": [
            "<ipython-input-35-a40d60580f47>:9: SettingWithCopyWarning: \n",
            "A value is trying to be set on a copy of a slice from a DataFrame.\n",
            "Try using .loc[row_indexer,col_indexer] = value instead\n",
            "\n",
            "See the caveats in the documentation: https://pandas.pydata.org/pandas-docs/stable/user_guide/indexing.html#returning-a-view-versus-a-copy\n",
            "  top_ins.loc[top_ins.index[i], 'prvs_ab'] = result\n"
          ]
        }
      ],
      "source": [
        "result = \"\"\n",
        "for i in range(len(top_ins)):\n",
        "    if (top_ins['g_id'].iloc[i] != top_ins['g_id'].iloc[i-1]): # Make sure to set first AB for the first ab-bat of the game\n",
        "        result = \"FirstAB\"\n",
        "    else:\n",
        "        if (top_ins['ab_id'].iloc[i] != top_ins['ab_id'].iloc[i-1]):\n",
        "            matching_index = ab_df[ab_df['ab_id'] == top_ins['ab_id'].iloc[i-1]].index[0]\n",
        "            result = ab_df.iloc[matching_index]['simple_ab_event']\n",
        "    top_ins.loc[top_ins.index[i], 'prvs_ab'] = result"
      ]
    },
    {
      "cell_type": "code",
      "execution_count": 36,
      "id": "5daf5fbb-e742-4da7-af2a-bf4c3b0eb8dc",
      "metadata": {
        "colab": {
          "base_uri": "https://localhost:8080/",
          "height": 676
        },
        "id": "5daf5fbb-e742-4da7-af2a-bf4c3b0eb8dc",
        "outputId": "cd006852-9dd6-45d0-b383-3c57d8713c2d"
      },
      "outputs": [
        {
          "output_type": "execute_result",
          "data": {
            "text/plain": [
              "        event  prvs_ab\n",
              "0   Groundout  FirstAB\n",
              "1   Groundout  FirstAB\n",
              "2   Groundout  FirstAB\n",
              "3   Groundout  FirstAB\n",
              "4   Groundout  FirstAB\n",
              "5   Groundout  FirstAB\n",
              "6      Double      Out\n",
              "7      Double      Out\n",
              "8      Single     Slug\n",
              "9      Single     Slug\n",
              "10     Single     Slug\n",
              "11  Strikeout      Hit\n",
              "12  Strikeout      Hit\n",
              "13  Strikeout      Hit\n",
              "14  Strikeout      Out\n",
              "15  Strikeout      Out\n",
              "16  Strikeout      Out\n",
              "17  Strikeout      Out\n",
              "18  Strikeout      Out\n",
              "34  Strikeout      Out"
            ],
            "text/html": [
              "\n",
              "  <div id=\"df-aba64cb3-d3ae-4ee0-9a67-147a367ea9b3\" class=\"colab-df-container\">\n",
              "    <div>\n",
              "<style scoped>\n",
              "    .dataframe tbody tr th:only-of-type {\n",
              "        vertical-align: middle;\n",
              "    }\n",
              "\n",
              "    .dataframe tbody tr th {\n",
              "        vertical-align: top;\n",
              "    }\n",
              "\n",
              "    .dataframe thead th {\n",
              "        text-align: right;\n",
              "    }\n",
              "</style>\n",
              "<table border=\"1\" class=\"dataframe\">\n",
              "  <thead>\n",
              "    <tr style=\"text-align: right;\">\n",
              "      <th></th>\n",
              "      <th>event</th>\n",
              "      <th>prvs_ab</th>\n",
              "    </tr>\n",
              "  </thead>\n",
              "  <tbody>\n",
              "    <tr>\n",
              "      <th>0</th>\n",
              "      <td>Groundout</td>\n",
              "      <td>FirstAB</td>\n",
              "    </tr>\n",
              "    <tr>\n",
              "      <th>1</th>\n",
              "      <td>Groundout</td>\n",
              "      <td>FirstAB</td>\n",
              "    </tr>\n",
              "    <tr>\n",
              "      <th>2</th>\n",
              "      <td>Groundout</td>\n",
              "      <td>FirstAB</td>\n",
              "    </tr>\n",
              "    <tr>\n",
              "      <th>3</th>\n",
              "      <td>Groundout</td>\n",
              "      <td>FirstAB</td>\n",
              "    </tr>\n",
              "    <tr>\n",
              "      <th>4</th>\n",
              "      <td>Groundout</td>\n",
              "      <td>FirstAB</td>\n",
              "    </tr>\n",
              "    <tr>\n",
              "      <th>5</th>\n",
              "      <td>Groundout</td>\n",
              "      <td>FirstAB</td>\n",
              "    </tr>\n",
              "    <tr>\n",
              "      <th>6</th>\n",
              "      <td>Double</td>\n",
              "      <td>Out</td>\n",
              "    </tr>\n",
              "    <tr>\n",
              "      <th>7</th>\n",
              "      <td>Double</td>\n",
              "      <td>Out</td>\n",
              "    </tr>\n",
              "    <tr>\n",
              "      <th>8</th>\n",
              "      <td>Single</td>\n",
              "      <td>Slug</td>\n",
              "    </tr>\n",
              "    <tr>\n",
              "      <th>9</th>\n",
              "      <td>Single</td>\n",
              "      <td>Slug</td>\n",
              "    </tr>\n",
              "    <tr>\n",
              "      <th>10</th>\n",
              "      <td>Single</td>\n",
              "      <td>Slug</td>\n",
              "    </tr>\n",
              "    <tr>\n",
              "      <th>11</th>\n",
              "      <td>Strikeout</td>\n",
              "      <td>Hit</td>\n",
              "    </tr>\n",
              "    <tr>\n",
              "      <th>12</th>\n",
              "      <td>Strikeout</td>\n",
              "      <td>Hit</td>\n",
              "    </tr>\n",
              "    <tr>\n",
              "      <th>13</th>\n",
              "      <td>Strikeout</td>\n",
              "      <td>Hit</td>\n",
              "    </tr>\n",
              "    <tr>\n",
              "      <th>14</th>\n",
              "      <td>Strikeout</td>\n",
              "      <td>Out</td>\n",
              "    </tr>\n",
              "    <tr>\n",
              "      <th>15</th>\n",
              "      <td>Strikeout</td>\n",
              "      <td>Out</td>\n",
              "    </tr>\n",
              "    <tr>\n",
              "      <th>16</th>\n",
              "      <td>Strikeout</td>\n",
              "      <td>Out</td>\n",
              "    </tr>\n",
              "    <tr>\n",
              "      <th>17</th>\n",
              "      <td>Strikeout</td>\n",
              "      <td>Out</td>\n",
              "    </tr>\n",
              "    <tr>\n",
              "      <th>18</th>\n",
              "      <td>Strikeout</td>\n",
              "      <td>Out</td>\n",
              "    </tr>\n",
              "    <tr>\n",
              "      <th>34</th>\n",
              "      <td>Strikeout</td>\n",
              "      <td>Out</td>\n",
              "    </tr>\n",
              "  </tbody>\n",
              "</table>\n",
              "</div>\n",
              "    <div class=\"colab-df-buttons\">\n",
              "\n",
              "  <div class=\"colab-df-container\">\n",
              "    <button class=\"colab-df-convert\" onclick=\"convertToInteractive('df-aba64cb3-d3ae-4ee0-9a67-147a367ea9b3')\"\n",
              "            title=\"Convert this dataframe to an interactive table.\"\n",
              "            style=\"display:none;\">\n",
              "\n",
              "  <svg xmlns=\"http://www.w3.org/2000/svg\" height=\"24px\" viewBox=\"0 -960 960 960\">\n",
              "    <path d=\"M120-120v-720h720v720H120Zm60-500h600v-160H180v160Zm220 220h160v-160H400v160Zm0 220h160v-160H400v160ZM180-400h160v-160H180v160Zm440 0h160v-160H620v160ZM180-180h160v-160H180v160Zm440 0h160v-160H620v160Z\"/>\n",
              "  </svg>\n",
              "    </button>\n",
              "\n",
              "  <style>\n",
              "    .colab-df-container {\n",
              "      display:flex;\n",
              "      gap: 12px;\n",
              "    }\n",
              "\n",
              "    .colab-df-convert {\n",
              "      background-color: #E8F0FE;\n",
              "      border: none;\n",
              "      border-radius: 50%;\n",
              "      cursor: pointer;\n",
              "      display: none;\n",
              "      fill: #1967D2;\n",
              "      height: 32px;\n",
              "      padding: 0 0 0 0;\n",
              "      width: 32px;\n",
              "    }\n",
              "\n",
              "    .colab-df-convert:hover {\n",
              "      background-color: #E2EBFA;\n",
              "      box-shadow: 0px 1px 2px rgba(60, 64, 67, 0.3), 0px 1px 3px 1px rgba(60, 64, 67, 0.15);\n",
              "      fill: #174EA6;\n",
              "    }\n",
              "\n",
              "    .colab-df-buttons div {\n",
              "      margin-bottom: 4px;\n",
              "    }\n",
              "\n",
              "    [theme=dark] .colab-df-convert {\n",
              "      background-color: #3B4455;\n",
              "      fill: #D2E3FC;\n",
              "    }\n",
              "\n",
              "    [theme=dark] .colab-df-convert:hover {\n",
              "      background-color: #434B5C;\n",
              "      box-shadow: 0px 1px 3px 1px rgba(0, 0, 0, 0.15);\n",
              "      filter: drop-shadow(0px 1px 2px rgba(0, 0, 0, 0.3));\n",
              "      fill: #FFFFFF;\n",
              "    }\n",
              "  </style>\n",
              "\n",
              "    <script>\n",
              "      const buttonEl =\n",
              "        document.querySelector('#df-aba64cb3-d3ae-4ee0-9a67-147a367ea9b3 button.colab-df-convert');\n",
              "      buttonEl.style.display =\n",
              "        google.colab.kernel.accessAllowed ? 'block' : 'none';\n",
              "\n",
              "      async function convertToInteractive(key) {\n",
              "        const element = document.querySelector('#df-aba64cb3-d3ae-4ee0-9a67-147a367ea9b3');\n",
              "        const dataTable =\n",
              "          await google.colab.kernel.invokeFunction('convertToInteractive',\n",
              "                                                    [key], {});\n",
              "        if (!dataTable) return;\n",
              "\n",
              "        const docLinkHtml = 'Like what you see? Visit the ' +\n",
              "          '<a target=\"_blank\" href=https://colab.research.google.com/notebooks/data_table.ipynb>data table notebook</a>'\n",
              "          + ' to learn more about interactive tables.';\n",
              "        element.innerHTML = '';\n",
              "        dataTable['output_type'] = 'display_data';\n",
              "        await google.colab.output.renderOutput(dataTable, element);\n",
              "        const docLink = document.createElement('div');\n",
              "        docLink.innerHTML = docLinkHtml;\n",
              "        element.appendChild(docLink);\n",
              "      }\n",
              "    </script>\n",
              "  </div>\n",
              "\n",
              "\n",
              "<div id=\"df-845ac4e8-4a38-4cec-a7eb-3014248226bd\">\n",
              "  <button class=\"colab-df-quickchart\" onclick=\"quickchart('df-845ac4e8-4a38-4cec-a7eb-3014248226bd')\"\n",
              "            title=\"Suggest charts\"\n",
              "            style=\"display:none;\">\n",
              "\n",
              "<svg xmlns=\"http://www.w3.org/2000/svg\" height=\"24px\"viewBox=\"0 0 24 24\"\n",
              "     width=\"24px\">\n",
              "    <g>\n",
              "        <path d=\"M19 3H5c-1.1 0-2 .9-2 2v14c0 1.1.9 2 2 2h14c1.1 0 2-.9 2-2V5c0-1.1-.9-2-2-2zM9 17H7v-7h2v7zm4 0h-2V7h2v10zm4 0h-2v-4h2v4z\"/>\n",
              "    </g>\n",
              "</svg>\n",
              "  </button>\n",
              "\n",
              "<style>\n",
              "  .colab-df-quickchart {\n",
              "      --bg-color: #E8F0FE;\n",
              "      --fill-color: #1967D2;\n",
              "      --hover-bg-color: #E2EBFA;\n",
              "      --hover-fill-color: #174EA6;\n",
              "      --disabled-fill-color: #AAA;\n",
              "      --disabled-bg-color: #DDD;\n",
              "  }\n",
              "\n",
              "  [theme=dark] .colab-df-quickchart {\n",
              "      --bg-color: #3B4455;\n",
              "      --fill-color: #D2E3FC;\n",
              "      --hover-bg-color: #434B5C;\n",
              "      --hover-fill-color: #FFFFFF;\n",
              "      --disabled-bg-color: #3B4455;\n",
              "      --disabled-fill-color: #666;\n",
              "  }\n",
              "\n",
              "  .colab-df-quickchart {\n",
              "    background-color: var(--bg-color);\n",
              "    border: none;\n",
              "    border-radius: 50%;\n",
              "    cursor: pointer;\n",
              "    display: none;\n",
              "    fill: var(--fill-color);\n",
              "    height: 32px;\n",
              "    padding: 0;\n",
              "    width: 32px;\n",
              "  }\n",
              "\n",
              "  .colab-df-quickchart:hover {\n",
              "    background-color: var(--hover-bg-color);\n",
              "    box-shadow: 0 1px 2px rgba(60, 64, 67, 0.3), 0 1px 3px 1px rgba(60, 64, 67, 0.15);\n",
              "    fill: var(--button-hover-fill-color);\n",
              "  }\n",
              "\n",
              "  .colab-df-quickchart-complete:disabled,\n",
              "  .colab-df-quickchart-complete:disabled:hover {\n",
              "    background-color: var(--disabled-bg-color);\n",
              "    fill: var(--disabled-fill-color);\n",
              "    box-shadow: none;\n",
              "  }\n",
              "\n",
              "  .colab-df-spinner {\n",
              "    border: 2px solid var(--fill-color);\n",
              "    border-color: transparent;\n",
              "    border-bottom-color: var(--fill-color);\n",
              "    animation:\n",
              "      spin 1s steps(1) infinite;\n",
              "  }\n",
              "\n",
              "  @keyframes spin {\n",
              "    0% {\n",
              "      border-color: transparent;\n",
              "      border-bottom-color: var(--fill-color);\n",
              "      border-left-color: var(--fill-color);\n",
              "    }\n",
              "    20% {\n",
              "      border-color: transparent;\n",
              "      border-left-color: var(--fill-color);\n",
              "      border-top-color: var(--fill-color);\n",
              "    }\n",
              "    30% {\n",
              "      border-color: transparent;\n",
              "      border-left-color: var(--fill-color);\n",
              "      border-top-color: var(--fill-color);\n",
              "      border-right-color: var(--fill-color);\n",
              "    }\n",
              "    40% {\n",
              "      border-color: transparent;\n",
              "      border-right-color: var(--fill-color);\n",
              "      border-top-color: var(--fill-color);\n",
              "    }\n",
              "    60% {\n",
              "      border-color: transparent;\n",
              "      border-right-color: var(--fill-color);\n",
              "    }\n",
              "    80% {\n",
              "      border-color: transparent;\n",
              "      border-right-color: var(--fill-color);\n",
              "      border-bottom-color: var(--fill-color);\n",
              "    }\n",
              "    90% {\n",
              "      border-color: transparent;\n",
              "      border-bottom-color: var(--fill-color);\n",
              "    }\n",
              "  }\n",
              "</style>\n",
              "\n",
              "  <script>\n",
              "    async function quickchart(key) {\n",
              "      const quickchartButtonEl =\n",
              "        document.querySelector('#' + key + ' button');\n",
              "      quickchartButtonEl.disabled = true;  // To prevent multiple clicks.\n",
              "      quickchartButtonEl.classList.add('colab-df-spinner');\n",
              "      try {\n",
              "        const charts = await google.colab.kernel.invokeFunction(\n",
              "            'suggestCharts', [key], {});\n",
              "      } catch (error) {\n",
              "        console.error('Error during call to suggestCharts:', error);\n",
              "      }\n",
              "      quickchartButtonEl.classList.remove('colab-df-spinner');\n",
              "      quickchartButtonEl.classList.add('colab-df-quickchart-complete');\n",
              "    }\n",
              "    (() => {\n",
              "      let quickchartButtonEl =\n",
              "        document.querySelector('#df-845ac4e8-4a38-4cec-a7eb-3014248226bd button');\n",
              "      quickchartButtonEl.style.display =\n",
              "        google.colab.kernel.accessAllowed ? 'block' : 'none';\n",
              "    })();\n",
              "  </script>\n",
              "</div>\n",
              "\n",
              "    </div>\n",
              "  </div>\n"
            ],
            "application/vnd.google.colaboratory.intrinsic+json": {
              "type": "dataframe",
              "summary": "{\n  \"name\": \"top_ins[['event','prvs_ab']]\",\n  \"rows\": 20,\n  \"fields\": [\n    {\n      \"column\": \"event\",\n      \"properties\": {\n        \"dtype\": \"category\",\n        \"num_unique_values\": 4,\n        \"samples\": [\n          \"Double\",\n          \"Strikeout\",\n          \"Groundout\"\n        ],\n        \"semantic_type\": \"\",\n        \"description\": \"\"\n      }\n    },\n    {\n      \"column\": \"prvs_ab\",\n      \"properties\": {\n        \"dtype\": \"category\",\n        \"num_unique_values\": 4,\n        \"samples\": [\n          \"Out\",\n          \"Hit\",\n          \"FirstAB\"\n        ],\n        \"semantic_type\": \"\",\n        \"description\": \"\"\n      }\n    }\n  ]\n}"
            }
          },
          "metadata": {},
          "execution_count": 36
        }
      ],
      "source": [
        "top_ins[['event','prvs_ab']].head(20)"
      ]
    },
    {
      "cell_type": "code",
      "execution_count": 37,
      "id": "62d0392e-0ab4-4415-bfb8-b556394ecc09",
      "metadata": {
        "colab": {
          "base_uri": "https://localhost:8080/"
        },
        "id": "62d0392e-0ab4-4415-bfb8-b556394ecc09",
        "outputId": "454a4b1c-54fc-442c-f91c-00920e24877c"
      },
      "outputs": [
        {
          "output_type": "stream",
          "name": "stderr",
          "text": [
            "<ipython-input-37-f966b582f4bd>:10: SettingWithCopyWarning: \n",
            "A value is trying to be set on a copy of a slice from a DataFrame.\n",
            "Try using .loc[row_indexer,col_indexer] = value instead\n",
            "\n",
            "See the caveats in the documentation: https://pandas.pydata.org/pandas-docs/stable/user_guide/indexing.html#returning-a-view-versus-a-copy\n",
            "  bot_ins.loc[bot_ins.index[i], 'prvs_ab'] = result\n"
          ]
        }
      ],
      "source": [
        "# Rpeat the same for bottom innings\n",
        "result = \"\"\n",
        "for i in range(len(bot_ins)):\n",
        "    if (bot_ins['g_id'].iloc[i] != bot_ins['g_id'].iloc[i-1]):\n",
        "        result = \"FirstAB\"\n",
        "    else:\n",
        "        if (bot_ins['ab_id'].iloc[i] != bot_ins['ab_id'].iloc[i-1]):\n",
        "            matching_index = ab_df[ab_df['ab_id'] == bot_ins['ab_id'].iloc[i-1]].index[0]\n",
        "            result = ab_df.iloc[matching_index]['simple_ab_event']\n",
        "    bot_ins.loc[bot_ins.index[i], 'prvs_ab'] = result"
      ]
    },
    {
      "cell_type": "markdown",
      "id": "d24e81b6-a382-4dd0-9475-23070c014f55",
      "metadata": {
        "id": "d24e81b6-a382-4dd0-9475-23070c014f55"
      },
      "source": [
        "## Previous Pitch Type"
      ]
    },
    {
      "cell_type": "markdown",
      "source": [
        "Previous pitch type will show the combination of pitches. Famous combo includes fastball + off-speed to make the hitting hard, or fastball+breaking ball to make it hard predicting the pitch location.\n",
        "\n",
        "Note that the first pitch of each game and each pitcher will be encoded as 'First pitch' as I assume the sequence doesn't last between games and between pitchers."
      ],
      "metadata": {
        "id": "5dEkade2CCSX"
      },
      "id": "5dEkade2CCSX"
    },
    {
      "cell_type": "code",
      "execution_count": 38,
      "id": "2965f527-a62a-4469-896a-0dfbe61003a0",
      "metadata": {
        "colab": {
          "base_uri": "https://localhost:8080/"
        },
        "id": "2965f527-a62a-4469-896a-0dfbe61003a0",
        "outputId": "5ded8c91-e75d-4a4b-c454-6e7c5e2022be"
      },
      "outputs": [
        {
          "output_type": "stream",
          "name": "stderr",
          "text": [
            "<ipython-input-38-2c93a49ac2c4>:10: SettingWithCopyWarning: \n",
            "A value is trying to be set on a copy of a slice from a DataFrame.\n",
            "Try using .loc[row_indexer,col_indexer] = value instead\n",
            "\n",
            "See the caveats in the documentation: https://pandas.pydata.org/pandas-docs/stable/user_guide/indexing.html#returning-a-view-versus-a-copy\n",
            "  top_ins.loc[top_ins.index[i], 'prvs_pitch'] = result\n"
          ]
        }
      ],
      "source": [
        "result = \"\"\n",
        "for i in range(len(top_ins)):\n",
        "    if (top_ins['g_id'].iloc[i] != top_ins['g_id'].iloc[i-1]):\n",
        "        result = \"First Pitch\"\n",
        "    else:\n",
        "        if (top_ins['pitcher_id'].iloc[i] != top_ins['pitcher_id'].iloc[i-1]):\n",
        "            result = \"First Pitch\"\n",
        "        else:\n",
        "            result = top_ins['simple_pitch_type'].iloc[i-1]\n",
        "    top_ins.loc[top_ins.index[i], 'prvs_pitch'] = result"
      ]
    },
    {
      "cell_type": "code",
      "execution_count": 39,
      "id": "6d082e16-88a1-4f66-84bc-c6fbcfe656c8",
      "metadata": {
        "colab": {
          "base_uri": "https://localhost:8080/"
        },
        "id": "6d082e16-88a1-4f66-84bc-c6fbcfe656c8",
        "outputId": "62bb13d3-35d4-474c-b209-1878ec35a912"
      },
      "outputs": [
        {
          "output_type": "stream",
          "name": "stderr",
          "text": [
            "<ipython-input-39-bc1279059410>:10: SettingWithCopyWarning: \n",
            "A value is trying to be set on a copy of a slice from a DataFrame.\n",
            "Try using .loc[row_indexer,col_indexer] = value instead\n",
            "\n",
            "See the caveats in the documentation: https://pandas.pydata.org/pandas-docs/stable/user_guide/indexing.html#returning-a-view-versus-a-copy\n",
            "  bot_ins.loc[bot_ins.index[i], 'prvs_pitch'] = result\n"
          ]
        }
      ],
      "source": [
        "result = \"\"\n",
        "for i in range(len(bot_ins)):\n",
        "    if (bot_ins['g_id'].iloc[i] != bot_ins['g_id'].iloc[i-1]):\n",
        "        result = \"First Pitch\"\n",
        "    else:\n",
        "        if (bot_ins['pitcher_id'].iloc[i] != bot_ins['pitcher_id'].iloc[i-1]):\n",
        "            result = \"First Pitch\"\n",
        "        else:\n",
        "            result = bot_ins['simple_pitch_type'].iloc[i-1]\n",
        "    bot_ins.loc[bot_ins.index[i], 'prvs_pitch'] = result"
      ]
    },
    {
      "cell_type": "markdown",
      "id": "d2714ba2-381e-4968-8496-ec05a48b3f4e",
      "metadata": {
        "id": "d2714ba2-381e-4968-8496-ec05a48b3f4e"
      },
      "source": [
        "## Previous Pitch Result"
      ]
    },
    {
      "cell_type": "markdown",
      "source": [
        "We can consider this to be a more detailed version of strike-ball count and previous ab-bat result. Same as at-bat result, it's a signal for pitcher to determine if the stragegy is working. Same as strike-ball count, pitcher needs to update the count and realize what they should do next."
      ],
      "metadata": {
        "id": "o2VFJnv2Cp4K"
      },
      "id": "o2VFJnv2Cp4K"
    },
    {
      "cell_type": "code",
      "execution_count": 40,
      "id": "a8f615b3-f2a1-4e34-abb5-d4b837a65bdf",
      "metadata": {
        "colab": {
          "base_uri": "https://localhost:8080/"
        },
        "id": "a8f615b3-f2a1-4e34-abb5-d4b837a65bdf",
        "outputId": "8006293b-a29d-4475-f5b4-0d9a838ee40a"
      },
      "outputs": [
        {
          "output_type": "stream",
          "name": "stderr",
          "text": [
            "<ipython-input-40-ce226d87f293>:10: SettingWithCopyWarning: \n",
            "A value is trying to be set on a copy of a slice from a DataFrame.\n",
            "Try using .loc[row_indexer,col_indexer] = value instead\n",
            "\n",
            "See the caveats in the documentation: https://pandas.pydata.org/pandas-docs/stable/user_guide/indexing.html#returning-a-view-versus-a-copy\n",
            "  top_ins.loc[top_ins.index[i], 'prvs_pitch_result'] = result\n"
          ]
        }
      ],
      "source": [
        "result = \"\"\n",
        "for i in range(len(top_ins)):\n",
        "    if (top_ins['g_id'].iloc[i] != top_ins['g_id'].iloc[i-1]):\n",
        "        result = \"First Pitch\"\n",
        "    else:\n",
        "        if (top_ins['pitcher_id'].iloc[i] != top_ins['pitcher_id'].iloc[i-1]):\n",
        "            result = \"First Pitch\"\n",
        "        else:\n",
        "            result = top_ins['type'].iloc[i-1]\n",
        "    top_ins.loc[top_ins.index[i], 'prvs_pitch_result'] = result"
      ]
    },
    {
      "cell_type": "code",
      "execution_count": 41,
      "id": "1e1f9c8d-65d9-4bdc-9588-d013185ade82",
      "metadata": {
        "colab": {
          "base_uri": "https://localhost:8080/"
        },
        "id": "1e1f9c8d-65d9-4bdc-9588-d013185ade82",
        "outputId": "b6bfcfbd-7319-4dc0-afd3-d36aba6a4ddb"
      },
      "outputs": [
        {
          "output_type": "stream",
          "name": "stderr",
          "text": [
            "<ipython-input-41-fd28c5229206>:10: SettingWithCopyWarning: \n",
            "A value is trying to be set on a copy of a slice from a DataFrame.\n",
            "Try using .loc[row_indexer,col_indexer] = value instead\n",
            "\n",
            "See the caveats in the documentation: https://pandas.pydata.org/pandas-docs/stable/user_guide/indexing.html#returning-a-view-versus-a-copy\n",
            "  bot_ins.loc[bot_ins.index[i], 'prvs_pitch_result'] = result\n"
          ]
        }
      ],
      "source": [
        "result = \"\"\n",
        "for i in range(len(bot_ins)):\n",
        "    if (bot_ins['g_id'].iloc[i] != bot_ins['g_id'].iloc[i-1]):\n",
        "        result = \"First Pitch\"\n",
        "    else:\n",
        "        if (bot_ins['pitcher_id'].iloc[i] != bot_ins['pitcher_id'].iloc[i-1]):\n",
        "            result = \"First Pitch\"\n",
        "        else:\n",
        "            result = bot_ins['type'].iloc[i-1]\n",
        "    bot_ins.loc[bot_ins.index[i], 'prvs_pitch_result'] = result"
      ]
    },
    {
      "cell_type": "markdown",
      "id": "1b1614c0-c242-4622-8f27-1f3b91543616",
      "metadata": {
        "id": "1b1614c0-c242-4622-8f27-1f3b91543616"
      },
      "source": [
        "## Starting Pitcher vs. Relief Pitcher"
      ]
    },
    {
      "cell_type": "markdown",
      "id": "eb674b31-174c-480f-b31c-b983c07c96a4",
      "metadata": {
        "id": "eb674b31-174c-480f-b31c-b983c07c96a4"
      },
      "source": [
        "A starting pitcher usually will pitch for 5+ innings with around 80 pitches from the start of the game. In comparison, relief pitchers usually pitch for 1 to 2 innings in the middle of the game. These two roles have the following difference due to the nature of their responsibility:\n",
        "- Starting pitchers usually have 3-4 good types of pitching. Relief pitchers usually only have 2.\n",
        "- Starting pitchers needs to perserve energy for late innings. They will not throw as hard as relief pitcher, especially on fastballs.\n",
        "\n",
        "These differences make both have different pitching strategies. It feels essential to classify if someone is relief pitcher or starting pitcher. Consider the following two situations:\n",
        "- Starter got pulled from mount on a particular game because of injury or poor performance. He only had 20 pitches but relief pitcher has to take over.\n",
        "- The team doesn't have enough starting pitcher to fill the rotation. A relief pitcher has to start the game and is replaced after 2 innings. (Also called bullpen day).\n",
        "\n",
        "To accurately classify the role, we will look each pitcher's maximum pitch count through the dataframe. If he ever pitched more than 50 pitches, he should be considered as a starting pitcher."
      ]
    },
    {
      "cell_type": "markdown",
      "id": "34a03bea-0529-4e80-9d90-ba48c5e6281f",
      "metadata": {
        "id": "34a03bea-0529-4e80-9d90-ba48c5e6281f"
      },
      "source": [
        "First, we will find maximum(final) pitch count for each pithcer in their games. If the maximum pitch count is more than 50 then he's a SP, otherwise he's a RP."
      ]
    },
    {
      "cell_type": "code",
      "execution_count": 42,
      "id": "2e331ae4-7659-4cb1-a6e6-432c2f09c151",
      "metadata": {
        "id": "2e331ae4-7659-4cb1-a6e6-432c2f09c151"
      },
      "outputs": [],
      "source": [
        "max_pitch_1 = top_ins.groupby('pitcher_id')['pitch_count'].max()\n",
        "max_pitch_1 = max_pitch_1.reset_index()\n",
        "max_pitch_1['SPorRP'] = ['SP' if value > 50 else 'RP' for value in max_pitch_1['pitch_count']]\n",
        "max_pitch_2 = bot_ins.groupby('pitcher_id')['pitch_count'].max()\n",
        "max_pitch_2 = max_pitch_2.reset_index()\n",
        "max_pitch_2['SPorRP'] = ['SP' if value > 50 else 'RP' for value in max_pitch_2['pitch_count']]"
      ]
    },
    {
      "cell_type": "code",
      "execution_count": 43,
      "id": "a56d0502-d06d-43f4-8e9b-736f070a9553",
      "metadata": {
        "id": "a56d0502-d06d-43f4-8e9b-736f070a9553"
      },
      "outputs": [],
      "source": [
        "top_ins.merge(max_pitch_1[['pitcher_id', 'SPorRP']], on='pitcher_id', how='left');\n",
        "bot_ins.merge(max_pitch_2[['pitcher_id', 'SPorRP']], on='pitcher_id', how='left');\n"
      ]
    },
    {
      "cell_type": "code",
      "execution_count": 44,
      "id": "17cfd2dd-6607-45f6-ab40-7f9b7292959b",
      "metadata": {
        "colab": {
          "base_uri": "https://localhost:8080/"
        },
        "id": "17cfd2dd-6607-45f6-ab40-7f9b7292959b",
        "outputId": "2e59a363-0a32-42da-f0d8-3e002afd5add"
      },
      "outputs": [
        {
          "output_type": "stream",
          "name": "stdout",
          "text": [
            "<class 'pandas.core.frame.DataFrame'>\n",
            "Index: 1684977 entries, 0 to 3595943\n",
            "Data columns (total 41 columns):\n",
            " #   Column             Non-Null Count    Dtype  \n",
            "---  ------             --------------    -----  \n",
            " 0   px                 1684977 non-null  float64\n",
            " 1   pz                 1684977 non-null  float64\n",
            " 2   start_speed        1684977 non-null  float64\n",
            " 3   end_speed          1684977 non-null  float64\n",
            " 4   sz_bot             1684977 non-null  float64\n",
            " 5   sz_top             1684977 non-null  float64\n",
            " 6   nasty              1340318 non-null  float64\n",
            " 7   zone               1684977 non-null  object \n",
            " 8   code               1681927 non-null  object \n",
            " 9   type               1684977 non-null  object \n",
            " 10  pitch_type         1684977 non-null  object \n",
            " 11  b_score            1684977 non-null  float64\n",
            " 12  ab_id              1684977 non-null  float64\n",
            " 13  b_count            1684977 non-null  float64\n",
            " 14  s_count            1684977 non-null  float64\n",
            " 15  outs               1684977 non-null  float64\n",
            " 16  pitch_num          1684977 non-null  float64\n",
            " 17  on_1b              1684977 non-null  float64\n",
            " 18  on_2b              1684977 non-null  float64\n",
            " 19  on_3b              1684977 non-null  float64\n",
            " 20  batter_id          1684977 non-null  int64  \n",
            " 21  event              1684977 non-null  object \n",
            " 22  g_id               1684977 non-null  float64\n",
            " 23  inning             1684977 non-null  float64\n",
            " 24  o                  1684977 non-null  int64  \n",
            " 25  p_score            1684977 non-null  float64\n",
            " 26  p_throws           1684977 non-null  object \n",
            " 27  pitcher_id         1684977 non-null  int64  \n",
            " 28  stand              1684977 non-null  object \n",
            " 29  top                1684977 non-null  object \n",
            " 30  attendance         1340318 non-null  float64\n",
            " 31  weather            1340318 non-null  object \n",
            " 32  wind               1340318 non-null  object \n",
            " 33  pitch_count        1684977 non-null  int64  \n",
            " 34  simple_pitch_type  1684977 non-null  object \n",
            " 35  simple_ab_event    1684977 non-null  object \n",
            " 36  b_count_diff       1684977 non-null  float64\n",
            " 37  run_diff           1684977 non-null  float64\n",
            " 38  prvs_ab            1684977 non-null  object \n",
            " 39  prvs_pitch         1684977 non-null  object \n",
            " 40  prvs_pitch_result  1684977 non-null  object \n",
            "dtypes: float64(22), int64(4), object(15)\n",
            "memory usage: 539.9+ MB\n"
          ]
        }
      ],
      "source": [
        "top_ins.info()"
      ]
    },
    {
      "cell_type": "code",
      "execution_count": 44,
      "id": "36158488-5bfa-4f9d-8dfb-092c518fcd40",
      "metadata": {
        "id": "36158488-5bfa-4f9d-8dfb-092c518fcd40"
      },
      "outputs": [],
      "source": []
    },
    {
      "cell_type": "markdown",
      "id": "3be965c4-57f1-412e-882f-1fe85786dcb3",
      "metadata": {
        "id": "3be965c4-57f1-412e-882f-1fe85786dcb3"
      },
      "source": [
        "## Strike zone number"
      ]
    },
    {
      "cell_type": "markdown",
      "id": "c421c873-e683-4b1f-bf5f-d40776f8da19",
      "metadata": {
        "id": "c421c873-e683-4b1f-bf5f-d40776f8da19"
      },
      "source": [
        "Strike zone number serves as a back up for pitch location (px and pz). In case the result of px and pz is not very readable, batter can use strike zone as a reference of where the pitch will go.\n",
        "In Sprint 1, it's noted that 722161 cells only has 'placeholder' value while px and pz are given. We will fill it out with simple if statments.\n"
      ]
    },
    {
      "cell_type": "markdown",
      "source": [
        "![zone (1).png](data:image/png;base64,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)"
      ],
      "metadata": {
        "id": "Nai5rPJ2EVxy"
      },
      "id": "Nai5rPJ2EVxy"
    },
    {
      "cell_type": "markdown",
      "source": [
        "from https://www.beyondtheboxscore.com/2014/7/21/5921769/babip--strikezone-location-mlb"
      ],
      "metadata": {
        "id": "zPGAJY83I2vT"
      },
      "id": "zPGAJY83I2vT"
    },
    {
      "cell_type": "markdown",
      "source": [
        "Just to declare, the strke zone will be 1.54 feet wide. Height is determined by the batter's body size, so it's between sz_top and sz_bot."
      ],
      "metadata": {
        "id": "O8V_cmruDs_s"
      },
      "id": "O8V_cmruDs_s"
    },
    {
      "cell_type": "code",
      "execution_count": 45,
      "id": "672cd3ed-c282-41ad-b70a-d55211f519c0",
      "metadata": {
        "id": "672cd3ed-c282-41ad-b70a-d55211f519c0"
      },
      "outputs": [],
      "source": [
        "sz_bot_avg = gamedata_clean['sz_bot'].mean()\n",
        "sz_top_avg = gamedata_clean['sz_top'].mean()"
      ]
    },
    {
      "cell_type": "code",
      "execution_count": 46,
      "id": "28a5becd-12b6-4cc5-a4ad-5e4bc0df7efb",
      "metadata": {
        "id": "28a5becd-12b6-4cc5-a4ad-5e4bc0df7efb"
      },
      "outputs": [],
      "source": [
        "# Filter for placeholder cells\n",
        "top_ins_na = top_ins[top_ins['zone'] == 'placeholder']"
      ]
    },
    {
      "cell_type": "code",
      "execution_count": 47,
      "id": "a276ab74-801a-4719-a9d1-067b566a25b7",
      "metadata": {
        "id": "a276ab74-801a-4719-a9d1-067b566a25b7"
      },
      "outputs": [],
      "source": [
        "#mask for strike zone\n",
        "px = top_ins_na['px']\n",
        "pz = top_ins_na['pz']\n",
        "sz_top = top_ins_na['sz_top']\n",
        "sz_bot = top_ins_na['sz_bot']\n",
        "\n",
        "zone1 = (px>=-0.77)&(px<-0.26)&(pz>(sz_top-(sz_top-sz_bot)/3))&(pz<=(sz_top))\n",
        "zone4 = (px>=-0.77)&(px<-0.26)&(pz>=(sz_top-(sz_top-sz_bot)*2/3))&(pz<=(sz_top-(sz_top-sz_bot)/3))\n",
        "zone7 = (px>=-0.77)&(px<-0.26)&(pz>=(sz_bot))&(pz<(sz_top-(sz_top-sz_bot)*2/3))\n",
        "zone2 = (px>=-0.26)&(px<=0.26)&(pz>(sz_top-(sz_top-sz_bot)/3))&(pz<=(sz_top))\n",
        "zone5 = (px>=-0.26)&(px<=0.26)&(pz>=(sz_top-(sz_top-sz_bot)*2/3))&(pz<=(sz_top-(sz_top-sz_bot)/3))\n",
        "zone8 = (px>=-0.26)&(px<=0.26)&(pz>=(sz_bot))&(pz<(sz_top-(sz_top-sz_bot)*2/3))\n",
        "zone3 = (px>0.26)&(px<=0.77)&(pz>(sz_top-(sz_top-sz_bot)/3))&(pz<=(sz_top))\n",
        "zone6 = (px>0.26)&(px<=0.77)&(pz>=(sz_top-(sz_top-sz_bot)*2/3))&(pz<=(sz_top-(sz_top-sz_bot)/3))\n",
        "zone9 = (px>0.26)&(px<=0.77)&(pz>=(sz_bot))&(pz<(sz_top-(sz_top-sz_bot)*2/3))\n",
        "zone11 = (px<=0)&(pz>=(sz_top-(sz_top-sz_bot)/2))\n",
        "zone12 = (px>0)&(pz>=(sz_top-(sz_top-sz_bot)/2))\n",
        "zone13 = (px<=0)&(pz<(sz_top-(sz_top-sz_bot)/2))\n",
        "zone14 = (px>0)&(pz<(sz_top-(sz_top-sz_bot)/2))"
      ]
    },
    {
      "cell_type": "code",
      "execution_count": 48,
      "id": "2c2e02f2-5d02-42ff-88d4-66849a44779e",
      "metadata": {
        "id": "2c2e02f2-5d02-42ff-88d4-66849a44779e"
      },
      "outputs": [],
      "source": [
        "#use for loop\n",
        "top_ins_na.loc[zone1, 'zone'] = 1\n",
        "top_ins_na.loc[zone2, 'zone'] = 2\n",
        "top_ins_na.loc[zone3, 'zone'] = 3\n",
        "top_ins_na.loc[zone4, 'zone'] = 4\n",
        "top_ins_na.loc[zone5, 'zone'] = 5\n",
        "top_ins_na.loc[zone6, 'zone'] = 6\n",
        "top_ins_na.loc[zone7, 'zone'] = 7\n",
        "top_ins_na.loc[zone8, 'zone'] = 8\n",
        "top_ins_na.loc[zone9, 'zone'] = 9\n",
        "top_ins_na.loc[zone11, 'zone'] = 11\n",
        "top_ins_na.loc[zone12, 'zone'] = 12\n",
        "top_ins_na.loc[zone13, 'zone'] = 13\n",
        "top_ins_na.loc[zone14, 'zone'] = 14"
      ]
    },
    {
      "cell_type": "code",
      "execution_count": 49,
      "id": "d40a80d1-4c68-4638-87ba-5d7ab2a939da",
      "metadata": {
        "id": "d40a80d1-4c68-4638-87ba-5d7ab2a939da"
      },
      "outputs": [],
      "source": [
        "bot_ins_na = bot_ins[bot_ins['zone'] == 'placeholder']"
      ]
    },
    {
      "cell_type": "code",
      "execution_count": 50,
      "id": "570a8d30-3c46-4c10-a229-dcea1ff1ca96",
      "metadata": {
        "id": "570a8d30-3c46-4c10-a229-dcea1ff1ca96"
      },
      "outputs": [],
      "source": [
        "#mask for strike zone 1-9\n",
        "px = bot_ins_na['px']\n",
        "pz = bot_ins_na['pz']\n",
        "sz_top = bot_ins_na['sz_top']\n",
        "sz_bot = bot_ins_na['sz_bot']\n",
        "\n",
        "zone1 = (px>=-0.77)&(px<-0.26)&(pz>(sz_top-(sz_top-sz_bot)/3))&(pz<=(sz_top))\n",
        "zone4 = (px>=-0.77)&(px<-0.26)&(pz>=(sz_top-(sz_top-sz_bot)*2/3))&(pz<=(sz_top-(sz_top-sz_bot)/3))\n",
        "zone7 = (px>=-0.77)&(px<-0.26)&(pz>=(sz_bot))&(pz<(sz_top-(sz_top-sz_bot)*2/3))\n",
        "zone2 = (px>=-0.26)&(px<=0.26)&(pz>(sz_top-(sz_top-sz_bot)/3))&(pz<=(sz_top))\n",
        "zone5 = (px>=-0.26)&(px<=0.26)&(pz>=(sz_top-(sz_top-sz_bot)*2/3))&(pz<=(sz_top-(sz_top-sz_bot)/3))\n",
        "zone8 = (px>=-0.26)&(px<=0.26)&(pz>=(sz_bot))&(pz<(sz_top-(sz_top-sz_bot)*2/3))\n",
        "zone3 = (px>0.26)&(px<=0.77)&(pz>(sz_top-(sz_top-sz_bot)/3))&(pz<=(sz_top))\n",
        "zone6 = (px>0.26)&(px<=0.77)&(pz>=(sz_top-(sz_top-sz_bot)*2/3))&(pz<=(sz_top-(sz_top-sz_bot)/3))\n",
        "zone9 = (px>0.26)&(px<=0.77)&(pz>=(sz_bot))&(pz<(sz_top-(sz_top-sz_bot)*2/3))\n",
        "zone11 = (px<=0)&(pz>=(sz_top-(sz_top-sz_bot)/2))\n",
        "zone12 = (px>0)&(pz>=(sz_top-(sz_top-sz_bot)/2))\n",
        "zone13 = (px<=0)&(pz<(sz_top-(sz_top-sz_bot)/2))\n",
        "zone14 = (px>0)&(pz<(sz_top-(sz_top-sz_bot)/2))"
      ]
    },
    {
      "cell_type": "code",
      "execution_count": 51,
      "id": "5c84db89-4a1f-4d08-a18a-f714c5042002",
      "metadata": {
        "id": "5c84db89-4a1f-4d08-a18a-f714c5042002"
      },
      "outputs": [],
      "source": [
        "#use for loop\n",
        "bot_ins_na.loc[zone1, 'zone'] = 1\n",
        "bot_ins_na.loc[zone2, 'zone'] = 2\n",
        "bot_ins_na.loc[zone3, 'zone'] = 3\n",
        "bot_ins_na.loc[zone4, 'zone'] = 4\n",
        "bot_ins_na.loc[zone5, 'zone'] = 5\n",
        "bot_ins_na.loc[zone6, 'zone'] = 6\n",
        "bot_ins_na.loc[zone7, 'zone'] = 7\n",
        "bot_ins_na.loc[zone8, 'zone'] = 8\n",
        "bot_ins_na.loc[zone9, 'zone'] = 9\n",
        "bot_ins_na.loc[zone11, 'zone'] = 11\n",
        "bot_ins_na.loc[zone12, 'zone'] = 12\n",
        "bot_ins_na.loc[zone13, 'zone'] = 13\n",
        "bot_ins_na.loc[zone14, 'zone'] = 14"
      ]
    },
    {
      "cell_type": "code",
      "execution_count": 52,
      "id": "ad45475c-78bb-40ff-8ea4-44f235c6d53a",
      "metadata": {
        "id": "ad45475c-78bb-40ff-8ea4-44f235c6d53a"
      },
      "outputs": [],
      "source": [
        "top_ins.update(top_ins_na)\n",
        "bot_ins.update(bot_ins_na)"
      ]
    },
    {
      "cell_type": "code",
      "execution_count": 53,
      "id": "658d811e-3d2e-40b4-914b-8064d8d7ba00",
      "metadata": {
        "colab": {
          "base_uri": "https://localhost:8080/"
        },
        "id": "658d811e-3d2e-40b4-914b-8064d8d7ba00",
        "outputId": "59b86016-6221-4c8e-f891-e5839c6eb064"
      },
      "outputs": [
        {
          "output_type": "execute_result",
          "data": {
            "text/plain": [
              "zone\n",
              "14    115129\n",
              "13     91500\n",
              "11     75353\n",
              "12     62677\n",
              "Name: count, dtype: int64"
            ]
          },
          "metadata": {},
          "execution_count": 53
        }
      ],
      "source": [
        "top_ins_na['zone'].value_counts()"
      ]
    },
    {
      "cell_type": "markdown",
      "source": [
        "This section needs more caution. It looks like all placeholder is in zone 11-14. This might be a cause of class imbalance."
      ],
      "metadata": {
        "id": "pr5o8sOut-WV"
      },
      "id": "pr5o8sOut-WV"
    },
    {
      "cell_type": "markdown",
      "id": "4f683b10-b46e-47b3-9d5f-c246a7d1b09d",
      "metadata": {
        "id": "4f683b10-b46e-47b3-9d5f-c246a7d1b09d"
      },
      "source": [
        "## Cleaning dataframe"
      ]
    },
    {
      "cell_type": "markdown",
      "id": "557855be-17e1-495c-acde-af7a80205c0f",
      "metadata": {
        "id": "557855be-17e1-495c-acde-af7a80205c0f"
      },
      "source": [
        "### Columns to Remove"
      ]
    },
    {
      "cell_type": "markdown",
      "id": "6ba34658-4ff9-4d61-a532-3b0acaa52a27",
      "metadata": {
        "id": "6ba34658-4ff9-4d61-a532-3b0acaa52a27"
      },
      "source": [
        "There are some columns we are not going to use in this project as they are not affecting the game at a competivie level."
      ]
    },
    {
      "cell_type": "code",
      "execution_count": 54,
      "id": "18727ea6-aa77-4c11-bcd5-6cf69fca7685",
      "metadata": {
        "colab": {
          "base_uri": "https://localhost:8080/"
        },
        "id": "18727ea6-aa77-4c11-bcd5-6cf69fca7685",
        "outputId": "c4bdf440-5b91-417d-8649-4f76887735c3"
      },
      "outputs": [
        {
          "output_type": "execute_result",
          "data": {
            "text/plain": [
              "px                        0\n",
              "pz                        0\n",
              "start_speed               0\n",
              "end_speed                 0\n",
              "sz_bot                    0\n",
              "sz_top                    0\n",
              "nasty                344659\n",
              "zone                      0\n",
              "code                   3050\n",
              "type                      0\n",
              "pitch_type                0\n",
              "b_score                   0\n",
              "ab_id                     0\n",
              "b_count                   0\n",
              "s_count                   0\n",
              "outs                      0\n",
              "pitch_num                 0\n",
              "on_1b                     0\n",
              "on_2b                     0\n",
              "on_3b                     0\n",
              "batter_id                 0\n",
              "event                     0\n",
              "g_id                      0\n",
              "inning                    0\n",
              "o                         0\n",
              "p_score                   0\n",
              "p_throws                  0\n",
              "pitcher_id                0\n",
              "stand                     0\n",
              "top                       0\n",
              "attendance           344659\n",
              "weather              344659\n",
              "wind                 344659\n",
              "pitch_count               0\n",
              "simple_pitch_type         0\n",
              "simple_ab_event           0\n",
              "b_count_diff              0\n",
              "run_diff                  0\n",
              "prvs_ab                   0\n",
              "prvs_pitch                0\n",
              "prvs_pitch_result         0\n",
              "dtype: int64"
            ]
          },
          "metadata": {},
          "execution_count": 54
        }
      ],
      "source": [
        "top_ins.isna().sum()"
      ]
    },
    {
      "cell_type": "markdown",
      "source": [
        "'nasty' columns would be helpful as nasty pitching will be harder to hit upon comparing to normal pitching. Unfortunately we have to remove this column due to missing values.\n",
        "\n",
        "'code','event','pitch_type' has been encoded so we can just remove them.\n",
        "\n",
        "'attendance' will not be needed as it's not very related to competitive level.\n",
        "\n",
        "'wind' column is unnecessary as it won't affect a ball 'travelling' at 90 mph for 60.5 feet."
      ],
      "metadata": {
        "id": "S-m1tAQHE7rL"
      },
      "id": "S-m1tAQHE7rL"
    },
    {
      "cell_type": "code",
      "execution_count": 55,
      "id": "834e6cd4-e507-4d52-bbe2-37e47c6a8a41",
      "metadata": {
        "id": "834e6cd4-e507-4d52-bbe2-37e47c6a8a41"
      },
      "outputs": [],
      "source": [
        "top_ins = top_ins.drop(columns=['nasty', 'code','event','pitch_type','attendance','wind'])\n",
        "bot_ins = bot_ins.drop(columns=['nasty', 'code','event','pitch_type','attendance','wind'])"
      ]
    },
    {
      "cell_type": "markdown",
      "id": "df8d5751-68e1-4cb9-b5d7-12ffbcb22924",
      "metadata": {
        "id": "df8d5751-68e1-4cb9-b5d7-12ffbcb22924"
      },
      "source": [
        "### Weather"
      ]
    },
    {
      "cell_type": "markdown",
      "source": [
        "Weather might play a factor for pitching. We will try to fill the N/A values."
      ],
      "metadata": {
        "id": "vbugXRydFxre"
      },
      "id": "vbugXRydFxre"
    },
    {
      "cell_type": "markdown",
      "id": "9b4912cd-0078-46dc-929d-782ba831fe5c",
      "metadata": {
        "id": "9b4912cd-0078-46dc-929d-782ba831fe5c"
      },
      "source": [
        "We will use the weather column in the original dataframe to see the overall situation and apply changes to top_ins and bot_ins seperately."
      ]
    },
    {
      "cell_type": "code",
      "execution_count": 56,
      "id": "0f9abe9d-d65a-4025-be60-c230c072b3a4",
      "metadata": {
        "colab": {
          "base_uri": "https://localhost:8080/"
        },
        "id": "0f9abe9d-d65a-4025-be60-c230c072b3a4",
        "outputId": "2ce06624-00d7-49db-ea1b-df5c5f54d494"
      },
      "outputs": [
        {
          "output_type": "execute_result",
          "data": {
            "text/plain": [
              "0    44 degrees, clear\n",
              "1    44 degrees, clear\n",
              "2    44 degrees, clear\n",
              "3    44 degrees, clear\n",
              "4    44 degrees, clear\n",
              "Name: weather, dtype: object"
            ]
          },
          "metadata": {},
          "execution_count": 56
        }
      ],
      "source": [
        "gamedata_clean['weather'].head()"
      ]
    },
    {
      "cell_type": "markdown",
      "id": "9ec3e1eb-97ab-4c49-b5a4-e7b12038481c",
      "metadata": {
        "id": "9ec3e1eb-97ab-4c49-b5a4-e7b12038481c"
      },
      "source": [
        "We should try to extract the last word of the weather description as the weather feature and disregard the temperature."
      ]
    },
    {
      "cell_type": "code",
      "execution_count": 57,
      "id": "b6ebaba4-ad2a-40a5-a19a-8c4dfa23600f",
      "metadata": {
        "colab": {
          "base_uri": "https://localhost:8080/"
        },
        "id": "b6ebaba4-ad2a-40a5-a19a-8c4dfa23600f",
        "outputId": "e6bd0869-33d0-4e53-9c5c-b1ad7d30816f"
      },
      "outputs": [
        {
          "output_type": "stream",
          "name": "stderr",
          "text": [
            "<ipython-input-57-d04dcc85c001>:1: SettingWithCopyWarning: \n",
            "A value is trying to be set on a copy of a slice from a DataFrame.\n",
            "Try using .loc[row_indexer,col_indexer] = value instead\n",
            "\n",
            "See the caveats in the documentation: https://pandas.pydata.org/pandas-docs/stable/user_guide/indexing.html#returning-a-view-versus-a-copy\n",
            "  gamedata_clean['simple_weather'] = gamedata_clean['weather'].apply(lambda x: x.split()[-1] if isinstance(x, str) and x else '')\n"
          ]
        }
      ],
      "source": [
        "gamedata_clean['simple_weather'] = gamedata_clean['weather'].apply(lambda x: x.split()[-1] if isinstance(x, str) and x else '')"
      ]
    },
    {
      "cell_type": "code",
      "execution_count": 58,
      "id": "c41a347d-71d2-4b28-a577-a57e920aed18",
      "metadata": {
        "colab": {
          "base_uri": "https://localhost:8080/"
        },
        "id": "c41a347d-71d2-4b28-a577-a57e920aed18",
        "outputId": "4b7b127e-999e-4dbe-8bb0-f277cc23b4ef",
        "scrolled": true
      },
      "outputs": [
        {
          "output_type": "execute_result",
          "data": {
            "text/plain": [
              "simple_weather\n",
              "cloudy      1269522\n",
              "             675488\n",
              "clear        511560\n",
              "closed       293618\n",
              "sunny        264311\n",
              "overcast     171366\n",
              "dome          92767\n",
              "drizzle       17920\n",
              "rain          14801\n",
              "snow            206\n",
              "Name: count, dtype: int64"
            ]
          },
          "metadata": {},
          "execution_count": 58
        }
      ],
      "source": [
        "gamedata_clean['simple_weather'].value_counts()"
      ]
    },
    {
      "cell_type": "markdown",
      "id": "78551021-5486-4d9e-bc92-4b6c63d20fee",
      "metadata": {
        "id": "78551021-5486-4d9e-bc92-4b6c63d20fee"
      },
      "source": [
        "There are in total 675488 N/A cells, representing 20% of the data. The weight on this feature will not be huge, so we will use cloudy as a replacement.\n",
        "\n",
        "In addition, we will combine closed with dome as they both represent in-door game environment."
      ]
    },
    {
      "cell_type": "code",
      "execution_count": 59,
      "id": "bbe6a216-0c75-47a0-8d62-6122ea66d258",
      "metadata": {
        "colab": {
          "base_uri": "https://localhost:8080/"
        },
        "id": "bbe6a216-0c75-47a0-8d62-6122ea66d258",
        "outputId": "6ec5043e-3c35-421f-86a6-c19a5bf8bc4e"
      },
      "outputs": [
        {
          "output_type": "stream",
          "name": "stderr",
          "text": [
            "<ipython-input-59-2d8fe8922e4b>:2: SettingWithCopyWarning: \n",
            "A value is trying to be set on a copy of a slice from a DataFrame\n",
            "\n",
            "See the caveats in the documentation: https://pandas.pydata.org/pandas-docs/stable/user_guide/indexing.html#returning-a-view-versus-a-copy\n",
            "  top_ins['simple_weather'][top_ins['simple_weather'] == ''] = 'cloudy'\n",
            "<ipython-input-59-2d8fe8922e4b>:3: SettingWithCopyWarning: \n",
            "A value is trying to be set on a copy of a slice from a DataFrame\n",
            "\n",
            "See the caveats in the documentation: https://pandas.pydata.org/pandas-docs/stable/user_guide/indexing.html#returning-a-view-versus-a-copy\n",
            "  top_ins['simple_weather'][top_ins['simple_weather'] == 'closed'] = 'dome'\n"
          ]
        }
      ],
      "source": [
        "top_ins['simple_weather'] = top_ins['weather'].apply(lambda x: x.split()[-1] if isinstance(x, str) and x else '')\n",
        "top_ins['simple_weather'][top_ins['simple_weather'] == ''] = 'cloudy'\n",
        "top_ins['simple_weather'][top_ins['simple_weather'] == 'closed'] = 'dome'"
      ]
    },
    {
      "cell_type": "code",
      "execution_count": 60,
      "id": "2943d038-98b2-4da8-8396-527da04e7508",
      "metadata": {
        "id": "2943d038-98b2-4da8-8396-527da04e7508"
      },
      "outputs": [],
      "source": [
        "bot_ins['simple_weather'] = bot_ins['weather'].apply(lambda x: x.split()[-1] if isinstance(x, str) and x else '')\n"
      ]
    },
    {
      "cell_type": "code",
      "execution_count": 61,
      "id": "0090bb38-17d2-4036-b3a7-c950e0623c28",
      "metadata": {
        "id": "0090bb38-17d2-4036-b3a7-c950e0623c28"
      },
      "outputs": [],
      "source": [
        "bot_ins['simple_weather'] = bot_ins['simple_weather'].replace('', 'cloudy')\n",
        "bot_ins['simple_weather'] = bot_ins['simple_weather'].replace('closed', 'dome')"
      ]
    },
    {
      "cell_type": "code",
      "execution_count": 62,
      "id": "97a28c8a-e215-446b-8e2a-273fa0832a6c",
      "metadata": {
        "id": "97a28c8a-e215-446b-8e2a-273fa0832a6c"
      },
      "outputs": [],
      "source": [
        "top_ins = top_ins.drop(columns=['weather'])\n",
        "bot_ins = bot_ins.drop(columns=['weather'])"
      ]
    },
    {
      "cell_type": "code",
      "execution_count": 63,
      "id": "a4ef0842-de08-476b-97fd-724e4f9cebb7",
      "metadata": {
        "colab": {
          "base_uri": "https://localhost:8080/"
        },
        "id": "a4ef0842-de08-476b-97fd-724e4f9cebb7",
        "outputId": "3aea4a94-d611-4d9e-ea07-411ecac18f24"
      },
      "outputs": [
        {
          "output_type": "execute_result",
          "data": {
            "text/plain": [
              "px                   0\n",
              "pz                   0\n",
              "start_speed          0\n",
              "end_speed            0\n",
              "sz_bot               0\n",
              "sz_top               0\n",
              "zone                 0\n",
              "type                 0\n",
              "b_score              0\n",
              "ab_id                0\n",
              "b_count              0\n",
              "s_count              0\n",
              "outs                 0\n",
              "pitch_num            0\n",
              "on_1b                0\n",
              "on_2b                0\n",
              "on_3b                0\n",
              "batter_id            0\n",
              "g_id                 0\n",
              "inning               0\n",
              "o                    0\n",
              "p_score              0\n",
              "p_throws             0\n",
              "pitcher_id           0\n",
              "stand                0\n",
              "top                  0\n",
              "pitch_count          0\n",
              "simple_pitch_type    0\n",
              "simple_ab_event      0\n",
              "b_count_diff         0\n",
              "run_diff             0\n",
              "prvs_ab              0\n",
              "prvs_pitch           0\n",
              "prvs_pitch_result    0\n",
              "simple_weather       0\n",
              "dtype: int64"
            ]
          },
          "metadata": {},
          "execution_count": 63
        }
      ],
      "source": [
        "top_ins.isna().sum()"
      ]
    },
    {
      "cell_type": "code",
      "execution_count": 64,
      "id": "70495b6b-cc68-4e1d-b740-8dd6349d3f04",
      "metadata": {
        "colab": {
          "base_uri": "https://localhost:8080/"
        },
        "id": "70495b6b-cc68-4e1d-b740-8dd6349d3f04",
        "outputId": "ed323974-c265-412f-c305-9a00c6e8546a"
      },
      "outputs": [
        {
          "output_type": "execute_result",
          "data": {
            "text/plain": [
              "px                   0\n",
              "pz                   0\n",
              "start_speed          0\n",
              "end_speed            0\n",
              "sz_bot               0\n",
              "sz_top               0\n",
              "zone                 0\n",
              "type                 0\n",
              "b_score              0\n",
              "ab_id                0\n",
              "b_count              0\n",
              "s_count              0\n",
              "outs                 0\n",
              "pitch_num            0\n",
              "on_1b                0\n",
              "on_2b                0\n",
              "on_3b                0\n",
              "batter_id            0\n",
              "g_id                 0\n",
              "inning               0\n",
              "o                    0\n",
              "p_score              0\n",
              "p_throws             0\n",
              "pitcher_id           0\n",
              "stand                0\n",
              "top                  0\n",
              "pitch_count          0\n",
              "simple_pitch_type    0\n",
              "simple_ab_event      0\n",
              "b_count_diff         0\n",
              "run_diff             0\n",
              "prvs_ab              0\n",
              "prvs_pitch           0\n",
              "prvs_pitch_result    0\n",
              "simple_weather       0\n",
              "dtype: int64"
            ]
          },
          "metadata": {},
          "execution_count": 64
        }
      ],
      "source": [
        "bot_ins.isna().sum()"
      ]
    },
    {
      "cell_type": "markdown",
      "id": "2b8910b0-2ed3-4ef0-a35b-045b48550f65",
      "metadata": {
        "id": "2b8910b0-2ed3-4ef0-a35b-045b48550f65"
      },
      "source": [
        "## Get Dummy Variable"
      ]
    },
    {
      "cell_type": "markdown",
      "source": [
        "As we finished all feature enginering, we will combine both dataframe to 1 dataframe."
      ],
      "metadata": {
        "id": "B_SWJGQNGRI1"
      },
      "id": "B_SWJGQNGRI1"
    },
    {
      "cell_type": "code",
      "execution_count": 65,
      "id": "5bce62cb-f92b-41e4-b2fc-061fbf7fd222",
      "metadata": {
        "id": "5bce62cb-f92b-41e4-b2fc-061fbf7fd222"
      },
      "outputs": [],
      "source": [
        "input_df = pd.concat([top_ins, bot_ins])"
      ]
    },
    {
      "cell_type": "markdown",
      "source": [],
      "metadata": {
        "id": "Y7QDd71yGhHw"
      },
      "id": "Y7QDd71yGhHw"
    },
    {
      "cell_type": "code",
      "execution_count": 66,
      "id": "573b1a62-e1e4-42ab-8305-91c84db2bee7",
      "metadata": {
        "id": "573b1a62-e1e4-42ab-8305-91c84db2bee7"
      },
      "outputs": [],
      "source": [
        "input_df = input_df.drop(columns=['batter_id'])"
      ]
    },
    {
      "cell_type": "code",
      "execution_count": 67,
      "id": "7f438e5e-b1bc-4c72-9bfa-c3c9137171ff",
      "metadata": {
        "colab": {
          "base_uri": "https://localhost:8080/"
        },
        "id": "7f438e5e-b1bc-4c72-9bfa-c3c9137171ff",
        "outputId": "a15f13a9-143f-4b35-8fd3-6c658aef4bf0"
      },
      "outputs": [
        {
          "output_type": "stream",
          "name": "stdout",
          "text": [
            "<class 'pandas.core.frame.DataFrame'>\n",
            "Index: 3311559 entries, 0 to 3595933\n",
            "Data columns (total 34 columns):\n",
            " #   Column             Dtype  \n",
            "---  ------             -----  \n",
            " 0   px                 float64\n",
            " 1   pz                 float64\n",
            " 2   start_speed        float64\n",
            " 3   end_speed          float64\n",
            " 4   sz_bot             float64\n",
            " 5   sz_top             float64\n",
            " 6   zone               object \n",
            " 7   type               object \n",
            " 8   b_score            float64\n",
            " 9   ab_id              float64\n",
            " 10  b_count            float64\n",
            " 11  s_count            float64\n",
            " 12  outs               float64\n",
            " 13  pitch_num          float64\n",
            " 14  on_1b              float64\n",
            " 15  on_2b              float64\n",
            " 16  on_3b              float64\n",
            " 17  g_id               float64\n",
            " 18  inning             float64\n",
            " 19  o                  int64  \n",
            " 20  p_score            float64\n",
            " 21  p_throws           object \n",
            " 22  pitcher_id         int64  \n",
            " 23  stand              object \n",
            " 24  top                object \n",
            " 25  pitch_count        int64  \n",
            " 26  simple_pitch_type  object \n",
            " 27  simple_ab_event    object \n",
            " 28  b_count_diff       float64\n",
            " 29  run_diff           float64\n",
            " 30  prvs_ab            object \n",
            " 31  prvs_pitch         object \n",
            " 32  prvs_pitch_result  object \n",
            " 33  simple_weather     object \n",
            "dtypes: float64(20), int64(3), object(11)\n",
            "memory usage: 884.3+ MB\n"
          ]
        }
      ],
      "source": [
        "input_df.info()"
      ]
    },
    {
      "cell_type": "markdown",
      "id": "6e2f666d-93b7-4ef7-83eb-58772830c83f",
      "metadata": {
        "id": "6e2f666d-93b7-4ef7-83eb-58772830c83f"
      },
      "source": [
        "Out of these columns:\n",
        "- ID: ab_id, pitcher_id, g_id, top can be removed once dataframe are broken into tensor.\n",
        "- zone (13 unique values) and simple_pitch_type (4 unique values) will be the target variable. I need to create dummy variables for both.\n",
        "- p_throws, stand are binary features. We need to replace 'L' and 'R' with 0 or 1\n",
        "- simple_ab_event, pvrs_ab，pvrs_pitch and pvrs_pitch_result and simple_weather will need dummy variable and treat as input features"
      ]
    },
    {
      "cell_type": "markdown",
      "id": "d2324bf1-ae35-4eb7-ac56-687a20cbd28a",
      "metadata": {
        "id": "d2324bf1-ae35-4eb7-ac56-687a20cbd28a"
      },
      "source": [
        "### Dummy Variable for Current and Previous Pitch Result"
      ]
    },
    {
      "cell_type": "markdown",
      "source": [
        "There are 15 different outcome for each pitch. To reduce the dummy variable created, we will simply them to 5 types. The details are in the data_dictionary.\n"
      ],
      "metadata": {
        "id": "bmLriCpuHN7w"
      },
      "id": "bmLriCpuHN7w"
    },
    {
      "cell_type": "code",
      "execution_count": 68,
      "id": "5b985a18-8167-4c8b-8bc0-3aee84a7e3b1",
      "metadata": {
        "colab": {
          "base_uri": "https://localhost:8080/"
        },
        "id": "5b985a18-8167-4c8b-8bc0-3aee84a7e3b1",
        "outputId": "c3899588-73db-4978-b28d-2760c1432cc5"
      },
      "outputs": [
        {
          "output_type": "execute_result",
          "data": {
            "text/plain": [
              "type\n",
              "S     1278747\n",
              "B     1182890\n",
              "X      546226\n",
              "F      119853\n",
              "C      111250\n",
              "D       25983\n",
              "*B      16129\n",
              "E       15517\n",
              "T        6032\n",
              "W        5198\n",
              "H        1824\n",
              "L        1516\n",
              "M         314\n",
              "P          52\n",
              "O          28\n",
              "Name: count, dtype: int64"
            ]
          },
          "metadata": {},
          "execution_count": 68
        }
      ],
      "source": [
        "input_df['type'].value_counts()"
      ]
    },
    {
      "cell_type": "code",
      "execution_count": 69,
      "id": "ccbfc2cf-de56-484c-911d-06d454e2db50",
      "metadata": {
        "id": "ccbfc2cf-de56-484c-911d-06d454e2db50"
      },
      "outputs": [],
      "source": [
        "dictionary_type = {'S':'S',\n",
        "                'B':'B',\n",
        "                'X':'X',\n",
        "                'F':'F',\n",
        "                'C':'S',\n",
        "                'D':'D',\n",
        "                '*B':'B',\n",
        "                'E':'E',\n",
        "                'T':'F',\n",
        "                'W':'S',\n",
        "                'H':'D',\n",
        "                'L':'F',\n",
        "                'M':'S',\n",
        "                'P':'B',\n",
        "                'O':'B',\n",
        "                'First Pitch':'Other'\n",
        "                }"
      ]
    },
    {
      "cell_type": "code",
      "execution_count": 70,
      "id": "d820b696-135c-4161-a0fe-ffca9f9ce0b9",
      "metadata": {
        "id": "d820b696-135c-4161-a0fe-ffca9f9ce0b9"
      },
      "outputs": [],
      "source": [
        "simple_type = [dictionary_type[type] for type in input_df['type']]\n",
        "input_df['simple_type'] = simple_type"
      ]
    },
    {
      "cell_type": "code",
      "execution_count": 71,
      "id": "c7bc762b-5203-44c7-b1ce-e0d1f477ff69",
      "metadata": {
        "id": "c7bc762b-5203-44c7-b1ce-e0d1f477ff69"
      },
      "outputs": [],
      "source": [
        "simple_prvs_pitch_result = [dictionary_type[type] for type in input_df['prvs_pitch_result']]\n",
        "input_df['simple_prvs_pitch_result'] = simple_prvs_pitch_result"
      ]
    },
    {
      "cell_type": "code",
      "execution_count": 72,
      "id": "1c651212-4334-4d9a-b712-e77a6a9f86d5",
      "metadata": {
        "colab": {
          "base_uri": "https://localhost:8080/"
        },
        "id": "1c651212-4334-4d9a-b712-e77a6a9f86d5",
        "outputId": "e120cc94-68ee-4efd-a945-05f9c356a5d4"
      },
      "outputs": [
        {
          "output_type": "execute_result",
          "data": {
            "text/plain": [
              "simple_type\n",
              "S    1395509\n",
              "B    1199099\n",
              "X     546226\n",
              "F     127401\n",
              "D      27807\n",
              "E      15517\n",
              "Name: count, dtype: int64"
            ]
          },
          "metadata": {},
          "execution_count": 72
        }
      ],
      "source": [
        "input_df['simple_type'].value_counts()"
      ]
    },
    {
      "cell_type": "code",
      "execution_count": 73,
      "id": "ce8ba4b5-00f8-44eb-a187-96c660673206",
      "metadata": {
        "colab": {
          "base_uri": "https://localhost:8080/"
        },
        "id": "ce8ba4b5-00f8-44eb-a187-96c660673206",
        "outputId": "f8da53af-8b03-43ff-b70d-8a2f3198a797"
      },
      "outputs": [
        {
          "output_type": "execute_result",
          "data": {
            "text/plain": [
              "simple_prvs_pitch_result\n",
              "S        1368877\n",
              "B        1193245\n",
              "X         483868\n",
              "F         127069\n",
              "Other      97866\n",
              "D          26541\n",
              "E          14093\n",
              "Name: count, dtype: int64"
            ]
          },
          "metadata": {},
          "execution_count": 73
        }
      ],
      "source": [
        "input_df['simple_prvs_pitch_result'].value_counts()"
      ]
    },
    {
      "cell_type": "code",
      "execution_count": 74,
      "id": "54d90e43-4750-4a79-8f8d-4ddde14ab5c9",
      "metadata": {
        "id": "54d90e43-4750-4a79-8f8d-4ddde14ab5c9"
      },
      "outputs": [],
      "source": [
        "input_df = pd.get_dummies(input_df, columns=['simple_type','simple_prvs_pitch_result'])"
      ]
    },
    {
      "cell_type": "code",
      "execution_count": 75,
      "id": "241dbe19-bfe3-4b9d-b030-822523207661",
      "metadata": {
        "id": "241dbe19-bfe3-4b9d-b030-822523207661"
      },
      "outputs": [],
      "source": [
        "input_df = input_df.drop(columns=['type','prvs_pitch_result'])"
      ]
    },
    {
      "cell_type": "code",
      "execution_count": 76,
      "id": "5566f414-f9ca-448b-ba86-5675c7cce643",
      "metadata": {
        "colab": {
          "base_uri": "https://localhost:8080/"
        },
        "id": "5566f414-f9ca-448b-ba86-5675c7cce643",
        "outputId": "816b436d-be2b-4d2c-eb16-b93a609db0e4"
      },
      "outputs": [
        {
          "output_type": "stream",
          "name": "stdout",
          "text": [
            "<class 'pandas.core.frame.DataFrame'>\n",
            "Index: 3311559 entries, 0 to 3595933\n",
            "Data columns (total 45 columns):\n",
            " #   Column                          Dtype  \n",
            "---  ------                          -----  \n",
            " 0   px                              float64\n",
            " 1   pz                              float64\n",
            " 2   start_speed                     float64\n",
            " 3   end_speed                       float64\n",
            " 4   sz_bot                          float64\n",
            " 5   sz_top                          float64\n",
            " 6   zone                            object \n",
            " 7   b_score                         float64\n",
            " 8   ab_id                           float64\n",
            " 9   b_count                         float64\n",
            " 10  s_count                         float64\n",
            " 11  outs                            float64\n",
            " 12  pitch_num                       float64\n",
            " 13  on_1b                           float64\n",
            " 14  on_2b                           float64\n",
            " 15  on_3b                           float64\n",
            " 16  g_id                            float64\n",
            " 17  inning                          float64\n",
            " 18  o                               int64  \n",
            " 19  p_score                         float64\n",
            " 20  p_throws                        object \n",
            " 21  pitcher_id                      int64  \n",
            " 22  stand                           object \n",
            " 23  top                             object \n",
            " 24  pitch_count                     int64  \n",
            " 25  simple_pitch_type               object \n",
            " 26  simple_ab_event                 object \n",
            " 27  b_count_diff                    float64\n",
            " 28  run_diff                        float64\n",
            " 29  prvs_ab                         object \n",
            " 30  prvs_pitch                      object \n",
            " 31  simple_weather                  object \n",
            " 32  simple_type_B                   bool   \n",
            " 33  simple_type_D                   bool   \n",
            " 34  simple_type_E                   bool   \n",
            " 35  simple_type_F                   bool   \n",
            " 36  simple_type_S                   bool   \n",
            " 37  simple_type_X                   bool   \n",
            " 38  simple_prvs_pitch_result_B      bool   \n",
            " 39  simple_prvs_pitch_result_D      bool   \n",
            " 40  simple_prvs_pitch_result_E      bool   \n",
            " 41  simple_prvs_pitch_result_F      bool   \n",
            " 42  simple_prvs_pitch_result_Other  bool   \n",
            " 43  simple_prvs_pitch_result_S      bool   \n",
            " 44  simple_prvs_pitch_result_X      bool   \n",
            "dtypes: bool(13), float64(20), int64(3), object(9)\n",
            "memory usage: 874.8+ MB\n"
          ]
        }
      ],
      "source": [
        "input_df.info()"
      ]
    },
    {
      "cell_type": "markdown",
      "id": "e996da6d-e457-4a4e-942b-cc60c65fdf8f",
      "metadata": {
        "id": "e996da6d-e457-4a4e-942b-cc60c65fdf8f"
      },
      "source": [
        "### Dummy Variable for Previous Pitch Type"
      ]
    },
    {
      "cell_type": "code",
      "execution_count": 77,
      "id": "0580e3e5-5b9d-461d-a1e4-d780ecdb42aa",
      "metadata": {
        "colab": {
          "base_uri": "https://localhost:8080/"
        },
        "id": "0580e3e5-5b9d-461d-a1e4-d780ecdb42aa",
        "outputId": "4984de21-0937-4192-95bf-109f00e05aff"
      },
      "outputs": [
        {
          "output_type": "execute_result",
          "data": {
            "text/plain": [
              "prvs_pitch\n",
              "Fastball       1952414\n",
              "Breaking        869868\n",
              "Off-speed       383661\n",
              "First Pitch      97866\n",
              "Other             7750\n",
              "Name: count, dtype: int64"
            ]
          },
          "metadata": {},
          "execution_count": 77
        }
      ],
      "source": [
        "input_df['prvs_pitch'].value_counts()"
      ]
    },
    {
      "cell_type": "code",
      "execution_count": 78,
      "id": "26052b34-04ca-4bed-9685-28377644f088",
      "metadata": {
        "id": "26052b34-04ca-4bed-9685-28377644f088"
      },
      "outputs": [],
      "source": [
        "input_df = pd.get_dummies(input_df, columns=['prvs_pitch'])"
      ]
    },
    {
      "cell_type": "markdown",
      "id": "069aaada-2a9d-4c45-9906-71c64b3bbc37",
      "metadata": {
        "id": "069aaada-2a9d-4c45-9906-71c64b3bbc37"
      },
      "source": [
        "### Dummy Variable for Current and Previous At-Bat Result"
      ]
    },
    {
      "cell_type": "code",
      "execution_count": 79,
      "id": "6c9de00c-14ee-4ba4-baf3-e4a01bde542d",
      "metadata": {
        "colab": {
          "base_uri": "https://localhost:8080/"
        },
        "id": "6c9de00c-14ee-4ba4-baf3-e4a01bde542d",
        "outputId": "47baecaa-b258-477d-a0e9-e29f50a3613e"
      },
      "outputs": [
        {
          "output_type": "execute_result",
          "data": {
            "text/plain": [
              "prvs_ab\n",
              "Out        2068141\n",
              "Hit         755982\n",
              "Slug        250460\n",
              "FirstAB      95693\n",
              "DP           74376\n",
              "Other        66907\n",
              "Name: count, dtype: int64"
            ]
          },
          "metadata": {},
          "execution_count": 79
        }
      ],
      "source": [
        "input_df['prvs_ab'].value_counts()"
      ]
    },
    {
      "cell_type": "code",
      "execution_count": 80,
      "id": "4c54abad-2687-4e14-9fba-d1c56573efcf",
      "metadata": {
        "id": "4c54abad-2687-4e14-9fba-d1c56573efcf"
      },
      "outputs": [],
      "source": [
        "input_df = pd.get_dummies(input_df, columns=['prvs_ab','simple_ab_event'])\n"
      ]
    },
    {
      "cell_type": "code",
      "execution_count": 80,
      "id": "JXXo5b4U6gs4",
      "metadata": {
        "id": "JXXo5b4U6gs4"
      },
      "outputs": [],
      "source": []
    },
    {
      "cell_type": "markdown",
      "id": "4f50bdc0-739f-4821-a2fa-69f78d6c158a",
      "metadata": {
        "id": "4f50bdc0-739f-4821-a2fa-69f78d6c158a"
      },
      "source": [
        "### Dummy Variable for Weather"
      ]
    },
    {
      "cell_type": "code",
      "execution_count": 81,
      "id": "85e35279-1d99-4357-acd2-c9f7491ab86f",
      "metadata": {
        "colab": {
          "base_uri": "https://localhost:8080/"
        },
        "id": "85e35279-1d99-4357-acd2-c9f7491ab86f",
        "outputId": "ce2a8b77-459c-42ba-c16a-f0d70b4ce398"
      },
      "outputs": [
        {
          "output_type": "execute_result",
          "data": {
            "text/plain": [
              "simple_weather\n",
              "cloudy      1945010\n",
              "clear        511560\n",
              "dome         386385\n",
              "sunny        264311\n",
              "overcast     171366\n",
              "drizzle       17920\n",
              "rain          14801\n",
              "snow            206\n",
              "Name: count, dtype: int64"
            ]
          },
          "metadata": {},
          "execution_count": 81
        }
      ],
      "source": [
        "input_df['simple_weather'].value_counts()"
      ]
    },
    {
      "cell_type": "code",
      "execution_count": 82,
      "id": "50202c3c-1017-4567-8ca4-e8616d0e60d9",
      "metadata": {
        "id": "50202c3c-1017-4567-8ca4-e8616d0e60d9"
      },
      "outputs": [],
      "source": [
        "input_df = pd.get_dummies(input_df, columns=['simple_weather'])"
      ]
    },
    {
      "cell_type": "markdown",
      "id": "00d0d9ed-4e52-41cc-b859-75c08c23e951",
      "metadata": {
        "id": "00d0d9ed-4e52-41cc-b859-75c08c23e951"
      },
      "source": [
        "### Update L/R to Boolean"
      ]
    },
    {
      "cell_type": "markdown",
      "source": [
        "Pitching throwing side and batter stand side is text data. We will use 0 for left-hand user and 1 for right-hand user."
      ],
      "metadata": {
        "id": "lDwp8k48GuFj"
      },
      "id": "lDwp8k48GuFj"
    },
    {
      "cell_type": "markdown",
      "id": "4f38221e-40be-4ad1-b304-55de5e27f1d5",
      "metadata": {
        "id": "4f38221e-40be-4ad1-b304-55de5e27f1d5"
      },
      "source": [
        "#### Pitcher's throwing hand"
      ]
    },
    {
      "cell_type": "code",
      "execution_count": 83,
      "id": "9f416725-3749-4693-a26e-171f948097b1",
      "metadata": {
        "colab": {
          "base_uri": "https://localhost:8080/"
        },
        "id": "9f416725-3749-4693-a26e-171f948097b1",
        "outputId": "f5a9a372-30ca-4992-bc9e-c13cb63bc57d"
      },
      "outputs": [
        {
          "output_type": "execute_result",
          "data": {
            "text/plain": [
              "p_throws\n",
              "R    2421174\n",
              "L     890385\n",
              "Name: count, dtype: int64"
            ]
          },
          "metadata": {},
          "execution_count": 83
        }
      ],
      "source": [
        "input_df['p_throws'].value_counts()"
      ]
    },
    {
      "cell_type": "code",
      "execution_count": 84,
      "id": "829f846f-d016-4048-b4ae-43097937869d",
      "metadata": {
        "colab": {
          "base_uri": "https://localhost:8080/"
        },
        "id": "829f846f-d016-4048-b4ae-43097937869d",
        "outputId": "fa9bfff8-291d-4d8d-f8db-e6e3d8fcb221"
      },
      "outputs": [
        {
          "output_type": "stream",
          "name": "stderr",
          "text": [
            "<ipython-input-84-2d180f1f2966>:1: SettingWithCopyWarning: \n",
            "A value is trying to be set on a copy of a slice from a DataFrame\n",
            "\n",
            "See the caveats in the documentation: https://pandas.pydata.org/pandas-docs/stable/user_guide/indexing.html#returning-a-view-versus-a-copy\n",
            "  input_df['p_throws'][input_df['p_throws'] =='L'] = 0\n",
            "<ipython-input-84-2d180f1f2966>:2: SettingWithCopyWarning: \n",
            "A value is trying to be set on a copy of a slice from a DataFrame\n",
            "\n",
            "See the caveats in the documentation: https://pandas.pydata.org/pandas-docs/stable/user_guide/indexing.html#returning-a-view-versus-a-copy\n",
            "  input_df['p_throws'][input_df['p_throws'] =='R'] = 1\n"
          ]
        }
      ],
      "source": [
        "input_df['p_throws'][input_df['p_throws'] =='L'] = 0\n",
        "input_df['p_throws'][input_df['p_throws'] =='R'] = 1"
      ]
    },
    {
      "cell_type": "code",
      "execution_count": 85,
      "id": "977e66d1-5aae-47a3-b091-df94398f2f63",
      "metadata": {
        "colab": {
          "base_uri": "https://localhost:8080/"
        },
        "id": "977e66d1-5aae-47a3-b091-df94398f2f63",
        "outputId": "31e1e9d7-14b0-4cc2-8177-b9a3f69019ed"
      },
      "outputs": [
        {
          "output_type": "execute_result",
          "data": {
            "text/plain": [
              "stand\n",
              "R    1928447\n",
              "L    1383112\n",
              "Name: count, dtype: int64"
            ]
          },
          "metadata": {},
          "execution_count": 85
        }
      ],
      "source": [
        "input_df['stand'].value_counts()"
      ]
    },
    {
      "cell_type": "code",
      "execution_count": 86,
      "id": "55bf5ea5-ab2b-432b-b15b-0501d81e70d9",
      "metadata": {
        "colab": {
          "base_uri": "https://localhost:8080/"
        },
        "id": "55bf5ea5-ab2b-432b-b15b-0501d81e70d9",
        "outputId": "34633490-103a-4633-fd1f-6bd55ffdc8d3"
      },
      "outputs": [
        {
          "output_type": "stream",
          "name": "stderr",
          "text": [
            "<ipython-input-86-072ab0f1e50c>:1: SettingWithCopyWarning: \n",
            "A value is trying to be set on a copy of a slice from a DataFrame\n",
            "\n",
            "See the caveats in the documentation: https://pandas.pydata.org/pandas-docs/stable/user_guide/indexing.html#returning-a-view-versus-a-copy\n",
            "  input_df['stand'][input_df['stand'] =='L'] = 0\n",
            "<ipython-input-86-072ab0f1e50c>:2: SettingWithCopyWarning: \n",
            "A value is trying to be set on a copy of a slice from a DataFrame\n",
            "\n",
            "See the caveats in the documentation: https://pandas.pydata.org/pandas-docs/stable/user_guide/indexing.html#returning-a-view-versus-a-copy\n",
            "  input_df['stand'][input_df['stand'] =='R'] = 1\n"
          ]
        }
      ],
      "source": [
        "input_df['stand'][input_df['stand'] =='L'] = 0\n",
        "input_df['stand'][input_df['stand'] =='R'] = 1"
      ]
    },
    {
      "cell_type": "code",
      "execution_count": 87,
      "id": "964a306d-e92c-417b-b666-73a9c3e470b4",
      "metadata": {
        "colab": {
          "base_uri": "https://localhost:8080/"
        },
        "id": "964a306d-e92c-417b-b666-73a9c3e470b4",
        "outputId": "a3a770e9-2c8e-482b-fae9-98f97029b55a"
      },
      "outputs": [
        {
          "output_type": "execute_result",
          "data": {
            "text/plain": [
              "p_throws\n",
              "1    2421174\n",
              "0     890385\n",
              "Name: count, dtype: int64"
            ]
          },
          "metadata": {},
          "execution_count": 87
        }
      ],
      "source": [
        "input_df['p_throws'].value_counts()"
      ]
    },
    {
      "cell_type": "code",
      "execution_count": 88,
      "id": "1a27c24e-c1ee-4f7a-ab03-e7394f321ba9",
      "metadata": {
        "colab": {
          "base_uri": "https://localhost:8080/"
        },
        "id": "1a27c24e-c1ee-4f7a-ab03-e7394f321ba9",
        "outputId": "9ae2094f-23b0-4484-a706-c2ad688c0abe"
      },
      "outputs": [
        {
          "output_type": "execute_result",
          "data": {
            "text/plain": [
              "stand\n",
              "1    1928447\n",
              "0    1383112\n",
              "Name: count, dtype: int64"
            ]
          },
          "metadata": {},
          "execution_count": 88
        }
      ],
      "source": [
        "input_df['stand'].value_counts()"
      ]
    },
    {
      "cell_type": "code",
      "execution_count": 89,
      "id": "4a9bc400-1f7d-4138-9fc7-5df4c2252e6c",
      "metadata": {
        "colab": {
          "base_uri": "https://localhost:8080/"
        },
        "id": "4a9bc400-1f7d-4138-9fc7-5df4c2252e6c",
        "outputId": "5b98479f-eea0-4912-94c2-5938b1ec0206"
      },
      "outputs": [
        {
          "output_type": "stream",
          "name": "stdout",
          "text": [
            "<class 'pandas.core.frame.DataFrame'>\n",
            "Index: 3311559 entries, 0 to 3595933\n",
            "Data columns (total 65 columns):\n",
            " #   Column                          Dtype  \n",
            "---  ------                          -----  \n",
            " 0   px                              float64\n",
            " 1   pz                              float64\n",
            " 2   start_speed                     float64\n",
            " 3   end_speed                       float64\n",
            " 4   sz_bot                          float64\n",
            " 5   sz_top                          float64\n",
            " 6   zone                            object \n",
            " 7   b_score                         float64\n",
            " 8   ab_id                           float64\n",
            " 9   b_count                         float64\n",
            " 10  s_count                         float64\n",
            " 11  outs                            float64\n",
            " 12  pitch_num                       float64\n",
            " 13  on_1b                           float64\n",
            " 14  on_2b                           float64\n",
            " 15  on_3b                           float64\n",
            " 16  g_id                            float64\n",
            " 17  inning                          float64\n",
            " 18  o                               int64  \n",
            " 19  p_score                         float64\n",
            " 20  p_throws                        object \n",
            " 21  pitcher_id                      int64  \n",
            " 22  stand                           object \n",
            " 23  top                             object \n",
            " 24  pitch_count                     int64  \n",
            " 25  simple_pitch_type               object \n",
            " 26  b_count_diff                    float64\n",
            " 27  run_diff                        float64\n",
            " 28  simple_type_B                   bool   \n",
            " 29  simple_type_D                   bool   \n",
            " 30  simple_type_E                   bool   \n",
            " 31  simple_type_F                   bool   \n",
            " 32  simple_type_S                   bool   \n",
            " 33  simple_type_X                   bool   \n",
            " 34  simple_prvs_pitch_result_B      bool   \n",
            " 35  simple_prvs_pitch_result_D      bool   \n",
            " 36  simple_prvs_pitch_result_E      bool   \n",
            " 37  simple_prvs_pitch_result_F      bool   \n",
            " 38  simple_prvs_pitch_result_Other  bool   \n",
            " 39  simple_prvs_pitch_result_S      bool   \n",
            " 40  simple_prvs_pitch_result_X      bool   \n",
            " 41  prvs_pitch_Breaking             bool   \n",
            " 42  prvs_pitch_Fastball             bool   \n",
            " 43  prvs_pitch_First Pitch          bool   \n",
            " 44  prvs_pitch_Off-speed            bool   \n",
            " 45  prvs_pitch_Other                bool   \n",
            " 46  prvs_ab_DP                      bool   \n",
            " 47  prvs_ab_FirstAB                 bool   \n",
            " 48  prvs_ab_Hit                     bool   \n",
            " 49  prvs_ab_Other                   bool   \n",
            " 50  prvs_ab_Out                     bool   \n",
            " 51  prvs_ab_Slug                    bool   \n",
            " 52  simple_ab_event_DP              bool   \n",
            " 53  simple_ab_event_Hit             bool   \n",
            " 54  simple_ab_event_Other           bool   \n",
            " 55  simple_ab_event_Out             bool   \n",
            " 56  simple_ab_event_Slug            bool   \n",
            " 57  simple_weather_clear            bool   \n",
            " 58  simple_weather_cloudy           bool   \n",
            " 59  simple_weather_dome             bool   \n",
            " 60  simple_weather_drizzle          bool   \n",
            " 61  simple_weather_overcast         bool   \n",
            " 62  simple_weather_rain             bool   \n",
            " 63  simple_weather_snow             bool   \n",
            " 64  simple_weather_sunny            bool   \n",
            "dtypes: bool(37), float64(20), int64(3), object(5)\n",
            "memory usage: 849.5+ MB\n"
          ]
        }
      ],
      "source": [
        "input_df.info()"
      ]
    },
    {
      "cell_type": "code",
      "execution_count": 90,
      "id": "879d14de-bdc9-48e0-8143-1f57cf167d62",
      "metadata": {
        "id": "879d14de-bdc9-48e0-8143-1f57cf167d62"
      },
      "outputs": [],
      "source": [
        "input_df['stand'] = input_df['stand'].astype(float)\n",
        "input_df['p_throws'] = input_df['p_throws'].astype(float)"
      ]
    },
    {
      "cell_type": "code",
      "execution_count": 91,
      "id": "02a03f4b-5412-4fa2-91d7-499f41629bcb",
      "metadata": {
        "id": "02a03f4b-5412-4fa2-91d7-499f41629bcb"
      },
      "outputs": [],
      "source": [
        "bool_columns = input_df.select_dtypes(include=['bool']).columns\n",
        "input_df[bool_columns] = input_df[bool_columns].astype(float)"
      ]
    },
    {
      "cell_type": "code",
      "execution_count": 92,
      "id": "8579e914-48c1-4fd8-b39f-e5b11dce548d",
      "metadata": {
        "colab": {
          "base_uri": "https://localhost:8080/"
        },
        "id": "8579e914-48c1-4fd8-b39f-e5b11dce548d",
        "outputId": "2b62d72a-d41e-4943-bd96-cacb849c30f9"
      },
      "outputs": [
        {
          "output_type": "stream",
          "name": "stdout",
          "text": [
            "<class 'pandas.core.frame.DataFrame'>\n",
            "Index: 3311559 entries, 0 to 3595933\n",
            "Data columns (total 65 columns):\n",
            " #   Column                          Dtype  \n",
            "---  ------                          -----  \n",
            " 0   px                              float64\n",
            " 1   pz                              float64\n",
            " 2   start_speed                     float64\n",
            " 3   end_speed                       float64\n",
            " 4   sz_bot                          float64\n",
            " 5   sz_top                          float64\n",
            " 6   zone                            object \n",
            " 7   b_score                         float64\n",
            " 8   ab_id                           float64\n",
            " 9   b_count                         float64\n",
            " 10  s_count                         float64\n",
            " 11  outs                            float64\n",
            " 12  pitch_num                       float64\n",
            " 13  on_1b                           float64\n",
            " 14  on_2b                           float64\n",
            " 15  on_3b                           float64\n",
            " 16  g_id                            float64\n",
            " 17  inning                          float64\n",
            " 18  o                               int64  \n",
            " 19  p_score                         float64\n",
            " 20  p_throws                        float64\n",
            " 21  pitcher_id                      int64  \n",
            " 22  stand                           float64\n",
            " 23  top                             object \n",
            " 24  pitch_count                     int64  \n",
            " 25  simple_pitch_type               object \n",
            " 26  b_count_diff                    float64\n",
            " 27  run_diff                        float64\n",
            " 28  simple_type_B                   float64\n",
            " 29  simple_type_D                   float64\n",
            " 30  simple_type_E                   float64\n",
            " 31  simple_type_F                   float64\n",
            " 32  simple_type_S                   float64\n",
            " 33  simple_type_X                   float64\n",
            " 34  simple_prvs_pitch_result_B      float64\n",
            " 35  simple_prvs_pitch_result_D      float64\n",
            " 36  simple_prvs_pitch_result_E      float64\n",
            " 37  simple_prvs_pitch_result_F      float64\n",
            " 38  simple_prvs_pitch_result_Other  float64\n",
            " 39  simple_prvs_pitch_result_S      float64\n",
            " 40  simple_prvs_pitch_result_X      float64\n",
            " 41  prvs_pitch_Breaking             float64\n",
            " 42  prvs_pitch_Fastball             float64\n",
            " 43  prvs_pitch_First Pitch          float64\n",
            " 44  prvs_pitch_Off-speed            float64\n",
            " 45  prvs_pitch_Other                float64\n",
            " 46  prvs_ab_DP                      float64\n",
            " 47  prvs_ab_FirstAB                 float64\n",
            " 48  prvs_ab_Hit                     float64\n",
            " 49  prvs_ab_Other                   float64\n",
            " 50  prvs_ab_Out                     float64\n",
            " 51  prvs_ab_Slug                    float64\n",
            " 52  simple_ab_event_DP              float64\n",
            " 53  simple_ab_event_Hit             float64\n",
            " 54  simple_ab_event_Other           float64\n",
            " 55  simple_ab_event_Out             float64\n",
            " 56  simple_ab_event_Slug            float64\n",
            " 57  simple_weather_clear            float64\n",
            " 58  simple_weather_cloudy           float64\n",
            " 59  simple_weather_dome             float64\n",
            " 60  simple_weather_drizzle          float64\n",
            " 61  simple_weather_overcast         float64\n",
            " 62  simple_weather_rain             float64\n",
            " 63  simple_weather_snow             float64\n",
            " 64  simple_weather_sunny            float64\n",
            "dtypes: float64(59), int64(3), object(3)\n",
            "memory usage: 1.6+ GB\n"
          ]
        }
      ],
      "source": [
        "input_df.info()"
      ]
    },
    {
      "cell_type": "markdown",
      "id": "XQ61GwUx6qbR",
      "metadata": {
        "id": "XQ61GwUx6qbR"
      },
      "source": [
        "### Encode simple_pitch_type"
      ]
    },
    {
      "cell_type": "code",
      "execution_count": 93,
      "id": "0aaLVed86OaH",
      "metadata": {
        "colab": {
          "base_uri": "https://localhost:8080/"
        },
        "id": "0aaLVed86OaH",
        "outputId": "6ea24bae-e1cd-4b91-bac1-18635b9ae287"
      },
      "outputs": [
        {
          "output_type": "execute_result",
          "data": {
            "text/plain": [
              "simple_pitch_type\n",
              "Fastball     2010196\n",
              "Breaking      898973\n",
              "Off-speed     394418\n",
              "Other           7972\n",
              "Name: count, dtype: int64"
            ]
          },
          "metadata": {},
          "execution_count": 93
        }
      ],
      "source": [
        "input_df['simple_pitch_type'].value_counts()"
      ]
    },
    {
      "cell_type": "code",
      "execution_count": 94,
      "id": "SiTozGSH7yZd",
      "metadata": {
        "id": "SiTozGSH7yZd"
      },
      "outputs": [],
      "source": [
        "dictionary_pitch_type = {'Off-speed': 3,\n",
        "                'Breaking': 2,\n",
        "                'Fastball': 1,\n",
        "                'Other': 4\n",
        "                }"
      ]
    },
    {
      "cell_type": "code",
      "execution_count": 95,
      "id": "iGaf4wch_Esy",
      "metadata": {
        "id": "iGaf4wch_Esy"
      },
      "outputs": [],
      "source": [
        "simple_pitch_type_enc = [dictionary_pitch_type[type] for type in input_df['simple_pitch_type']]\n",
        "input_df['simple_pitch_type_enc'] = simple_pitch_type_enc\n"
      ]
    },
    {
      "cell_type": "code",
      "execution_count": 96,
      "id": "_IgOMISZI3AH",
      "metadata": {
        "colab": {
          "base_uri": "https://localhost:8080/"
        },
        "id": "_IgOMISZI3AH",
        "outputId": "4331ff94-6654-44dd-bd8a-1d416f11da5d"
      },
      "outputs": [
        {
          "output_type": "execute_result",
          "data": {
            "text/plain": [
              "px                         float64\n",
              "pz                         float64\n",
              "start_speed                float64\n",
              "end_speed                  float64\n",
              "sz_bot                     float64\n",
              "                            ...   \n",
              "simple_weather_overcast    float64\n",
              "simple_weather_rain        float64\n",
              "simple_weather_snow        float64\n",
              "simple_weather_sunny       float64\n",
              "simple_pitch_type_enc        int64\n",
              "Length: 66, dtype: object"
            ]
          },
          "metadata": {},
          "execution_count": 96
        }
      ],
      "source": [
        "input_df.dtypes"
      ]
    },
    {
      "cell_type": "markdown",
      "source": [
        "## Zone or px&pz"
      ],
      "metadata": {
        "id": "OBDMkYioHueT"
      },
      "id": "OBDMkYioHueT"
    },
    {
      "cell_type": "markdown",
      "source": [
        "As mentioned, zone number is determined by px and pz. Due to pitch_type as categorical variable and px&pz being continous variable, we will use zone as the second target variable so that the model only needs to do classification tasks."
      ],
      "metadata": {
        "id": "XWnf4mh4H0To"
      },
      "id": "XWnf4mh4H0To"
    },
    {
      "cell_type": "code",
      "source": [
        "input_df.drop(columns = ['px','pz'])"
      ],
      "metadata": {
        "colab": {
          "base_uri": "https://localhost:8080/",
          "height": 0
        },
        "id": "byhw_KO7IP0j",
        "outputId": "1516113b-cf6e-497d-8e2a-332e9e8233fa"
      },
      "id": "byhw_KO7IP0j",
      "execution_count": 97,
      "outputs": [
        {
          "output_type": "execute_result",
          "data": {
            "text/plain": [
              "         start_speed  end_speed  sz_bot  sz_top  zone  b_score         ab_id  \\\n",
              "0              92.90      84.10    1.72    3.56  3.00     0.00 2015000001.00   \n",
              "1              92.80      84.10    1.72    3.56  5.00     0.00 2015000001.00   \n",
              "2              94.10      85.20    1.72    3.56  1.00     0.00 2015000001.00   \n",
              "3              91.00      84.00    1.74    3.35 13.00     0.00 2015000001.00   \n",
              "4              75.40      69.60    1.72    3.56 13.00     0.00 2015000001.00   \n",
              "...              ...        ...     ...     ...   ...      ...           ...   \n",
              "3595929        88.00      80.90    1.43    3.24    13     4.00 2019185242.00   \n",
              "3595930        87.70      80.60    1.62    3.31    13     4.00 2019185242.00   \n",
              "3595931        92.90      84.60    1.58    3.48    12     4.00 2019185242.00   \n",
              "3595932        92.20      84.00    1.65    3.31    12     4.00 2019185242.00   \n",
              "3595933        88.10      80.90    1.58    3.31    14     4.00 2019185242.00   \n",
              "\n",
              "         b_count  s_count  outs  ...  simple_ab_event_Slug  \\\n",
              "0           0.00     0.00  0.00  ...                  0.00   \n",
              "1           0.00     1.00  0.00  ...                  0.00   \n",
              "2           0.00     2.00  0.00  ...                  0.00   \n",
              "3           0.00     2.00  0.00  ...                  0.00   \n",
              "4           1.00     2.00  0.00  ...                  0.00   \n",
              "...          ...      ...   ...  ...                   ...   \n",
              "3595929     0.00     0.00  2.00  ...                  0.00   \n",
              "3595930     0.00     0.00  2.00  ...                  0.00   \n",
              "3595931     1.00     0.00  2.00  ...                  0.00   \n",
              "3595932     1.00     0.00  2.00  ...                  0.00   \n",
              "3595933     1.00     0.00  2.00  ...                  0.00   \n",
              "\n",
              "         simple_weather_clear  simple_weather_cloudy  simple_weather_dome  \\\n",
              "0                        1.00                   0.00                 0.00   \n",
              "1                        1.00                   0.00                 0.00   \n",
              "2                        1.00                   0.00                 0.00   \n",
              "3                        1.00                   0.00                 0.00   \n",
              "4                        1.00                   0.00                 0.00   \n",
              "...                       ...                    ...                  ...   \n",
              "3595929                  0.00                   1.00                 0.00   \n",
              "3595930                  0.00                   1.00                 0.00   \n",
              "3595931                  0.00                   1.00                 0.00   \n",
              "3595932                  0.00                   1.00                 0.00   \n",
              "3595933                  0.00                   1.00                 0.00   \n",
              "\n",
              "         simple_weather_drizzle  simple_weather_overcast  simple_weather_rain  \\\n",
              "0                          0.00                     0.00                 0.00   \n",
              "1                          0.00                     0.00                 0.00   \n",
              "2                          0.00                     0.00                 0.00   \n",
              "3                          0.00                     0.00                 0.00   \n",
              "4                          0.00                     0.00                 0.00   \n",
              "...                         ...                      ...                  ...   \n",
              "3595929                    0.00                     0.00                 0.00   \n",
              "3595930                    0.00                     0.00                 0.00   \n",
              "3595931                    0.00                     0.00                 0.00   \n",
              "3595932                    0.00                     0.00                 0.00   \n",
              "3595933                    0.00                     0.00                 0.00   \n",
              "\n",
              "         simple_weather_snow  simple_weather_sunny  simple_pitch_type_enc  \n",
              "0                       0.00                  0.00                      1  \n",
              "1                       0.00                  0.00                      1  \n",
              "2                       0.00                  0.00                      1  \n",
              "3                       0.00                  0.00                      1  \n",
              "4                       0.00                  0.00                      2  \n",
              "...                      ...                   ...                    ...  \n",
              "3595929                 0.00                  0.00                      3  \n",
              "3595930                 0.00                  0.00                      3  \n",
              "3595931                 0.00                  0.00                      1  \n",
              "3595932                 0.00                  0.00                      1  \n",
              "3595933                 0.00                  0.00                      3  \n",
              "\n",
              "[3311559 rows x 64 columns]"
            ],
            "text/html": [
              "\n",
              "  <div id=\"df-8f2e1605-7539-4a77-aa2d-0b55084f64b7\" class=\"colab-df-container\">\n",
              "    <div>\n",
              "<style scoped>\n",
              "    .dataframe tbody tr th:only-of-type {\n",
              "        vertical-align: middle;\n",
              "    }\n",
              "\n",
              "    .dataframe tbody tr th {\n",
              "        vertical-align: top;\n",
              "    }\n",
              "\n",
              "    .dataframe thead th {\n",
              "        text-align: right;\n",
              "    }\n",
              "</style>\n",
              "<table border=\"1\" class=\"dataframe\">\n",
              "  <thead>\n",
              "    <tr style=\"text-align: right;\">\n",
              "      <th></th>\n",
              "      <th>start_speed</th>\n",
              "      <th>end_speed</th>\n",
              "      <th>sz_bot</th>\n",
              "      <th>sz_top</th>\n",
              "      <th>zone</th>\n",
              "      <th>b_score</th>\n",
              "      <th>ab_id</th>\n",
              "      <th>b_count</th>\n",
              "      <th>s_count</th>\n",
              "      <th>outs</th>\n",
              "      <th>...</th>\n",
              "      <th>simple_ab_event_Slug</th>\n",
              "      <th>simple_weather_clear</th>\n",
              "      <th>simple_weather_cloudy</th>\n",
              "      <th>simple_weather_dome</th>\n",
              "      <th>simple_weather_drizzle</th>\n",
              "      <th>simple_weather_overcast</th>\n",
              "      <th>simple_weather_rain</th>\n",
              "      <th>simple_weather_snow</th>\n",
              "      <th>simple_weather_sunny</th>\n",
              "      <th>simple_pitch_type_enc</th>\n",
              "    </tr>\n",
              "  </thead>\n",
              "  <tbody>\n",
              "    <tr>\n",
              "      <th>0</th>\n",
              "      <td>92.90</td>\n",
              "      <td>84.10</td>\n",
              "      <td>1.72</td>\n",
              "      <td>3.56</td>\n",
              "      <td>3.00</td>\n",
              "      <td>0.00</td>\n",
              "      <td>2015000001.00</td>\n",
              "      <td>0.00</td>\n",
              "      <td>0.00</td>\n",
              "      <td>0.00</td>\n",
              "      <td>...</td>\n",
              "      <td>0.00</td>\n",
              "      <td>1.00</td>\n",
              "      <td>0.00</td>\n",
              "      <td>0.00</td>\n",
              "      <td>0.00</td>\n",
              "      <td>0.00</td>\n",
              "      <td>0.00</td>\n",
              "      <td>0.00</td>\n",
              "      <td>0.00</td>\n",
              "      <td>1</td>\n",
              "    </tr>\n",
              "    <tr>\n",
              "      <th>1</th>\n",
              "      <td>92.80</td>\n",
              "      <td>84.10</td>\n",
              "      <td>1.72</td>\n",
              "      <td>3.56</td>\n",
              "      <td>5.00</td>\n",
              "      <td>0.00</td>\n",
              "      <td>2015000001.00</td>\n",
              "      <td>0.00</td>\n",
              "      <td>1.00</td>\n",
              "      <td>0.00</td>\n",
              "      <td>...</td>\n",
              "      <td>0.00</td>\n",
              "      <td>1.00</td>\n",
              "      <td>0.00</td>\n",
              "      <td>0.00</td>\n",
              "      <td>0.00</td>\n",
              "      <td>0.00</td>\n",
              "      <td>0.00</td>\n",
              "      <td>0.00</td>\n",
              "      <td>0.00</td>\n",
              "      <td>1</td>\n",
              "    </tr>\n",
              "    <tr>\n",
              "      <th>2</th>\n",
              "      <td>94.10</td>\n",
              "      <td>85.20</td>\n",
              "      <td>1.72</td>\n",
              "      <td>3.56</td>\n",
              "      <td>1.00</td>\n",
              "      <td>0.00</td>\n",
              "      <td>2015000001.00</td>\n",
              "      <td>0.00</td>\n",
              "      <td>2.00</td>\n",
              "      <td>0.00</td>\n",
              "      <td>...</td>\n",
              "      <td>0.00</td>\n",
              "      <td>1.00</td>\n",
              "      <td>0.00</td>\n",
              "      <td>0.00</td>\n",
              "      <td>0.00</td>\n",
              "      <td>0.00</td>\n",
              "      <td>0.00</td>\n",
              "      <td>0.00</td>\n",
              "      <td>0.00</td>\n",
              "      <td>1</td>\n",
              "    </tr>\n",
              "    <tr>\n",
              "      <th>3</th>\n",
              "      <td>91.00</td>\n",
              "      <td>84.00</td>\n",
              "      <td>1.74</td>\n",
              "      <td>3.35</td>\n",
              "      <td>13.00</td>\n",
              "      <td>0.00</td>\n",
              "      <td>2015000001.00</td>\n",
              "      <td>0.00</td>\n",
              "      <td>2.00</td>\n",
              "      <td>0.00</td>\n",
              "      <td>...</td>\n",
              "      <td>0.00</td>\n",
              "      <td>1.00</td>\n",
              "      <td>0.00</td>\n",
              "      <td>0.00</td>\n",
              "      <td>0.00</td>\n",
              "      <td>0.00</td>\n",
              "      <td>0.00</td>\n",
              "      <td>0.00</td>\n",
              "      <td>0.00</td>\n",
              "      <td>1</td>\n",
              "    </tr>\n",
              "    <tr>\n",
              "      <th>4</th>\n",
              "      <td>75.40</td>\n",
              "      <td>69.60</td>\n",
              "      <td>1.72</td>\n",
              "      <td>3.56</td>\n",
              "      <td>13.00</td>\n",
              "      <td>0.00</td>\n",
              "      <td>2015000001.00</td>\n",
              "      <td>1.00</td>\n",
              "      <td>2.00</td>\n",
              "      <td>0.00</td>\n",
              "      <td>...</td>\n",
              "      <td>0.00</td>\n",
              "      <td>1.00</td>\n",
              "      <td>0.00</td>\n",
              "      <td>0.00</td>\n",
              "      <td>0.00</td>\n",
              "      <td>0.00</td>\n",
              "      <td>0.00</td>\n",
              "      <td>0.00</td>\n",
              "      <td>0.00</td>\n",
              "      <td>2</td>\n",
              "    </tr>\n",
              "    <tr>\n",
              "      <th>...</th>\n",
              "      <td>...</td>\n",
              "      <td>...</td>\n",
              "      <td>...</td>\n",
              "      <td>...</td>\n",
              "      <td>...</td>\n",
              "      <td>...</td>\n",
              "      <td>...</td>\n",
              "      <td>...</td>\n",
              "      <td>...</td>\n",
              "      <td>...</td>\n",
              "      <td>...</td>\n",
              "      <td>...</td>\n",
              "      <td>...</td>\n",
              "      <td>...</td>\n",
              "      <td>...</td>\n",
              "      <td>...</td>\n",
              "      <td>...</td>\n",
              "      <td>...</td>\n",
              "      <td>...</td>\n",
              "      <td>...</td>\n",
              "      <td>...</td>\n",
              "    </tr>\n",
              "    <tr>\n",
              "      <th>3595929</th>\n",
              "      <td>88.00</td>\n",
              "      <td>80.90</td>\n",
              "      <td>1.43</td>\n",
              "      <td>3.24</td>\n",
              "      <td>13</td>\n",
              "      <td>4.00</td>\n",
              "      <td>2019185242.00</td>\n",
              "      <td>0.00</td>\n",
              "      <td>0.00</td>\n",
              "      <td>2.00</td>\n",
              "      <td>...</td>\n",
              "      <td>0.00</td>\n",
              "      <td>0.00</td>\n",
              "      <td>1.00</td>\n",
              "      <td>0.00</td>\n",
              "      <td>0.00</td>\n",
              "      <td>0.00</td>\n",
              "      <td>0.00</td>\n",
              "      <td>0.00</td>\n",
              "      <td>0.00</td>\n",
              "      <td>3</td>\n",
              "    </tr>\n",
              "    <tr>\n",
              "      <th>3595930</th>\n",
              "      <td>87.70</td>\n",
              "      <td>80.60</td>\n",
              "      <td>1.62</td>\n",
              "      <td>3.31</td>\n",
              "      <td>13</td>\n",
              "      <td>4.00</td>\n",
              "      <td>2019185242.00</td>\n",
              "      <td>0.00</td>\n",
              "      <td>0.00</td>\n",
              "      <td>2.00</td>\n",
              "      <td>...</td>\n",
              "      <td>0.00</td>\n",
              "      <td>0.00</td>\n",
              "      <td>1.00</td>\n",
              "      <td>0.00</td>\n",
              "      <td>0.00</td>\n",
              "      <td>0.00</td>\n",
              "      <td>0.00</td>\n",
              "      <td>0.00</td>\n",
              "      <td>0.00</td>\n",
              "      <td>3</td>\n",
              "    </tr>\n",
              "    <tr>\n",
              "      <th>3595931</th>\n",
              "      <td>92.90</td>\n",
              "      <td>84.60</td>\n",
              "      <td>1.58</td>\n",
              "      <td>3.48</td>\n",
              "      <td>12</td>\n",
              "      <td>4.00</td>\n",
              "      <td>2019185242.00</td>\n",
              "      <td>1.00</td>\n",
              "      <td>0.00</td>\n",
              "      <td>2.00</td>\n",
              "      <td>...</td>\n",
              "      <td>0.00</td>\n",
              "      <td>0.00</td>\n",
              "      <td>1.00</td>\n",
              "      <td>0.00</td>\n",
              "      <td>0.00</td>\n",
              "      <td>0.00</td>\n",
              "      <td>0.00</td>\n",
              "      <td>0.00</td>\n",
              "      <td>0.00</td>\n",
              "      <td>1</td>\n",
              "    </tr>\n",
              "    <tr>\n",
              "      <th>3595932</th>\n",
              "      <td>92.20</td>\n",
              "      <td>84.00</td>\n",
              "      <td>1.65</td>\n",
              "      <td>3.31</td>\n",
              "      <td>12</td>\n",
              "      <td>4.00</td>\n",
              "      <td>2019185242.00</td>\n",
              "      <td>1.00</td>\n",
              "      <td>0.00</td>\n",
              "      <td>2.00</td>\n",
              "      <td>...</td>\n",
              "      <td>0.00</td>\n",
              "      <td>0.00</td>\n",
              "      <td>1.00</td>\n",
              "      <td>0.00</td>\n",
              "      <td>0.00</td>\n",
              "      <td>0.00</td>\n",
              "      <td>0.00</td>\n",
              "      <td>0.00</td>\n",
              "      <td>0.00</td>\n",
              "      <td>1</td>\n",
              "    </tr>\n",
              "    <tr>\n",
              "      <th>3595933</th>\n",
              "      <td>88.10</td>\n",
              "      <td>80.90</td>\n",
              "      <td>1.58</td>\n",
              "      <td>3.31</td>\n",
              "      <td>14</td>\n",
              "      <td>4.00</td>\n",
              "      <td>2019185242.00</td>\n",
              "      <td>1.00</td>\n",
              "      <td>0.00</td>\n",
              "      <td>2.00</td>\n",
              "      <td>...</td>\n",
              "      <td>0.00</td>\n",
              "      <td>0.00</td>\n",
              "      <td>1.00</td>\n",
              "      <td>0.00</td>\n",
              "      <td>0.00</td>\n",
              "      <td>0.00</td>\n",
              "      <td>0.00</td>\n",
              "      <td>0.00</td>\n",
              "      <td>0.00</td>\n",
              "      <td>3</td>\n",
              "    </tr>\n",
              "  </tbody>\n",
              "</table>\n",
              "<p>3311559 rows × 64 columns</p>\n",
              "</div>\n",
              "    <div class=\"colab-df-buttons\">\n",
              "\n",
              "  <div class=\"colab-df-container\">\n",
              "    <button class=\"colab-df-convert\" onclick=\"convertToInteractive('df-8f2e1605-7539-4a77-aa2d-0b55084f64b7')\"\n",
              "            title=\"Convert this dataframe to an interactive table.\"\n",
              "            style=\"display:none;\">\n",
              "\n",
              "  <svg xmlns=\"http://www.w3.org/2000/svg\" height=\"24px\" viewBox=\"0 -960 960 960\">\n",
              "    <path d=\"M120-120v-720h720v720H120Zm60-500h600v-160H180v160Zm220 220h160v-160H400v160Zm0 220h160v-160H400v160ZM180-400h160v-160H180v160Zm440 0h160v-160H620v160ZM180-180h160v-160H180v160Zm440 0h160v-160H620v160Z\"/>\n",
              "  </svg>\n",
              "    </button>\n",
              "\n",
              "  <style>\n",
              "    .colab-df-container {\n",
              "      display:flex;\n",
              "      gap: 12px;\n",
              "    }\n",
              "\n",
              "    .colab-df-convert {\n",
              "      background-color: #E8F0FE;\n",
              "      border: none;\n",
              "      border-radius: 50%;\n",
              "      cursor: pointer;\n",
              "      display: none;\n",
              "      fill: #1967D2;\n",
              "      height: 32px;\n",
              "      padding: 0 0 0 0;\n",
              "      width: 32px;\n",
              "    }\n",
              "\n",
              "    .colab-df-convert:hover {\n",
              "      background-color: #E2EBFA;\n",
              "      box-shadow: 0px 1px 2px rgba(60, 64, 67, 0.3), 0px 1px 3px 1px rgba(60, 64, 67, 0.15);\n",
              "      fill: #174EA6;\n",
              "    }\n",
              "\n",
              "    .colab-df-buttons div {\n",
              "      margin-bottom: 4px;\n",
              "    }\n",
              "\n",
              "    [theme=dark] .colab-df-convert {\n",
              "      background-color: #3B4455;\n",
              "      fill: #D2E3FC;\n",
              "    }\n",
              "\n",
              "    [theme=dark] .colab-df-convert:hover {\n",
              "      background-color: #434B5C;\n",
              "      box-shadow: 0px 1px 3px 1px rgba(0, 0, 0, 0.15);\n",
              "      filter: drop-shadow(0px 1px 2px rgba(0, 0, 0, 0.3));\n",
              "      fill: #FFFFFF;\n",
              "    }\n",
              "  </style>\n",
              "\n",
              "    <script>\n",
              "      const buttonEl =\n",
              "        document.querySelector('#df-8f2e1605-7539-4a77-aa2d-0b55084f64b7 button.colab-df-convert');\n",
              "      buttonEl.style.display =\n",
              "        google.colab.kernel.accessAllowed ? 'block' : 'none';\n",
              "\n",
              "      async function convertToInteractive(key) {\n",
              "        const element = document.querySelector('#df-8f2e1605-7539-4a77-aa2d-0b55084f64b7');\n",
              "        const dataTable =\n",
              "          await google.colab.kernel.invokeFunction('convertToInteractive',\n",
              "                                                    [key], {});\n",
              "        if (!dataTable) return;\n",
              "\n",
              "        const docLinkHtml = 'Like what you see? Visit the ' +\n",
              "          '<a target=\"_blank\" href=https://colab.research.google.com/notebooks/data_table.ipynb>data table notebook</a>'\n",
              "          + ' to learn more about interactive tables.';\n",
              "        element.innerHTML = '';\n",
              "        dataTable['output_type'] = 'display_data';\n",
              "        await google.colab.output.renderOutput(dataTable, element);\n",
              "        const docLink = document.createElement('div');\n",
              "        docLink.innerHTML = docLinkHtml;\n",
              "        element.appendChild(docLink);\n",
              "      }\n",
              "    </script>\n",
              "  </div>\n",
              "\n",
              "\n",
              "<div id=\"df-32c33fa0-58a5-4a73-bcff-40284366b74b\">\n",
              "  <button class=\"colab-df-quickchart\" onclick=\"quickchart('df-32c33fa0-58a5-4a73-bcff-40284366b74b')\"\n",
              "            title=\"Suggest charts\"\n",
              "            style=\"display:none;\">\n",
              "\n",
              "<svg xmlns=\"http://www.w3.org/2000/svg\" height=\"24px\"viewBox=\"0 0 24 24\"\n",
              "     width=\"24px\">\n",
              "    <g>\n",
              "        <path d=\"M19 3H5c-1.1 0-2 .9-2 2v14c0 1.1.9 2 2 2h14c1.1 0 2-.9 2-2V5c0-1.1-.9-2-2-2zM9 17H7v-7h2v7zm4 0h-2V7h2v10zm4 0h-2v-4h2v4z\"/>\n",
              "    </g>\n",
              "</svg>\n",
              "  </button>\n",
              "\n",
              "<style>\n",
              "  .colab-df-quickchart {\n",
              "      --bg-color: #E8F0FE;\n",
              "      --fill-color: #1967D2;\n",
              "      --hover-bg-color: #E2EBFA;\n",
              "      --hover-fill-color: #174EA6;\n",
              "      --disabled-fill-color: #AAA;\n",
              "      --disabled-bg-color: #DDD;\n",
              "  }\n",
              "\n",
              "  [theme=dark] .colab-df-quickchart {\n",
              "      --bg-color: #3B4455;\n",
              "      --fill-color: #D2E3FC;\n",
              "      --hover-bg-color: #434B5C;\n",
              "      --hover-fill-color: #FFFFFF;\n",
              "      --disabled-bg-color: #3B4455;\n",
              "      --disabled-fill-color: #666;\n",
              "  }\n",
              "\n",
              "  .colab-df-quickchart {\n",
              "    background-color: var(--bg-color);\n",
              "    border: none;\n",
              "    border-radius: 50%;\n",
              "    cursor: pointer;\n",
              "    display: none;\n",
              "    fill: var(--fill-color);\n",
              "    height: 32px;\n",
              "    padding: 0;\n",
              "    width: 32px;\n",
              "  }\n",
              "\n",
              "  .colab-df-quickchart:hover {\n",
              "    background-color: var(--hover-bg-color);\n",
              "    box-shadow: 0 1px 2px rgba(60, 64, 67, 0.3), 0 1px 3px 1px rgba(60, 64, 67, 0.15);\n",
              "    fill: var(--button-hover-fill-color);\n",
              "  }\n",
              "\n",
              "  .colab-df-quickchart-complete:disabled,\n",
              "  .colab-df-quickchart-complete:disabled:hover {\n",
              "    background-color: var(--disabled-bg-color);\n",
              "    fill: var(--disabled-fill-color);\n",
              "    box-shadow: none;\n",
              "  }\n",
              "\n",
              "  .colab-df-spinner {\n",
              "    border: 2px solid var(--fill-color);\n",
              "    border-color: transparent;\n",
              "    border-bottom-color: var(--fill-color);\n",
              "    animation:\n",
              "      spin 1s steps(1) infinite;\n",
              "  }\n",
              "\n",
              "  @keyframes spin {\n",
              "    0% {\n",
              "      border-color: transparent;\n",
              "      border-bottom-color: var(--fill-color);\n",
              "      border-left-color: var(--fill-color);\n",
              "    }\n",
              "    20% {\n",
              "      border-color: transparent;\n",
              "      border-left-color: var(--fill-color);\n",
              "      border-top-color: var(--fill-color);\n",
              "    }\n",
              "    30% {\n",
              "      border-color: transparent;\n",
              "      border-left-color: var(--fill-color);\n",
              "      border-top-color: var(--fill-color);\n",
              "      border-right-color: var(--fill-color);\n",
              "    }\n",
              "    40% {\n",
              "      border-color: transparent;\n",
              "      border-right-color: var(--fill-color);\n",
              "      border-top-color: var(--fill-color);\n",
              "    }\n",
              "    60% {\n",
              "      border-color: transparent;\n",
              "      border-right-color: var(--fill-color);\n",
              "    }\n",
              "    80% {\n",
              "      border-color: transparent;\n",
              "      border-right-color: var(--fill-color);\n",
              "      border-bottom-color: var(--fill-color);\n",
              "    }\n",
              "    90% {\n",
              "      border-color: transparent;\n",
              "      border-bottom-color: var(--fill-color);\n",
              "    }\n",
              "  }\n",
              "</style>\n",
              "\n",
              "  <script>\n",
              "    async function quickchart(key) {\n",
              "      const quickchartButtonEl =\n",
              "        document.querySelector('#' + key + ' button');\n",
              "      quickchartButtonEl.disabled = true;  // To prevent multiple clicks.\n",
              "      quickchartButtonEl.classList.add('colab-df-spinner');\n",
              "      try {\n",
              "        const charts = await google.colab.kernel.invokeFunction(\n",
              "            'suggestCharts', [key], {});\n",
              "      } catch (error) {\n",
              "        console.error('Error during call to suggestCharts:', error);\n",
              "      }\n",
              "      quickchartButtonEl.classList.remove('colab-df-spinner');\n",
              "      quickchartButtonEl.classList.add('colab-df-quickchart-complete');\n",
              "    }\n",
              "    (() => {\n",
              "      let quickchartButtonEl =\n",
              "        document.querySelector('#df-32c33fa0-58a5-4a73-bcff-40284366b74b button');\n",
              "      quickchartButtonEl.style.display =\n",
              "        google.colab.kernel.accessAllowed ? 'block' : 'none';\n",
              "    })();\n",
              "  </script>\n",
              "</div>\n",
              "\n",
              "    </div>\n",
              "  </div>\n"
            ],
            "application/vnd.google.colaboratory.intrinsic+json": {
              "type": "dataframe"
            }
          },
          "metadata": {},
          "execution_count": 97
        }
      ]
    },
    {
      "cell_type": "code",
      "execution_count": 98,
      "id": "wy1yksJBKBi6",
      "metadata": {
        "colab": {
          "base_uri": "https://localhost:8080/"
        },
        "id": "wy1yksJBKBi6",
        "outputId": "e4b8ddb0-580d-4de4-8728-46fba76190dd"
      },
      "outputs": [
        {
          "output_type": "execute_result",
          "data": {
            "text/plain": [
              "0         1.00\n",
              "1         1.00\n",
              "2         1.00\n",
              "3         1.00\n",
              "4         2.00\n",
              "          ... \n",
              "3595929   3.00\n",
              "3595930   3.00\n",
              "3595931   1.00\n",
              "3595932   1.00\n",
              "3595933   3.00\n",
              "Name: simple_pitch_type_enc, Length: 3311559, dtype: float64"
            ]
          },
          "metadata": {},
          "execution_count": 98
        }
      ],
      "source": [
        "input_df['zone'].astype(float)\n",
        "input_df['simple_pitch_type_enc'].astype(float)"
      ]
    },
    {
      "cell_type": "markdown",
      "source": [
        "We can phase the data cleaning over here. We will save the final dataframe to google drive to save time for further sessions."
      ],
      "metadata": {
        "id": "zKKxeJ9dIbFR"
      },
      "id": "zKKxeJ9dIbFR"
    },
    {
      "cell_type": "code",
      "execution_count": 99,
      "id": "2p5UyBi0OnEu",
      "metadata": {
        "id": "2p5UyBi0OnEu"
      },
      "outputs": [],
      "source": [
        "#input_df.to_csv('/mnt/drive/MyDrive/capstone_data/input_df.csv', index=True)"
      ]
    },
    {
      "cell_type": "markdown",
      "id": "DRBHj4jD1JU3",
      "metadata": {
        "id": "DRBHj4jD1JU3"
      },
      "source": [
        "## Trial Model on One Pitcher"
      ]
    },
    {
      "cell_type": "markdown",
      "id": "Awc8ske01Xy9",
      "metadata": {
        "id": "Awc8ske01Xy9"
      },
      "source": [
        "Due to the size of the dataset, I will build the model with the pitcher throwing most pitches during the time span first. Then I will load the entire dataset to the model in a similar structure."
      ]
    },
    {
      "cell_type": "markdown",
      "id": "T5YXX7b_bX8S",
      "metadata": {
        "id": "T5YXX7b_bX8S"
      },
      "source": [
        "Here we will read the final dataframe 'input_df' directly to save time."
      ]
    },
    {
      "cell_type": "code",
      "execution_count": 162,
      "id": "YiI_7n7Pbeh5",
      "metadata": {
        "id": "YiI_7n7Pbeh5",
        "colab": {
          "base_uri": "https://localhost:8080/"
        },
        "outputId": "75a54115-7704-4306-9194-b958b5dc43dc"
      },
      "outputs": [
        {
          "output_type": "stream",
          "name": "stderr",
          "text": [
            "<ipython-input-162-786a43ec4f64>:1: DtypeWarning: Columns (22) have mixed types. Specify dtype option on import or set low_memory=False.\n",
            "  input_df = pd.read_csv('/mnt/drive/MyDrive/capstone_data/input_df.csv')\n"
          ]
        }
      ],
      "source": [
        "input_df = pd.read_csv('/mnt/drive/MyDrive/capstone_data/input_df.csv')"
      ]
    },
    {
      "cell_type": "markdown",
      "id": "XUGjiBtA1rlc",
      "metadata": {
        "id": "XUGjiBtA1rlc"
      },
      "source": [
        "### Finding the Most Hardworking Pitcher"
      ]
    },
    {
      "cell_type": "code",
      "execution_count": 163,
      "id": "Thhwngc51IAa",
      "metadata": {
        "colab": {
          "base_uri": "https://localhost:8080/"
        },
        "id": "Thhwngc51IAa",
        "outputId": "b862d0ac-1d60-4ab4-f85f-afb3e60cd26e"
      },
      "outputs": [
        {
          "output_type": "execute_result",
          "data": {
            "text/plain": [
              "pitcher_id\n",
              "434378    15302\n",
              "545333    14565\n",
              "500779    14562\n",
              "519144    14444\n",
              "453286    14423\n",
              "          ...  \n",
              "545358        5\n",
              "640447        3\n",
              "506560        3\n",
              "456121        2\n",
              "519203        2\n",
              "Name: count, Length: 1511, dtype: int64"
            ]
          },
          "metadata": {},
          "execution_count": 163
        }
      ],
      "source": [
        "input_df['pitcher_id'].value_counts()"
      ]
    },
    {
      "cell_type": "markdown",
      "id": "gLwlaByN1nmB",
      "metadata": {
        "id": "gLwlaByN1nmB"
      },
      "source": [
        "We will study the famous Justin Valender, the 3 time Cy Young award winner as our test pitcher."
      ]
    },
    {
      "cell_type": "code",
      "execution_count": 164,
      "id": "dRsnDgky13Ov",
      "metadata": {
        "id": "dRsnDgky13Ov"
      },
      "outputs": [],
      "source": [
        "test_pitcher_df = input_df[input_df['pitcher_id'].isin([434378])]"
      ]
    },
    {
      "cell_type": "code",
      "execution_count": 165,
      "id": "X4vDjpisDNGT",
      "metadata": {
        "colab": {
          "base_uri": "https://localhost:8080/",
          "height": 461
        },
        "id": "X4vDjpisDNGT",
        "outputId": "c27f89b4-48f5-4015-ec92-9ed5561d6b75"
      },
      "outputs": [
        {
          "output_type": "execute_result",
          "data": {
            "text/plain": [
              "         Unnamed: 0  start_speed  end_speed  sz_bot  sz_top  zone  b_score  \\\n",
              "127681       262214        92.10      84.70    1.46    3.27  4.00     0.00   \n",
              "127682       262215        92.00      84.60    1.46    3.27 13.00     0.00   \n",
              "127683       262216        84.70      78.70    1.46    3.27  8.00     0.00   \n",
              "127684       262217        92.50      85.80    1.57    3.45 11.00     0.00   \n",
              "127685       262218        92.80      85.50    1.57    3.45 11.00     0.00   \n",
              "...             ...          ...        ...     ...     ...   ...      ...   \n",
              "3310562     3593520        94.60      85.40    1.49    3.06 11.00     3.00   \n",
              "3310563     3593521        80.40      74.10    1.50    2.99 14.00     3.00   \n",
              "3310564     3593522        94.80      85.50    1.49    3.06 12.00     3.00   \n",
              "3310565     3593523        94.00      85.70    1.67    3.50 13.00     3.00   \n",
              "3310566     3593524        86.90      80.80    1.65    3.45 14.00     3.00   \n",
              "\n",
              "                ab_id  b_count  s_count  ...  simple_ab_event_Slug  \\\n",
              "127681  2015069222.00     0.00     0.00  ...                  0.00   \n",
              "127682  2015069222.00     0.00     1.00  ...                  0.00   \n",
              "127683  2015069222.00     1.00     1.00  ...                  0.00   \n",
              "127684  2015069223.00     0.00     0.00  ...                  0.00   \n",
              "127685  2015069223.00     1.00     0.00  ...                  0.00   \n",
              "...               ...      ...      ...  ...                   ...   \n",
              "3310562 2019184635.00     0.00     0.00  ...                  0.00   \n",
              "3310563 2019184635.00     0.00     1.00  ...                  0.00   \n",
              "3310564 2019184635.00     1.00     1.00  ...                  0.00   \n",
              "3310565 2019184636.00     0.00     0.00  ...                  0.00   \n",
              "3310566 2019184636.00     0.00     0.00  ...                  0.00   \n",
              "\n",
              "         simple_weather_clear  simple_weather_cloudy  simple_weather_dome  \\\n",
              "127681                   0.00                   1.00                 0.00   \n",
              "127682                   0.00                   1.00                 0.00   \n",
              "127683                   0.00                   1.00                 0.00   \n",
              "127684                   0.00                   1.00                 0.00   \n",
              "127685                   0.00                   1.00                 0.00   \n",
              "...                       ...                    ...                  ...   \n",
              "3310562                  0.00                   1.00                 0.00   \n",
              "3310563                  0.00                   1.00                 0.00   \n",
              "3310564                  0.00                   1.00                 0.00   \n",
              "3310565                  0.00                   1.00                 0.00   \n",
              "3310566                  0.00                   1.00                 0.00   \n",
              "\n",
              "         simple_weather_drizzle  simple_weather_overcast  simple_weather_rain  \\\n",
              "127681                     0.00                     0.00                 0.00   \n",
              "127682                     0.00                     0.00                 0.00   \n",
              "127683                     0.00                     0.00                 0.00   \n",
              "127684                     0.00                     0.00                 0.00   \n",
              "127685                     0.00                     0.00                 0.00   \n",
              "...                         ...                      ...                  ...   \n",
              "3310562                    0.00                     0.00                 0.00   \n",
              "3310563                    0.00                     0.00                 0.00   \n",
              "3310564                    0.00                     0.00                 0.00   \n",
              "3310565                    0.00                     0.00                 0.00   \n",
              "3310566                    0.00                     0.00                 0.00   \n",
              "\n",
              "         simple_weather_snow  simple_weather_sunny  simple_pitch_type_enc  \n",
              "127681                  0.00                  0.00                      1  \n",
              "127682                  0.00                  0.00                      1  \n",
              "127683                  0.00                  0.00                      3  \n",
              "127684                  0.00                  0.00                      1  \n",
              "127685                  0.00                  0.00                      1  \n",
              "...                      ...                   ...                    ...  \n",
              "3310562                 0.00                  0.00                      1  \n",
              "3310563                 0.00                  0.00                      2  \n",
              "3310564                 0.00                  0.00                      1  \n",
              "3310565                 0.00                  0.00                      1  \n",
              "3310566                 0.00                  0.00                      2  \n",
              "\n",
              "[15302 rows x 65 columns]"
            ],
            "text/html": [
              "\n",
              "  <div id=\"df-b59ea4f8-2f42-42f1-8d6a-d8779f8e2e86\" class=\"colab-df-container\">\n",
              "    <div>\n",
              "<style scoped>\n",
              "    .dataframe tbody tr th:only-of-type {\n",
              "        vertical-align: middle;\n",
              "    }\n",
              "\n",
              "    .dataframe tbody tr th {\n",
              "        vertical-align: top;\n",
              "    }\n",
              "\n",
              "    .dataframe thead th {\n",
              "        text-align: right;\n",
              "    }\n",
              "</style>\n",
              "<table border=\"1\" class=\"dataframe\">\n",
              "  <thead>\n",
              "    <tr style=\"text-align: right;\">\n",
              "      <th></th>\n",
              "      <th>Unnamed: 0</th>\n",
              "      <th>start_speed</th>\n",
              "      <th>end_speed</th>\n",
              "      <th>sz_bot</th>\n",
              "      <th>sz_top</th>\n",
              "      <th>zone</th>\n",
              "      <th>b_score</th>\n",
              "      <th>ab_id</th>\n",
              "      <th>b_count</th>\n",
              "      <th>s_count</th>\n",
              "      <th>...</th>\n",
              "      <th>simple_ab_event_Slug</th>\n",
              "      <th>simple_weather_clear</th>\n",
              "      <th>simple_weather_cloudy</th>\n",
              "      <th>simple_weather_dome</th>\n",
              "      <th>simple_weather_drizzle</th>\n",
              "      <th>simple_weather_overcast</th>\n",
              "      <th>simple_weather_rain</th>\n",
              "      <th>simple_weather_snow</th>\n",
              "      <th>simple_weather_sunny</th>\n",
              "      <th>simple_pitch_type_enc</th>\n",
              "    </tr>\n",
              "  </thead>\n",
              "  <tbody>\n",
              "    <tr>\n",
              "      <th>127681</th>\n",
              "      <td>262214</td>\n",
              "      <td>92.10</td>\n",
              "      <td>84.70</td>\n",
              "      <td>1.46</td>\n",
              "      <td>3.27</td>\n",
              "      <td>4.00</td>\n",
              "      <td>0.00</td>\n",
              "      <td>2015069222.00</td>\n",
              "      <td>0.00</td>\n",
              "      <td>0.00</td>\n",
              "      <td>...</td>\n",
              "      <td>0.00</td>\n",
              "      <td>0.00</td>\n",
              "      <td>1.00</td>\n",
              "      <td>0.00</td>\n",
              "      <td>0.00</td>\n",
              "      <td>0.00</td>\n",
              "      <td>0.00</td>\n",
              "      <td>0.00</td>\n",
              "      <td>0.00</td>\n",
              "      <td>1</td>\n",
              "    </tr>\n",
              "    <tr>\n",
              "      <th>127682</th>\n",
              "      <td>262215</td>\n",
              "      <td>92.00</td>\n",
              "      <td>84.60</td>\n",
              "      <td>1.46</td>\n",
              "      <td>3.27</td>\n",
              "      <td>13.00</td>\n",
              "      <td>0.00</td>\n",
              "      <td>2015069222.00</td>\n",
              "      <td>0.00</td>\n",
              "      <td>1.00</td>\n",
              "      <td>...</td>\n",
              "      <td>0.00</td>\n",
              "      <td>0.00</td>\n",
              "      <td>1.00</td>\n",
              "      <td>0.00</td>\n",
              "      <td>0.00</td>\n",
              "      <td>0.00</td>\n",
              "      <td>0.00</td>\n",
              "      <td>0.00</td>\n",
              "      <td>0.00</td>\n",
              "      <td>1</td>\n",
              "    </tr>\n",
              "    <tr>\n",
              "      <th>127683</th>\n",
              "      <td>262216</td>\n",
              "      <td>84.70</td>\n",
              "      <td>78.70</td>\n",
              "      <td>1.46</td>\n",
              "      <td>3.27</td>\n",
              "      <td>8.00</td>\n",
              "      <td>0.00</td>\n",
              "      <td>2015069222.00</td>\n",
              "      <td>1.00</td>\n",
              "      <td>1.00</td>\n",
              "      <td>...</td>\n",
              "      <td>0.00</td>\n",
              "      <td>0.00</td>\n",
              "      <td>1.00</td>\n",
              "      <td>0.00</td>\n",
              "      <td>0.00</td>\n",
              "      <td>0.00</td>\n",
              "      <td>0.00</td>\n",
              "      <td>0.00</td>\n",
              "      <td>0.00</td>\n",
              "      <td>3</td>\n",
              "    </tr>\n",
              "    <tr>\n",
              "      <th>127684</th>\n",
              "      <td>262217</td>\n",
              "      <td>92.50</td>\n",
              "      <td>85.80</td>\n",
              "      <td>1.57</td>\n",
              "      <td>3.45</td>\n",
              "      <td>11.00</td>\n",
              "      <td>0.00</td>\n",
              "      <td>2015069223.00</td>\n",
              "      <td>0.00</td>\n",
              "      <td>0.00</td>\n",
              "      <td>...</td>\n",
              "      <td>0.00</td>\n",
              "      <td>0.00</td>\n",
              "      <td>1.00</td>\n",
              "      <td>0.00</td>\n",
              "      <td>0.00</td>\n",
              "      <td>0.00</td>\n",
              "      <td>0.00</td>\n",
              "      <td>0.00</td>\n",
              "      <td>0.00</td>\n",
              "      <td>1</td>\n",
              "    </tr>\n",
              "    <tr>\n",
              "      <th>127685</th>\n",
              "      <td>262218</td>\n",
              "      <td>92.80</td>\n",
              "      <td>85.50</td>\n",
              "      <td>1.57</td>\n",
              "      <td>3.45</td>\n",
              "      <td>11.00</td>\n",
              "      <td>0.00</td>\n",
              "      <td>2015069223.00</td>\n",
              "      <td>1.00</td>\n",
              "      <td>0.00</td>\n",
              "      <td>...</td>\n",
              "      <td>0.00</td>\n",
              "      <td>0.00</td>\n",
              "      <td>1.00</td>\n",
              "      <td>0.00</td>\n",
              "      <td>0.00</td>\n",
              "      <td>0.00</td>\n",
              "      <td>0.00</td>\n",
              "      <td>0.00</td>\n",
              "      <td>0.00</td>\n",
              "      <td>1</td>\n",
              "    </tr>\n",
              "    <tr>\n",
              "      <th>...</th>\n",
              "      <td>...</td>\n",
              "      <td>...</td>\n",
              "      <td>...</td>\n",
              "      <td>...</td>\n",
              "      <td>...</td>\n",
              "      <td>...</td>\n",
              "      <td>...</td>\n",
              "      <td>...</td>\n",
              "      <td>...</td>\n",
              "      <td>...</td>\n",
              "      <td>...</td>\n",
              "      <td>...</td>\n",
              "      <td>...</td>\n",
              "      <td>...</td>\n",
              "      <td>...</td>\n",
              "      <td>...</td>\n",
              "      <td>...</td>\n",
              "      <td>...</td>\n",
              "      <td>...</td>\n",
              "      <td>...</td>\n",
              "      <td>...</td>\n",
              "    </tr>\n",
              "    <tr>\n",
              "      <th>3310562</th>\n",
              "      <td>3593520</td>\n",
              "      <td>94.60</td>\n",
              "      <td>85.40</td>\n",
              "      <td>1.49</td>\n",
              "      <td>3.06</td>\n",
              "      <td>11.00</td>\n",
              "      <td>3.00</td>\n",
              "      <td>2019184635.00</td>\n",
              "      <td>0.00</td>\n",
              "      <td>0.00</td>\n",
              "      <td>...</td>\n",
              "      <td>0.00</td>\n",
              "      <td>0.00</td>\n",
              "      <td>1.00</td>\n",
              "      <td>0.00</td>\n",
              "      <td>0.00</td>\n",
              "      <td>0.00</td>\n",
              "      <td>0.00</td>\n",
              "      <td>0.00</td>\n",
              "      <td>0.00</td>\n",
              "      <td>1</td>\n",
              "    </tr>\n",
              "    <tr>\n",
              "      <th>3310563</th>\n",
              "      <td>3593521</td>\n",
              "      <td>80.40</td>\n",
              "      <td>74.10</td>\n",
              "      <td>1.50</td>\n",
              "      <td>2.99</td>\n",
              "      <td>14.00</td>\n",
              "      <td>3.00</td>\n",
              "      <td>2019184635.00</td>\n",
              "      <td>0.00</td>\n",
              "      <td>1.00</td>\n",
              "      <td>...</td>\n",
              "      <td>0.00</td>\n",
              "      <td>0.00</td>\n",
              "      <td>1.00</td>\n",
              "      <td>0.00</td>\n",
              "      <td>0.00</td>\n",
              "      <td>0.00</td>\n",
              "      <td>0.00</td>\n",
              "      <td>0.00</td>\n",
              "      <td>0.00</td>\n",
              "      <td>2</td>\n",
              "    </tr>\n",
              "    <tr>\n",
              "      <th>3310564</th>\n",
              "      <td>3593522</td>\n",
              "      <td>94.80</td>\n",
              "      <td>85.50</td>\n",
              "      <td>1.49</td>\n",
              "      <td>3.06</td>\n",
              "      <td>12.00</td>\n",
              "      <td>3.00</td>\n",
              "      <td>2019184635.00</td>\n",
              "      <td>1.00</td>\n",
              "      <td>1.00</td>\n",
              "      <td>...</td>\n",
              "      <td>0.00</td>\n",
              "      <td>0.00</td>\n",
              "      <td>1.00</td>\n",
              "      <td>0.00</td>\n",
              "      <td>0.00</td>\n",
              "      <td>0.00</td>\n",
              "      <td>0.00</td>\n",
              "      <td>0.00</td>\n",
              "      <td>0.00</td>\n",
              "      <td>1</td>\n",
              "    </tr>\n",
              "    <tr>\n",
              "      <th>3310565</th>\n",
              "      <td>3593523</td>\n",
              "      <td>94.00</td>\n",
              "      <td>85.70</td>\n",
              "      <td>1.67</td>\n",
              "      <td>3.50</td>\n",
              "      <td>13.00</td>\n",
              "      <td>3.00</td>\n",
              "      <td>2019184636.00</td>\n",
              "      <td>0.00</td>\n",
              "      <td>0.00</td>\n",
              "      <td>...</td>\n",
              "      <td>0.00</td>\n",
              "      <td>0.00</td>\n",
              "      <td>1.00</td>\n",
              "      <td>0.00</td>\n",
              "      <td>0.00</td>\n",
              "      <td>0.00</td>\n",
              "      <td>0.00</td>\n",
              "      <td>0.00</td>\n",
              "      <td>0.00</td>\n",
              "      <td>1</td>\n",
              "    </tr>\n",
              "    <tr>\n",
              "      <th>3310566</th>\n",
              "      <td>3593524</td>\n",
              "      <td>86.90</td>\n",
              "      <td>80.80</td>\n",
              "      <td>1.65</td>\n",
              "      <td>3.45</td>\n",
              "      <td>14.00</td>\n",
              "      <td>3.00</td>\n",
              "      <td>2019184636.00</td>\n",
              "      <td>0.00</td>\n",
              "      <td>0.00</td>\n",
              "      <td>...</td>\n",
              "      <td>0.00</td>\n",
              "      <td>0.00</td>\n",
              "      <td>1.00</td>\n",
              "      <td>0.00</td>\n",
              "      <td>0.00</td>\n",
              "      <td>0.00</td>\n",
              "      <td>0.00</td>\n",
              "      <td>0.00</td>\n",
              "      <td>0.00</td>\n",
              "      <td>2</td>\n",
              "    </tr>\n",
              "  </tbody>\n",
              "</table>\n",
              "<p>15302 rows × 65 columns</p>\n",
              "</div>\n",
              "    <div class=\"colab-df-buttons\">\n",
              "\n",
              "  <div class=\"colab-df-container\">\n",
              "    <button class=\"colab-df-convert\" onclick=\"convertToInteractive('df-b59ea4f8-2f42-42f1-8d6a-d8779f8e2e86')\"\n",
              "            title=\"Convert this dataframe to an interactive table.\"\n",
              "            style=\"display:none;\">\n",
              "\n",
              "  <svg xmlns=\"http://www.w3.org/2000/svg\" height=\"24px\" viewBox=\"0 -960 960 960\">\n",
              "    <path d=\"M120-120v-720h720v720H120Zm60-500h600v-160H180v160Zm220 220h160v-160H400v160Zm0 220h160v-160H400v160ZM180-400h160v-160H180v160Zm440 0h160v-160H620v160ZM180-180h160v-160H180v160Zm440 0h160v-160H620v160Z\"/>\n",
              "  </svg>\n",
              "    </button>\n",
              "\n",
              "  <style>\n",
              "    .colab-df-container {\n",
              "      display:flex;\n",
              "      gap: 12px;\n",
              "    }\n",
              "\n",
              "    .colab-df-convert {\n",
              "      background-color: #E8F0FE;\n",
              "      border: none;\n",
              "      border-radius: 50%;\n",
              "      cursor: pointer;\n",
              "      display: none;\n",
              "      fill: #1967D2;\n",
              "      height: 32px;\n",
              "      padding: 0 0 0 0;\n",
              "      width: 32px;\n",
              "    }\n",
              "\n",
              "    .colab-df-convert:hover {\n",
              "      background-color: #E2EBFA;\n",
              "      box-shadow: 0px 1px 2px rgba(60, 64, 67, 0.3), 0px 1px 3px 1px rgba(60, 64, 67, 0.15);\n",
              "      fill: #174EA6;\n",
              "    }\n",
              "\n",
              "    .colab-df-buttons div {\n",
              "      margin-bottom: 4px;\n",
              "    }\n",
              "\n",
              "    [theme=dark] .colab-df-convert {\n",
              "      background-color: #3B4455;\n",
              "      fill: #D2E3FC;\n",
              "    }\n",
              "\n",
              "    [theme=dark] .colab-df-convert:hover {\n",
              "      background-color: #434B5C;\n",
              "      box-shadow: 0px 1px 3px 1px rgba(0, 0, 0, 0.15);\n",
              "      filter: drop-shadow(0px 1px 2px rgba(0, 0, 0, 0.3));\n",
              "      fill: #FFFFFF;\n",
              "    }\n",
              "  </style>\n",
              "\n",
              "    <script>\n",
              "      const buttonEl =\n",
              "        document.querySelector('#df-b59ea4f8-2f42-42f1-8d6a-d8779f8e2e86 button.colab-df-convert');\n",
              "      buttonEl.style.display =\n",
              "        google.colab.kernel.accessAllowed ? 'block' : 'none';\n",
              "\n",
              "      async function convertToInteractive(key) {\n",
              "        const element = document.querySelector('#df-b59ea4f8-2f42-42f1-8d6a-d8779f8e2e86');\n",
              "        const dataTable =\n",
              "          await google.colab.kernel.invokeFunction('convertToInteractive',\n",
              "                                                    [key], {});\n",
              "        if (!dataTable) return;\n",
              "\n",
              "        const docLinkHtml = 'Like what you see? Visit the ' +\n",
              "          '<a target=\"_blank\" href=https://colab.research.google.com/notebooks/data_table.ipynb>data table notebook</a>'\n",
              "          + ' to learn more about interactive tables.';\n",
              "        element.innerHTML = '';\n",
              "        dataTable['output_type'] = 'display_data';\n",
              "        await google.colab.output.renderOutput(dataTable, element);\n",
              "        const docLink = document.createElement('div');\n",
              "        docLink.innerHTML = docLinkHtml;\n",
              "        element.appendChild(docLink);\n",
              "      }\n",
              "    </script>\n",
              "  </div>\n",
              "\n",
              "\n",
              "<div id=\"df-3f69aba3-ab67-4157-b6dd-5766a43e6d11\">\n",
              "  <button class=\"colab-df-quickchart\" onclick=\"quickchart('df-3f69aba3-ab67-4157-b6dd-5766a43e6d11')\"\n",
              "            title=\"Suggest charts\"\n",
              "            style=\"display:none;\">\n",
              "\n",
              "<svg xmlns=\"http://www.w3.org/2000/svg\" height=\"24px\"viewBox=\"0 0 24 24\"\n",
              "     width=\"24px\">\n",
              "    <g>\n",
              "        <path d=\"M19 3H5c-1.1 0-2 .9-2 2v14c0 1.1.9 2 2 2h14c1.1 0 2-.9 2-2V5c0-1.1-.9-2-2-2zM9 17H7v-7h2v7zm4 0h-2V7h2v10zm4 0h-2v-4h2v4z\"/>\n",
              "    </g>\n",
              "</svg>\n",
              "  </button>\n",
              "\n",
              "<style>\n",
              "  .colab-df-quickchart {\n",
              "      --bg-color: #E8F0FE;\n",
              "      --fill-color: #1967D2;\n",
              "      --hover-bg-color: #E2EBFA;\n",
              "      --hover-fill-color: #174EA6;\n",
              "      --disabled-fill-color: #AAA;\n",
              "      --disabled-bg-color: #DDD;\n",
              "  }\n",
              "\n",
              "  [theme=dark] .colab-df-quickchart {\n",
              "      --bg-color: #3B4455;\n",
              "      --fill-color: #D2E3FC;\n",
              "      --hover-bg-color: #434B5C;\n",
              "      --hover-fill-color: #FFFFFF;\n",
              "      --disabled-bg-color: #3B4455;\n",
              "      --disabled-fill-color: #666;\n",
              "  }\n",
              "\n",
              "  .colab-df-quickchart {\n",
              "    background-color: var(--bg-color);\n",
              "    border: none;\n",
              "    border-radius: 50%;\n",
              "    cursor: pointer;\n",
              "    display: none;\n",
              "    fill: var(--fill-color);\n",
              "    height: 32px;\n",
              "    padding: 0;\n",
              "    width: 32px;\n",
              "  }\n",
              "\n",
              "  .colab-df-quickchart:hover {\n",
              "    background-color: var(--hover-bg-color);\n",
              "    box-shadow: 0 1px 2px rgba(60, 64, 67, 0.3), 0 1px 3px 1px rgba(60, 64, 67, 0.15);\n",
              "    fill: var(--button-hover-fill-color);\n",
              "  }\n",
              "\n",
              "  .colab-df-quickchart-complete:disabled,\n",
              "  .colab-df-quickchart-complete:disabled:hover {\n",
              "    background-color: var(--disabled-bg-color);\n",
              "    fill: var(--disabled-fill-color);\n",
              "    box-shadow: none;\n",
              "  }\n",
              "\n",
              "  .colab-df-spinner {\n",
              "    border: 2px solid var(--fill-color);\n",
              "    border-color: transparent;\n",
              "    border-bottom-color: var(--fill-color);\n",
              "    animation:\n",
              "      spin 1s steps(1) infinite;\n",
              "  }\n",
              "\n",
              "  @keyframes spin {\n",
              "    0% {\n",
              "      border-color: transparent;\n",
              "      border-bottom-color: var(--fill-color);\n",
              "      border-left-color: var(--fill-color);\n",
              "    }\n",
              "    20% {\n",
              "      border-color: transparent;\n",
              "      border-left-color: var(--fill-color);\n",
              "      border-top-color: var(--fill-color);\n",
              "    }\n",
              "    30% {\n",
              "      border-color: transparent;\n",
              "      border-left-color: var(--fill-color);\n",
              "      border-top-color: var(--fill-color);\n",
              "      border-right-color: var(--fill-color);\n",
              "    }\n",
              "    40% {\n",
              "      border-color: transparent;\n",
              "      border-right-color: var(--fill-color);\n",
              "      border-top-color: var(--fill-color);\n",
              "    }\n",
              "    60% {\n",
              "      border-color: transparent;\n",
              "      border-right-color: var(--fill-color);\n",
              "    }\n",
              "    80% {\n",
              "      border-color: transparent;\n",
              "      border-right-color: var(--fill-color);\n",
              "      border-bottom-color: var(--fill-color);\n",
              "    }\n",
              "    90% {\n",
              "      border-color: transparent;\n",
              "      border-bottom-color: var(--fill-color);\n",
              "    }\n",
              "  }\n",
              "</style>\n",
              "\n",
              "  <script>\n",
              "    async function quickchart(key) {\n",
              "      const quickchartButtonEl =\n",
              "        document.querySelector('#' + key + ' button');\n",
              "      quickchartButtonEl.disabled = true;  // To prevent multiple clicks.\n",
              "      quickchartButtonEl.classList.add('colab-df-spinner');\n",
              "      try {\n",
              "        const charts = await google.colab.kernel.invokeFunction(\n",
              "            'suggestCharts', [key], {});\n",
              "      } catch (error) {\n",
              "        console.error('Error during call to suggestCharts:', error);\n",
              "      }\n",
              "      quickchartButtonEl.classList.remove('colab-df-spinner');\n",
              "      quickchartButtonEl.classList.add('colab-df-quickchart-complete');\n",
              "    }\n",
              "    (() => {\n",
              "      let quickchartButtonEl =\n",
              "        document.querySelector('#df-3f69aba3-ab67-4157-b6dd-5766a43e6d11 button');\n",
              "      quickchartButtonEl.style.display =\n",
              "        google.colab.kernel.accessAllowed ? 'block' : 'none';\n",
              "    })();\n",
              "  </script>\n",
              "</div>\n",
              "\n",
              "  <div id=\"id_888edc18-610f-48b5-b70c-a2302a8769d3\">\n",
              "    <style>\n",
              "      .colab-df-generate {\n",
              "        background-color: #E8F0FE;\n",
              "        border: none;\n",
              "        border-radius: 50%;\n",
              "        cursor: pointer;\n",
              "        display: none;\n",
              "        fill: #1967D2;\n",
              "        height: 32px;\n",
              "        padding: 0 0 0 0;\n",
              "        width: 32px;\n",
              "      }\n",
              "\n",
              "      .colab-df-generate:hover {\n",
              "        background-color: #E2EBFA;\n",
              "        box-shadow: 0px 1px 2px rgba(60, 64, 67, 0.3), 0px 1px 3px 1px rgba(60, 64, 67, 0.15);\n",
              "        fill: #174EA6;\n",
              "      }\n",
              "\n",
              "      [theme=dark] .colab-df-generate {\n",
              "        background-color: #3B4455;\n",
              "        fill: #D2E3FC;\n",
              "      }\n",
              "\n",
              "      [theme=dark] .colab-df-generate:hover {\n",
              "        background-color: #434B5C;\n",
              "        box-shadow: 0px 1px 3px 1px rgba(0, 0, 0, 0.15);\n",
              "        filter: drop-shadow(0px 1px 2px rgba(0, 0, 0, 0.3));\n",
              "        fill: #FFFFFF;\n",
              "      }\n",
              "    </style>\n",
              "    <button class=\"colab-df-generate\" onclick=\"generateWithVariable('test_pitcher_df')\"\n",
              "            title=\"Generate code using this dataframe.\"\n",
              "            style=\"display:none;\">\n",
              "\n",
              "  <svg xmlns=\"http://www.w3.org/2000/svg\" height=\"24px\"viewBox=\"0 0 24 24\"\n",
              "       width=\"24px\">\n",
              "    <path d=\"M7,19H8.4L18.45,9,17,7.55,7,17.6ZM5,21V16.75L18.45,3.32a2,2,0,0,1,2.83,0l1.4,1.43a1.91,1.91,0,0,1,.58,1.4,1.91,1.91,0,0,1-.58,1.4L9.25,21ZM18.45,9,17,7.55Zm-12,3A5.31,5.31,0,0,0,4.9,8.1,5.31,5.31,0,0,0,1,6.5,5.31,5.31,0,0,0,4.9,4.9,5.31,5.31,0,0,0,6.5,1,5.31,5.31,0,0,0,8.1,4.9,5.31,5.31,0,0,0,12,6.5,5.46,5.46,0,0,0,6.5,12Z\"/>\n",
              "  </svg>\n",
              "    </button>\n",
              "    <script>\n",
              "      (() => {\n",
              "      const buttonEl =\n",
              "        document.querySelector('#id_888edc18-610f-48b5-b70c-a2302a8769d3 button.colab-df-generate');\n",
              "      buttonEl.style.display =\n",
              "        google.colab.kernel.accessAllowed ? 'block' : 'none';\n",
              "\n",
              "      buttonEl.onclick = () => {\n",
              "        google.colab.notebook.generateWithVariable('test_pitcher_df');\n",
              "      }\n",
              "      })();\n",
              "    </script>\n",
              "  </div>\n",
              "\n",
              "    </div>\n",
              "  </div>\n"
            ],
            "application/vnd.google.colaboratory.intrinsic+json": {
              "type": "dataframe",
              "variable_name": "test_pitcher_df"
            }
          },
          "metadata": {},
          "execution_count": 165
        }
      ],
      "source": [
        "test_pitcher_df"
      ]
    },
    {
      "cell_type": "markdown",
      "source": [
        "### Encoding Target Variables"
      ],
      "metadata": {
        "id": "E9nDxpn3Kt9W"
      },
      "id": "E9nDxpn3Kt9W"
    },
    {
      "cell_type": "markdown",
      "source": [
        "Becase we wil use softmax layer as out final output, we need to encode our target variable starting from 0 to match the output for accuracy analysis."
      ],
      "metadata": {
        "id": "BKGq_gMCS78H"
      },
      "id": "BKGq_gMCS78H"
    },
    {
      "cell_type": "code",
      "source": [
        "test_pitcher_df['simple_pitch_type_enc'].value_counts()"
      ],
      "metadata": {
        "colab": {
          "base_uri": "https://localhost:8080/"
        },
        "id": "eopdP3FASrWs",
        "outputId": "5f0ff34b-2e1f-4126-cfda-396bea0620e3"
      },
      "id": "eopdP3FASrWs",
      "execution_count": 166,
      "outputs": [
        {
          "output_type": "execute_result",
          "data": {
            "text/plain": [
              "simple_pitch_type_enc\n",
              "1    8754\n",
              "2    5719\n",
              "3     821\n",
              "4       8\n",
              "Name: count, dtype: int64"
            ]
          },
          "metadata": {},
          "execution_count": 166
        }
      ]
    },
    {
      "cell_type": "code",
      "source": [
        "pitch_counts = test_pitcher_df['simple_pitch_type_enc'].value_counts().sort_index()\n",
        "\n",
        "# Plotting the bar plot\n",
        "pitch_counts.plot(kind='bar', rot=0)\n",
        "\n",
        "# Adding labels and title\n",
        "plt.xlabel('Pitch Type')\n",
        "plt.ylabel('Frequency')\n",
        "plt.title('Frequency of Each Pitch Type')\n",
        "\n",
        "plt.show()"
      ],
      "metadata": {
        "colab": {
          "base_uri": "https://localhost:8080/",
          "height": 472
        },
        "id": "bkAMqco3rcTX",
        "outputId": "71ee19c4-b101-4e49-b11f-142baa43ac0d"
      },
      "id": "bkAMqco3rcTX",
      "execution_count": 167,
      "outputs": [
        {
          "output_type": "display_data",
          "data": {
            "text/plain": [
              "<Figure size 640x480 with 1 Axes>"
            ],
            "image/png": "[encoded data removed]"
          },
          "metadata": {}
        }
      ]
    },
    {
      "cell_type": "code",
      "source": [
        "test_pitcher_df['zone'].value_counts()"
      ],
      "metadata": {
        "colab": {
          "base_uri": "https://localhost:8080/"
        },
        "id": "jT7hCf7VSyXA",
        "outputId": "9e7b4ae9-7d90-4bd6-dfcf-e40bd3f87d26"
      },
      "id": "jT7hCf7VSyXA",
      "execution_count": 168,
      "outputs": [
        {
          "output_type": "execute_result",
          "data": {
            "text/plain": [
              "zone\n",
              "14.00    3857\n",
              "11.00    2693\n",
              "12.00    2334\n",
              "13.00    1392\n",
              "6.00      758\n",
              "5.00      725\n",
              "3.00      615\n",
              "2.00      600\n",
              "9.00      575\n",
              "4.00      499\n",
              "1.00      462\n",
              "8.00      459\n",
              "7.00      333\n",
              "Name: count, dtype: int64"
            ]
          },
          "metadata": {},
          "execution_count": 168
        }
      ]
    },
    {
      "cell_type": "code",
      "source": [
        "zone_counts = test_pitcher_df['zone'].value_counts().sort_index()\n",
        "\n",
        "# Plotting the bar plot\n",
        "zone_counts.plot(kind='bar', rot=0)\n",
        "\n",
        "# Adding labels and title\n",
        "plt.xlabel('Zone')\n",
        "plt.ylabel('Frequency')\n",
        "plt.title('Frequency of Each Zone')\n",
        "\n",
        "plt.show()"
      ],
      "metadata": {
        "colab": {
          "base_uri": "https://localhost:8080/",
          "height": 472
        },
        "id": "Kij57fcbrrj9",
        "outputId": "769fdd5a-289b-4a63-c3bb-a4e05cd2d2f7"
      },
      "id": "Kij57fcbrrj9",
      "execution_count": 169,
      "outputs": [
        {
          "output_type": "display_data",
          "data": {
            "text/plain": [
              "<Figure size 640x480 with 1 Axes>"
            ],
            "image/png": "[encoded data removed]"
          },
          "metadata": {}
        }
      ]
    },
    {
      "cell_type": "markdown",
      "source": [
        "We will build a dictionary for this.\n",
        "Note that there's no zone 10, so zone 11 will be encoded as 9, and zone 12-14 will follow."
      ],
      "metadata": {
        "id": "Yax-XenUS6wO"
      },
      "id": "Yax-XenUS6wO"
    },
    {
      "cell_type": "code",
      "source": [
        "dictionary_class = {\n",
        "  1:0,\n",
        "  2:1,\n",
        "  3:2,\n",
        "  4:3,\n",
        "  5:4,\n",
        "  6:5,\n",
        "  7:6,\n",
        "  8:7,\n",
        "  9:8,\n",
        "  11:9,\n",
        "  12:10,\n",
        "  13:11,\n",
        "  14:12\n",
        "}"
      ],
      "metadata": {
        "id": "1lTFOeqDciRi"
      },
      "id": "1lTFOeqDciRi",
      "execution_count": 170,
      "outputs": []
    },
    {
      "cell_type": "code",
      "source": [
        "new_class = [dictionary_class[class_name] for class_name in test_pitcher_df['zone']]\n",
        "test_pitcher_df['zone'] = new_class"
      ],
      "metadata": {
        "colab": {
          "base_uri": "https://localhost:8080/"
        },
        "id": "Telexozmcf6Y",
        "outputId": "b9019985-2e66-49c0-ed21-b3b933ae0e1a"
      },
      "id": "Telexozmcf6Y",
      "execution_count": 171,
      "outputs": [
        {
          "output_type": "stream",
          "name": "stderr",
          "text": [
            "<ipython-input-171-8428bcf36058>:2: SettingWithCopyWarning: \n",
            "A value is trying to be set on a copy of a slice from a DataFrame.\n",
            "Try using .loc[row_indexer,col_indexer] = value instead\n",
            "\n",
            "See the caveats in the documentation: https://pandas.pydata.org/pandas-docs/stable/user_guide/indexing.html#returning-a-view-versus-a-copy\n",
            "  test_pitcher_df['zone'] = new_class\n"
          ]
        }
      ]
    },
    {
      "cell_type": "code",
      "source": [
        "new_class = [dictionary_class[class_name] for class_name in test_pitcher_df['simple_pitch_type_enc']]\n",
        "test_pitcher_df['simple_pitch_type_enc'] = new_class"
      ],
      "metadata": {
        "colab": {
          "base_uri": "https://localhost:8080/"
        },
        "id": "-uieTsY_c641",
        "outputId": "650986aa-b92c-4908-ad9c-2e3d8339f8c5"
      },
      "id": "-uieTsY_c641",
      "execution_count": 172,
      "outputs": [
        {
          "output_type": "stream",
          "name": "stderr",
          "text": [
            "<ipython-input-172-f5fb949bfca3>:2: SettingWithCopyWarning: \n",
            "A value is trying to be set on a copy of a slice from a DataFrame.\n",
            "Try using .loc[row_indexer,col_indexer] = value instead\n",
            "\n",
            "See the caveats in the documentation: https://pandas.pydata.org/pandas-docs/stable/user_guide/indexing.html#returning-a-view-versus-a-copy\n",
            "  test_pitcher_df['simple_pitch_type_enc'] = new_class\n"
          ]
        }
      ]
    },
    {
      "cell_type": "markdown",
      "id": "Rd-By4cM23Cz",
      "metadata": {
        "id": "Rd-By4cM23Cz"
      },
      "source": [
        "### Split Dataframe by at-bat"
      ]
    },
    {
      "cell_type": "markdown",
      "id": "-l4ahh364BMu",
      "metadata": {
        "id": "-l4ahh364BMu"
      },
      "source": [
        "Although it's about the same pitcher, it would be better to split his pitching history by at-bats. First, it's less likely the \"sequencial relationship\" between pitches last between games. Second, this helps serve as a code block for processing the entire dataframe."
      ]
    },
    {
      "cell_type": "code",
      "execution_count": 173,
      "id": "lhyk_Cv47Jmx",
      "metadata": {
        "id": "lhyk_Cv47Jmx"
      },
      "outputs": [],
      "source": [
        "chunk_size = 1000  # Adjust based on your memory constraints\n",
        "\n",
        "# Initialize the dictionary to store the data\n",
        "ab_data_df = {}\n",
        "\n",
        "# Number of chunks\n",
        "num_chunks = len(test_pitcher_df) // chunk_size + 1\n",
        "\n",
        "for i in range(num_chunks):\n",
        "    start_index = i * chunk_size\n",
        "    end_index = start_index + chunk_size\n",
        "    chunk = test_pitcher_df.iloc[start_index:end_index]\n",
        "\n",
        "    # Process each chunk\n",
        "    unique_ab_ids = chunk['ab_id'].unique()\n",
        "    for ab in unique_ab_ids:\n",
        "        # Filter and drop columns for each unique ab_id\n",
        "        ab_chunk = chunk[chunk['ab_id'] == ab].drop(columns=['ab_id', 'g_id', 'pitcher_id', 'simple_pitch_type', 'top'])\n",
        "\n",
        "        if ab not in ab_data_df:\n",
        "            ab_data_df[ab] = ab_chunk\n",
        "        else:\n",
        "            ab_data_df[ab] = pd.concat([ab_data_df[ab], ab_chunk], ignore_index=True)"
      ]
    },
    {
      "cell_type": "markdown",
      "id": "T5JbWU0Y8rKe",
      "metadata": {
        "id": "T5JbWU0Y8rKe"
      },
      "source": [
        "### Create Sequence"
      ]
    },
    {
      "cell_type": "markdown",
      "id": "XPX_DftE81EY",
      "metadata": {
        "id": "XPX_DftE81EY"
      },
      "source": [
        "The purpose of creating sequence is to create sub_dataframe for every 3 pitches in each at bat.\n",
        "If an at-bat has 5 pitches, then 3 dataframe will be generated: pitch 1-3, 2-4 and 3-5."
      ]
    },
    {
      "cell_type": "code",
      "execution_count": 174,
      "id": "h0yH5yLO81Tx",
      "metadata": {
        "id": "h0yH5yLO81Tx"
      },
      "outputs": [],
      "source": [
        "seq_length = 3\n",
        "target_columns = ['zone', 'simple_pitch_type_enc']\n",
        "all_X, all_y = [], []\n",
        "\n",
        "def create_sequences(df, seq_length, target_columns):\n",
        "    xs, ys = [], []\n",
        "    for i in range(len(df) - seq_length + 1):\n",
        "        x = df.iloc[i:i + seq_length].drop(columns=target_columns).values\n",
        "        y = df.iloc[i + seq_length - 1][target_columns].values\n",
        "        xs.append(x)\n",
        "        ys.append(y)\n",
        "    # Reshape the arrays to ensure consistent dimensions\n",
        "    return np.array(xs).reshape(-1, seq_length, df.shape[1] - len(target_columns)), np.array(ys)\n",
        "for ab_id, data in ab_data_df.items():\n",
        "    X, y = create_sequences(data, seq_length, target_columns)\n",
        "    # Append only if sequences were created\n",
        "    if X.size > 0:\n",
        "       all_X.append(X)\n",
        "       all_y.append(y)\n",
        "#Combine all sequences and labels\n",
        "# Handle the case where all_X might be empty\n",
        "if all_X:\n",
        "  X = np.concatenate(all_X)\n",
        "  y = np.concatenate(all_y)\n",
        "else:\n",
        "    print(\"No sequences were created. Check your data and sequence length.\")\n",
        "    X = np.array([])\n",
        "    y = np.array([])"
      ]
    },
    {
      "cell_type": "markdown",
      "id": "SGvcon7I_IBk",
      "metadata": {
        "id": "SGvcon7I_IBk"
      },
      "source": [
        "### Train-Test Split, Tensorizing and Data loading"
      ]
    },
    {
      "cell_type": "code",
      "execution_count": 175,
      "id": "yBxeNi0O_Ld1",
      "metadata": {
        "id": "yBxeNi0O_Ld1"
      },
      "outputs": [],
      "source": [
        "import torch\n",
        "from torch.utils.data import DataLoader, TensorDataset\n",
        "from sklearn.model_selection import train_test_split\n",
        "train_size = int(len(X) * 0.8)\n",
        "X_train, X_test, y_train, y_test = train_test_split(X, y, test_size=0.2, random_state=42)\n"
      ]
    },
    {
      "cell_type": "code",
      "execution_count": 176,
      "id": "TSvGvuRJDkMu",
      "metadata": {
        "id": "TSvGvuRJDkMu"
      },
      "outputs": [],
      "source": [
        "y_train = y_train.astype(float)\n",
        "y_test = y_test.astype(float)"
      ]
    },
    {
      "cell_type": "code",
      "execution_count": 177,
      "id": "-V6_komNDihL",
      "metadata": {
        "id": "-V6_komNDihL"
      },
      "outputs": [],
      "source": [
        "# Convert to PyTorch tensors\n",
        "X_train_tensor = torch.tensor(X_train, dtype=torch.float32)\n",
        "y_train_tensor = torch.from_numpy(y_train)\n",
        "X_test_tensor = torch.tensor(X_test, dtype=torch.float32)\n",
        "y_test_tensor = torch.from_numpy(y_test)\n",
        "\n",
        "# Create DataLoader objects for bigger dataset\n",
        "#train_dataset = TensorDataset(X_train_tensor, y_train_tensor)\n",
        "#test_dataset = TensorDataset(X_test_tensor, y_test_tensor)\n",
        "#train_loader = DataLoader(train_dataset, batch_size=32, shuffle=True)\n",
        "#test_loader = DataLoader(test_dataset, batch_size=32, shuffle=False)"
      ]
    },
    {
      "cell_type": "markdown",
      "source": [
        "### Class Weight"
      ],
      "metadata": {
        "id": "bZRgr6JQLekN"
      },
      "id": "bZRgr6JQLekN"
    },
    {
      "cell_type": "markdown",
      "source": [
        "When we are encoding the target variables, there is a class imbalance problems for both targets. Fastball accounts for 50% of the total pitches, and ball zone (zone 11-14) accounts for 67% of the total pitches. We should calculate the class weight and apply it to the weight loss, hoping it will improve the performance of the model."
      ],
      "metadata": {
        "id": "K4lMfIcGLsCY"
      },
      "id": "K4lMfIcGLsCY"
    },
    {
      "cell_type": "code",
      "source": [
        "# Calculate class weights for output1 (13 classes)\n",
        "classes1, counts1 = np.unique(y_train[:, 0], return_counts=True)\n",
        "total_samples1 = len(y_train[:, 0])\n",
        "class_weights1 = total_samples1 / (len(classes1) * counts1)\n",
        "class_weights1 = torch.tensor(class_weights1, dtype=torch.float32)\n",
        "\n",
        "# Calculate class weights for output2 (4 classes)\n",
        "classes2, counts2 = np.unique(y_train[:, 1], return_counts=True)\n",
        "total_samples2 = len(y_train[:, 1])\n",
        "class_weights2 = total_samples2 / (len(classes2) * counts2)\n",
        "\n",
        "if class_weights2.shape != (4,):\n",
        "    class_weights2 = np.append(class_weights2, 0)\n",
        "class_weights2 = torch.tensor(class_weights2, dtype=torch.float32)"
      ],
      "metadata": {
        "id": "BzGjYm0ugpVV"
      },
      "id": "BzGjYm0ugpVV",
      "execution_count": 178,
      "outputs": []
    },
    {
      "cell_type": "markdown",
      "id": "otwwKCku_V5b",
      "metadata": {
        "id": "otwwKCku_V5b"
      },
      "source": [
        "### RNN Model Test Pitcher"
      ]
    },
    {
      "cell_type": "code",
      "execution_count": 179,
      "id": "-iYm6IMY_WLF",
      "metadata": {
        "colab": {
          "base_uri": "https://localhost:8080/"
        },
        "id": "-iYm6IMY_WLF",
        "outputId": "e8932480-f456-4e8d-c43e-b4456b7ce888"
      },
      "outputs": [
        {
          "output_type": "stream",
          "name": "stdout",
          "text": [
            "RNNModel(\n",
            "  (rnn): RNN(58, 50, batch_first=True)\n",
            "  (fc1): Linear(in_features=50, out_features=50, bias=True)\n",
            "  (fc2): Linear(in_features=50, out_features=50, bias=True)\n",
            "  (out1): Linear(in_features=50, out_features=13, bias=True)\n",
            "  (out2): Linear(in_features=50, out_features=4, bias=True)\n",
            "  (dropout): Dropout(p=0.5, inplace=False)\n",
            ")\n"
          ]
        }
      ],
      "source": [
        "import torch.nn as nn\n",
        "import torch.nn.functional as F\n",
        "\n",
        "class RNNModel(nn.Module):\n",
        "    def __init__(self, input_size, hidden_size, output_size1, output_size2):\n",
        "        super(RNNModel, self).__init__()\n",
        "        self.rnn = nn.RNN(input_size, hidden_size, batch_first=True)\n",
        "        self.fc1 = nn.Linear(hidden_size, hidden_size)\n",
        "        self.fc2 = nn.Linear(hidden_size, hidden_size)\n",
        "        self.out1 = nn.Linear(hidden_size, output_size1)\n",
        "        self.out2 = nn.Linear(hidden_size, output_size2)\n",
        "        self.dropout = nn.Dropout(p=0.5)\n",
        "\n",
        "    def forward(self, x):\n",
        "        out, _ = self.rnn(x)\n",
        "        out = out[:, -1, :]\n",
        "        out1 = F.relu(self.fc1(out))\n",
        "        out1 = self.dropout(out1)\n",
        "        out1 = self.out1(out1)\n",
        "\n",
        "        out2 = F.relu(self.fc2(out))\n",
        "        out2 = self.dropout(out2)\n",
        "        out2 = self.out2(out2)\n",
        "\n",
        "        return out1, out2\n",
        "\n",
        "# Define model parameters\n",
        "input_size = X_train.shape[2]\n",
        "hidden_size = 50\n",
        "output_size1 = 13  # 13 classes\n",
        "output_size2 = 4   # 4 classes\n",
        "# Initialize and print the model\n",
        "model = RNNModel(input_size, hidden_size, output_size1, output_size2)\n",
        "print(model)\n",
        "\n",
        "\n"
      ]
    },
    {
      "cell_type": "markdown",
      "id": "rt6IhHIP_cA-",
      "metadata": {
        "id": "rt6IhHIP_cA-"
      },
      "source": [
        "### Training\n",
        "\n"
      ]
    },
    {
      "cell_type": "code",
      "execution_count": 180,
      "id": "LPhqNcCC_cQa",
      "metadata": {
        "colab": {
          "base_uri": "https://localhost:8080/"
        },
        "id": "LPhqNcCC_cQa",
        "outputId": "347095a0-4778-4d0a-cb32-f6cd21beb117"
      },
      "outputs": [
        {
          "output_type": "stream",
          "name": "stdout",
          "text": [
            "Epoch 1/20, Loss: 3.9995477199554443\n",
            "Epoch 2/20, Loss: 4.004126071929932\n",
            "Epoch 3/20, Loss: 3.9865965843200684\n",
            "Epoch 4/20, Loss: 3.9677767753601074\n",
            "Epoch 5/20, Loss: 3.9913454055786133\n",
            "Epoch 6/20, Loss: 3.953181743621826\n",
            "Epoch 7/20, Loss: 3.9548697471618652\n",
            "Epoch 8/20, Loss: 3.981055736541748\n",
            "Epoch 9/20, Loss: 3.958928108215332\n",
            "Epoch 10/20, Loss: 3.9484591484069824\n",
            "Epoch 11/20, Loss: 3.9478201866149902\n",
            "Epoch 12/20, Loss: 3.979379653930664\n",
            "Epoch 13/20, Loss: 3.9778642654418945\n",
            "Epoch 14/20, Loss: 3.947373628616333\n",
            "Epoch 15/20, Loss: 3.9686896800994873\n",
            "Epoch 16/20, Loss: 3.9798505306243896\n",
            "Epoch 17/20, Loss: 3.96362042427063\n",
            "Epoch 18/20, Loss: 3.9497859477996826\n",
            "Epoch 19/20, Loss: 3.9597907066345215\n",
            "Epoch 20/20, Loss: 3.95754075050354\n"
          ]
        }
      ],
      "source": [
        "import torch.optim as optim\n",
        "\n",
        "# Define loss and optimizer\n",
        "criterion1 = nn.CrossEntropyLoss(weight=class_weights1)  # For output1 with 13 classes\n",
        "criterion2 = nn.CrossEntropyLoss(weight=class_weights2)  # For output2 with 4 classes\n",
        "optimizer = optim.Adam(model.parameters(), lr=0.001)\n",
        "\n",
        "# Training loop\n",
        "num_epochs = 20\n",
        "for epoch in range(num_epochs):\n",
        "    model.train()\n",
        "    optimizer.zero_grad()\n",
        "    outputs1, outputs2 = model(X_train_tensor)\n",
        "\n",
        "    # Subtract 1 from y_train_tensor to shift the labels to the range 0-12\n",
        "    loss1 = criterion1(outputs1, (y_train_tensor[:, 0]).long())\n",
        "    loss2 = criterion2(outputs2, (y_train_tensor[:, 1]).long())\n",
        "\n",
        "    loss = loss1 + loss2\n",
        "    loss.backward()\n",
        "    optimizer.step()\n",
        "\n",
        "    print(f'Epoch {epoch+1}/{num_epochs}, Loss: {loss.item()}')\n"
      ]
    },
    {
      "cell_type": "markdown",
      "source": [
        "### Evaluation"
      ],
      "metadata": {
        "id": "vpS6X1bTND_X"
      },
      "id": "vpS6X1bTND_X"
    },
    {
      "cell_type": "markdown",
      "source": [
        "We will look evaluate the model with loss, accuracy and review of raw output."
      ],
      "metadata": {
        "id": "-AFyMBZlNZ4y"
      },
      "id": "-AFyMBZlNZ4y"
    },
    {
      "cell_type": "markdown",
      "source": [
        "#### Training Loss v.s. Test Loss"
      ],
      "metadata": {
        "id": "4VzLutJGNH1X"
      },
      "id": "4VzLutJGNH1X"
    },
    {
      "cell_type": "code",
      "source": [
        "model.eval()\n",
        "with torch.no_grad():\n",
        "    y_pred1, y_pred2 = model(X_test_tensor) # Unpack both outputs of the model\n",
        "    y_train_pred1, y_train_pred2 = model(X_train_tensor) # Unpack both outputs of the model\n",
        "    train_loss1 = criterion1(y_train_pred1, y_train_tensor.argmax(dim=1)) # Adjust slicing if needed\n",
        "    train_loss2 = criterion2(y_train_pred2, y_train_tensor.argmax(dim=1)) # Adjust slicing if needed\n",
        "    print(f'Train Loss 1: {train_loss1.item():.4f}, Train Loss 2: {train_loss2.item():.4f}')\n",
        "    # Assuming y_test_tensor also needs to be split for two outputs\n",
        "    test_loss1 = criterion1(y_pred1, y_test_tensor.argmax(dim=1)) # Adjust slicing if needed\n",
        "    test_loss2 = criterion2(y_pred2, y_test_tensor.argmax(dim=1)) # Adjust slicing if needed\n",
        "    print(f'Test Loss 1: {test_loss1.item():.4f}, Test Loss 2: {test_loss2.item():.4f}')"
      ],
      "metadata": {
        "colab": {
          "base_uri": "https://localhost:8080/"
        },
        "id": "gMUNQjQxJXrM",
        "outputId": "f3923d57-69b9-4345-973c-7dd2c8488d48"
      },
      "id": "gMUNQjQxJXrM",
      "execution_count": 181,
      "outputs": [
        {
          "output_type": "stream",
          "name": "stdout",
          "text": [
            "Train Loss 1: 2.6218, Train Loss 2: 1.3612\n",
            "Test Loss 1: 2.6216, Test Loss 2: 1.3615\n"
          ]
        }
      ]
    },
    {
      "cell_type": "markdown",
      "source": [
        "When fine tuning the model, we will see if the loss is reduced."
      ],
      "metadata": {
        "id": "2SfhEgMfORm0"
      },
      "id": "2SfhEgMfORm0"
    },
    {
      "cell_type": "markdown",
      "source": [
        "#### Accuracy Score"
      ],
      "metadata": {
        "id": "6KWzK-4iNRvN"
      },
      "id": "6KWzK-4iNRvN"
    },
    {
      "cell_type": "markdown",
      "source": [
        "We should compare the predicted value of both target variables with the actual value to get the accuracy score. This also helps with real-life application"
      ],
      "metadata": {
        "id": "eIiyKv-SOYLX"
      },
      "id": "eIiyKv-SOYLX"
    },
    {
      "cell_type": "code",
      "execution_count": 182,
      "id": "e7a4b618-d26e-498e-b332-f3185ee36e08",
      "metadata": {
        "id": "e7a4b618-d26e-498e-b332-f3185ee36e08",
        "colab": {
          "base_uri": "https://localhost:8080/"
        },
        "outputId": "5d75790d-bdd1-4917-cd29-d8e6fd495e64"
      },
      "outputs": [
        {
          "output_type": "stream",
          "name": "stdout",
          "text": [
            "Accuracy score on test set for output 1: 1.72%\n",
            "Accuracy score on test set for output 2: 52.48%\n"
          ]
        }
      ],
      "source": [
        "from sklearn.metrics import accuracy_score\n",
        "\n",
        "# Make predictions\n",
        "with torch.no_grad():\n",
        "    y_pred1, y_pred2 = model(X_test_tensor)\n",
        "\n",
        "    # Check if y_test needs to be split for two outputs and adjust accordingly\n",
        "    # For example, if y_test is a 2D array where each row represents multiple labels:\n",
        "    y_test_1 = y_test[:, 0]  # Assuming the first column corresponds to the first output\n",
        "    y_test_2 = y_test[:, 1]  # Assuming the second column corresponds to the second output\n",
        "\n",
        "    # Convert model outputs to class predictions\n",
        "    classification1 = y_pred1.argmax(dim=1).cpu().numpy()\n",
        "    classification2 = y_pred2.argmax(dim=1).cpu().numpy()\n",
        "\n",
        "# Calculate accuracy for each output separately\n",
        "accuracy1 = accuracy_score(y_test_1, classification1)\n",
        "accuracy2 = accuracy_score(y_test_2, classification2)\n",
        "\n",
        "print(f\"Accuracy score on test set for output 1: {round(accuracy1 * 100, 2)}%\")\n",
        "print(f\"Accuracy score on test set for output 2: {round(accuracy2 * 100, 2)}%\")"
      ]
    },
    {
      "cell_type": "markdown",
      "source": [
        "#### Prediction"
      ],
      "metadata": {
        "id": "W22mb7QfNWie"
      },
      "id": "W22mb7QfNWie"
    },
    {
      "cell_type": "markdown",
      "source": [
        "Reviewing prediction set is the last step."
      ],
      "metadata": {
        "id": "gsaQafGYOqGe"
      },
      "id": "gsaQafGYOqGe"
    },
    {
      "cell_type": "code",
      "source": [
        "# During evaluation, apply softmax to the outputs to get probabilities\n",
        "with torch.no_grad():\n",
        "    logits1, logits2 = model(X_test_tensor)\n",
        "    probabilities1 = F.softmax(logits1, dim=1)\n",
        "    probabilities2 = F.softmax(logits2, dim=1)\n",
        "    predictions1 = probabilities1.argmax(dim=1)\n",
        "    predictions2 = probabilities2.argmax(dim=1)\n",
        "    print(\"Logits 1:\", logits1)\n",
        "    print(\"Probabilities 1:\", probabilities1)\n",
        "    print(\"Predictions 1:\", predictions1)\n",
        "    print(\"Logits 2:\", logits2)\n",
        "    print(\"Probabilities 2:\", probabilities2)\n",
        "    print(\"Predictions 2:\", predictions2)"
      ],
      "metadata": {
        "colab": {
          "base_uri": "https://localhost:8080/"
        },
        "id": "dWxo9ZQcNVuU",
        "outputId": "692cf4da-7d9e-482e-94c3-78ea681e75c5"
      },
      "id": "dWxo9ZQcNVuU",
      "execution_count": 183,
      "outputs": [
        {
          "output_type": "stream",
          "name": "stdout",
          "text": [
            "Logits 1: tensor([[-0.0392,  0.0190,  0.0478,  ..., -0.0061,  0.0081,  0.0342],\n",
            "        [-0.0392,  0.0190,  0.0478,  ..., -0.0061,  0.0081,  0.0342],\n",
            "        [-0.0392,  0.0190,  0.0478,  ..., -0.0061,  0.0081,  0.0342],\n",
            "        ...,\n",
            "        [-0.0392,  0.0190,  0.0478,  ..., -0.0061,  0.0081,  0.0342],\n",
            "        [-0.0392,  0.0190,  0.0478,  ..., -0.0061,  0.0081,  0.0342],\n",
            "        [-0.0392,  0.0190,  0.0478,  ..., -0.0061,  0.0081,  0.0342]])\n",
            "Probabilities 1: tensor([[0.0726, 0.0770, 0.0792,  ..., 0.0751, 0.0762, 0.0782],\n",
            "        [0.0726, 0.0770, 0.0792,  ..., 0.0751, 0.0762, 0.0782],\n",
            "        [0.0726, 0.0770, 0.0792,  ..., 0.0751, 0.0762, 0.0782],\n",
            "        ...,\n",
            "        [0.0726, 0.0770, 0.0792,  ..., 0.0751, 0.0762, 0.0782],\n",
            "        [0.0726, 0.0770, 0.0792,  ..., 0.0751, 0.0762, 0.0782],\n",
            "        [0.0726, 0.0770, 0.0792,  ..., 0.0751, 0.0762, 0.0782]])\n",
            "Predictions 1: tensor([6, 6, 6,  ..., 6, 6, 6])\n",
            "Logits 2: tensor([[-0.0957, -0.1560, -0.1302, -0.1048],\n",
            "        [-0.0957, -0.1560, -0.1302, -0.1048],\n",
            "        [-0.0957, -0.1560, -0.1302, -0.1048],\n",
            "        ...,\n",
            "        [-0.0957, -0.1560, -0.1302, -0.1048],\n",
            "        [-0.0957, -0.1560, -0.1302, -0.1048],\n",
            "        [-0.0957, -0.1560, -0.1302, -0.1048]])\n",
            "Probabilities 2: tensor([[0.2565, 0.2415, 0.2478, 0.2542],\n",
            "        [0.2565, 0.2415, 0.2478, 0.2542],\n",
            "        [0.2565, 0.2415, 0.2478, 0.2542],\n",
            "        ...,\n",
            "        [0.2565, 0.2415, 0.2478, 0.2542],\n",
            "        [0.2565, 0.2415, 0.2478, 0.2542],\n",
            "        [0.2565, 0.2415, 0.2478, 0.2542]])\n",
            "Predictions 2: tensor([0, 0, 0,  ..., 0, 0, 0])\n"
          ]
        }
      ]
    },
    {
      "cell_type": "markdown",
      "source": [
        "Unfortunately, we see that when predicting the pitch type, the model predict types to be fastball for all rows. In addition, each vector in the tensor and probability is the same. This means something is wrong with the data or training."
      ],
      "metadata": {
        "id": "BcL79PbxO0sF"
      },
      "id": "BcL79PbxO0sF"
    },
    {
      "cell_type": "markdown",
      "source": [
        "##Trial Model for One Pitcher - Softmax Regression"
      ],
      "metadata": {
        "id": "Qx7GHVtkeyQn"
      },
      "id": "Qx7GHVtkeyQn"
    },
    {
      "cell_type": "markdown",
      "source": [
        "Due to the terrible result of RNN model, I will use softmax regression as an alternative for prediction."
      ],
      "metadata": {
        "id": "eY7dY397fAGg"
      },
      "id": "eY7dY397fAGg"
    },
    {
      "cell_type": "markdown",
      "source": [
        "#### Softmax Regression on Zone"
      ],
      "metadata": {
        "id": "hrpoJkxzh6Fo"
      },
      "id": "hrpoJkxzh6Fo"
    },
    {
      "cell_type": "code",
      "source": [
        "import numpy as np\n",
        "from sklearn.datasets import make_classification\n",
        "from sklearn.linear_model import LogisticRegression\n",
        "from sklearn.metrics import accuracy_score, classification_report\n",
        "\n",
        "# Reshape X_train to 2D if it's 3D\n",
        "if X_train.ndim == 3:\n",
        "    X_train = X_train.reshape(X_train.shape[0], -1)\n",
        "if X_test.ndim == 3:\n",
        "    X_test = X_test.reshape(X_test.shape[0], -1)\n",
        "model = LogisticRegression(multi_class='multinomial', solver='lbfgs', max_iter=200)\n",
        "\n",
        "model.fit(X_train, y_train[:,0])\n",
        "\n",
        "\n",
        "y_pred = model.predict(X_test)\n",
        "\n",
        "accuracy = accuracy_score(y_test[:,0], y_pred)\n",
        "print(y_pred)\n",
        "print(f'Accuracy: {accuracy:.2f}')\n",
        "print(classification_report(y_test[:,0], y_pred))"
      ],
      "metadata": {
        "colab": {
          "base_uri": "https://localhost:8080/"
        },
        "id": "sMn4RSGWfAcg",
        "outputId": "cbf15d8c-3e8d-4f6f-8291-549cb8d4009d"
      },
      "id": "sMn4RSGWfAcg",
      "execution_count": 187,
      "outputs": [
        {
          "output_type": "stream",
          "name": "stdout",
          "text": [
            "[12. 12. 12. ... 12. 12. 12.]\n",
            "Accuracy: 0.28\n",
            "              precision    recall  f1-score   support\n",
            "\n",
            "         0.0       0.00      0.00      0.00        58\n",
            "         1.0       0.00      0.00      0.00        57\n",
            "         2.0       0.00      0.00      0.00        69\n",
            "         3.0       0.00      0.00      0.00        44\n",
            "         4.0       0.00      0.00      0.00        68\n",
            "         5.0       0.00      0.00      0.00        75\n",
            "         6.0       0.00      0.00      0.00        28\n",
            "         7.0       0.00      0.00      0.00        54\n",
            "         8.0       0.00      0.00      0.00        64\n",
            "         9.0       0.00      0.00      0.00       274\n",
            "        10.0       0.00      0.00      0.00       266\n",
            "        11.0       0.00      0.00      0.00       121\n",
            "        12.0       0.28      1.00      0.43       453\n",
            "\n",
            "    accuracy                           0.28      1631\n",
            "   macro avg       0.02      0.08      0.03      1631\n",
            "weighted avg       0.08      0.28      0.12      1631\n",
            "\n"
          ]
        },
        {
          "output_type": "stream",
          "name": "stderr",
          "text": [
            "/usr/local/lib/python3.10/dist-packages/sklearn/metrics/_classification.py:1471: UndefinedMetricWarning: Precision and F-score are ill-defined and being set to 0.0 in labels with no predicted samples. Use `zero_division` parameter to control this behavior.\n",
            "  _warn_prf(average, modifier, msg_start, len(result))\n",
            "/usr/local/lib/python3.10/dist-packages/sklearn/metrics/_classification.py:1471: UndefinedMetricWarning: Precision and F-score are ill-defined and being set to 0.0 in labels with no predicted samples. Use `zero_division` parameter to control this behavior.\n",
            "  _warn_prf(average, modifier, msg_start, len(result))\n",
            "/usr/local/lib/python3.10/dist-packages/sklearn/metrics/_classification.py:1471: UndefinedMetricWarning: Precision and F-score are ill-defined and being set to 0.0 in labels with no predicted samples. Use `zero_division` parameter to control this behavior.\n",
            "  _warn_prf(average, modifier, msg_start, len(result))\n"
          ]
        }
      ]
    },
    {
      "cell_type": "markdown",
      "source": [
        "This model is not doing good. It predicts that all the pitches goes to zone 14, which is wrong for sure. The 28% accuracy is because 28% of the total pitches goes to zone 14. We will come back to it to see what goes wrong."
      ],
      "metadata": {
        "id": "oKDuRlaEiILi"
      },
      "id": "oKDuRlaEiILi"
    },
    {
      "cell_type": "markdown",
      "source": [
        "#### Softmax Regression on Pitch Type"
      ],
      "metadata": {
        "id": "M2prR3sQiCL9"
      },
      "id": "M2prR3sQiCL9"
    },
    {
      "cell_type": "code",
      "source": [
        "model.fit(X_train, y_train[:,1])\n",
        "\n",
        "\n",
        "y_pred = model.predict(X_test)\n",
        "\n",
        "accuracy = accuracy_score(y_test[:,1], y_pred)\n",
        "print(y_pred)\n",
        "print(f'Accuracy: {accuracy:.2f}')\n",
        "print(classification_report(y_test[:,1], y_pred))"
      ],
      "metadata": {
        "colab": {
          "base_uri": "https://localhost:8080/"
        },
        "id": "hox5gzbRgeB9",
        "outputId": "f1007d0d-e0df-4d24-bd67-93e7bcf08adf"
      },
      "id": "hox5gzbRgeB9",
      "execution_count": 188,
      "outputs": [
        {
          "output_type": "stream",
          "name": "stdout",
          "text": [
            "[0. 0. 1. ... 0. 0. 1.]\n",
            "Accuracy: 0.55\n",
            "              precision    recall  f1-score   support\n",
            "\n",
            "         0.0       0.55      0.82      0.66       856\n",
            "         1.0       0.52      0.27      0.36       693\n",
            "         2.0       0.00      0.00      0.00        80\n",
            "         3.0       0.00      0.00      0.00         2\n",
            "\n",
            "    accuracy                           0.55      1631\n",
            "   macro avg       0.27      0.27      0.25      1631\n",
            "weighted avg       0.51      0.55      0.50      1631\n",
            "\n"
          ]
        },
        {
          "output_type": "stream",
          "name": "stderr",
          "text": [
            "/usr/local/lib/python3.10/dist-packages/sklearn/metrics/_classification.py:1471: UndefinedMetricWarning: Precision and F-score are ill-defined and being set to 0.0 in labels with no predicted samples. Use `zero_division` parameter to control this behavior.\n",
            "  _warn_prf(average, modifier, msg_start, len(result))\n",
            "/usr/local/lib/python3.10/dist-packages/sklearn/metrics/_classification.py:1471: UndefinedMetricWarning: Precision and F-score are ill-defined and being set to 0.0 in labels with no predicted samples. Use `zero_division` parameter to control this behavior.\n",
            "  _warn_prf(average, modifier, msg_start, len(result))\n",
            "/usr/local/lib/python3.10/dist-packages/sklearn/metrics/_classification.py:1471: UndefinedMetricWarning: Precision and F-score are ill-defined and being set to 0.0 in labels with no predicted samples. Use `zero_division` parameter to control this behavior.\n",
            "  _warn_prf(average, modifier, msg_start, len(result))\n"
          ]
        }
      ]
    },
    {
      "cell_type": "markdown",
      "source": [
        "Due to the smaller number of classes, the model performs better when predicting pitch type. However, this model didn't predict any off-speed pitches."
      ],
      "metadata": {
        "id": "wZGCNEHjiclO"
      },
      "id": "wZGCNEHjiclO"
    }
  ],
  "metadata": {
    "colab": {
      "collapsed_sections": [
        "22882850-51fa-4bbe-95b1-e6b70b6377eb",
        "262574e4-9303-47c3-9e61-c7f08e4c35f0",
        "138a9c2a-b9c8-42cd-a127-ffcd1555ba85",
        "ffbdf657-bb92-4df2-9a1b-9a4b03fbee1f",
        "1be676af-2a05-428d-aaae-d7afc06f2942",
        "49fc9af6-3f77-45b5-b898-5dd8e66b053f",
        "389bb95e-43a2-463c-8555-6e2de8b4e927",
        "646a104f-c343-4d6d-b791-55a2dbf44d4b",
        "c9c2f64e-8e94-4f87-b717-b0d84fa7f24a",
        "d24e81b6-a382-4dd0-9475-23070c014f55",
        "d2714ba2-381e-4968-8496-ec05a48b3f4e",
        "1b1614c0-c242-4622-8f27-1f3b91543616",
        "3be965c4-57f1-412e-882f-1fe85786dcb3",
        "4f683b10-b46e-47b3-9d5f-c246a7d1b09d",
        "df8d5751-68e1-4cb9-b5d7-12ffbcb22924",
        "2b8910b0-2ed3-4ef0-a35b-045b48550f65",
        "00d0d9ed-4e52-41cc-b859-75c08c23e951",
        "OBDMkYioHueT",
        "Rd-By4cM23Cz",
        "T5JbWU0Y8rKe",
        "SGvcon7I_IBk",
        "bZRgr6JQLekN",
        "otwwKCku_V5b",
        "rt6IhHIP_cA-",
        "vpS6X1bTND_X"
      ],
      "machine_shape": "hm",
      "provenance": [],
      "toc_visible": true,
      "gpuType": "A100"
    },
    "kernelspec": {
      "display_name": "Python 3",
      "name": "python3"
    },
    "language_info": {
      "codemirror_mode": {
        "name": "ipython",
        "version": 3
      },
      "file_extension": ".py",
      "mimetype": "text/x-python",
      "name": "python",
      "nbconvert_exporter": "python",
      "pygments_lexer": "ipython3",
      "version": "3.12.4"
    },
    "accelerator": "GPU"
  },
  "nbformat": 4,
  "nbformat_minor": 5
}
